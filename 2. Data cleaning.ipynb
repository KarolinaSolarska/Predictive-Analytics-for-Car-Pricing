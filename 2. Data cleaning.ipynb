{
 "cells": [
  {
   "cell_type": "code",
   "execution_count": 1644,
   "metadata": {},
   "outputs": [],
   "source": [
    "import pandas as pd\n",
    "import matplotlib.pyplot as plt\n",
    "import seaborn as sns"
   ]
  },
  {
   "cell_type": "code",
   "execution_count": 1645,
   "metadata": {},
   "outputs": [],
   "source": [
    "data = pd.read_csv('data\\\\data_overview.csv.gz', compression='gzip')"
   ]
  },
  {
   "cell_type": "code",
   "execution_count": 1646,
   "metadata": {},
   "outputs": [
    {
     "data": {
      "text/html": [
       "<div>\n",
       "<style scoped>\n",
       "    .dataframe tbody tr th:only-of-type {\n",
       "        vertical-align: middle;\n",
       "    }\n",
       "\n",
       "    .dataframe tbody tr th {\n",
       "        vertical-align: top;\n",
       "    }\n",
       "\n",
       "    .dataframe thead th {\n",
       "        text-align: right;\n",
       "    }\n",
       "</style>\n",
       "<table border=\"1\" class=\"dataframe\">\n",
       "  <thead>\n",
       "    <tr style=\"text-align: right;\">\n",
       "      <th></th>\n",
       "      <th>brand</th>\n",
       "      <th>model</th>\n",
       "      <th>year_production</th>\n",
       "      <th>mileage</th>\n",
       "      <th>engine_capacity</th>\n",
       "      <th>fuel_type</th>\n",
       "      <th>power</th>\n",
       "      <th>gearbox</th>\n",
       "      <th>drive_type</th>\n",
       "      <th>body_type</th>\n",
       "      <th>doors</th>\n",
       "      <th>color</th>\n",
       "      <th>metallic</th>\n",
       "      <th>country_origin</th>\n",
       "      <th>first_owner</th>\n",
       "      <th>accident_free</th>\n",
       "      <th>condition</th>\n",
       "      <th>price</th>\n",
       "      <th>currency</th>\n",
       "    </tr>\n",
       "  </thead>\n",
       "  <tbody>\n",
       "    <tr>\n",
       "      <th>0</th>\n",
       "      <td>Abarth</td>\n",
       "      <td>595</td>\n",
       "      <td>2021.0</td>\n",
       "      <td>15 900 km</td>\n",
       "      <td>1 368 cm3</td>\n",
       "      <td>Benzyna</td>\n",
       "      <td>165 KM</td>\n",
       "      <td>Manualna</td>\n",
       "      <td>NaN</td>\n",
       "      <td>Auta małe</td>\n",
       "      <td>3.0</td>\n",
       "      <td>Niebieski</td>\n",
       "      <td>NaN</td>\n",
       "      <td>NaN</td>\n",
       "      <td>NaN</td>\n",
       "      <td>NaN</td>\n",
       "      <td>Używane</td>\n",
       "      <td>65000</td>\n",
       "      <td>PLN</td>\n",
       "    </tr>\n",
       "    <tr>\n",
       "      <th>1</th>\n",
       "      <td>Abarth</td>\n",
       "      <td>595</td>\n",
       "      <td>2018.0</td>\n",
       "      <td>48 000 km</td>\n",
       "      <td>1 368 cm3</td>\n",
       "      <td>Benzyna</td>\n",
       "      <td>145 KM</td>\n",
       "      <td>Manualna</td>\n",
       "      <td>Na przednie koła</td>\n",
       "      <td>Auta małe</td>\n",
       "      <td>3.0</td>\n",
       "      <td>Biały</td>\n",
       "      <td>NaN</td>\n",
       "      <td>Polska</td>\n",
       "      <td>NaN</td>\n",
       "      <td>Tak</td>\n",
       "      <td>Używane</td>\n",
       "      <td>82999</td>\n",
       "      <td>PLN</td>\n",
       "    </tr>\n",
       "    <tr>\n",
       "      <th>2</th>\n",
       "      <td>Abarth</td>\n",
       "      <td>595</td>\n",
       "      <td>2016.0</td>\n",
       "      <td>54 500 km</td>\n",
       "      <td>1 368 cm3</td>\n",
       "      <td>Benzyna</td>\n",
       "      <td>145 KM</td>\n",
       "      <td>Manualna</td>\n",
       "      <td>Na przednie koła</td>\n",
       "      <td>Auta małe</td>\n",
       "      <td>3.0</td>\n",
       "      <td>Czerwony</td>\n",
       "      <td>NaN</td>\n",
       "      <td>NaN</td>\n",
       "      <td>NaN</td>\n",
       "      <td>NaN</td>\n",
       "      <td>Używane</td>\n",
       "      <td>59900</td>\n",
       "      <td>PLN</td>\n",
       "    </tr>\n",
       "    <tr>\n",
       "      <th>3</th>\n",
       "      <td>Abarth</td>\n",
       "      <td>500</td>\n",
       "      <td>2023.0</td>\n",
       "      <td>5 578 km</td>\n",
       "      <td>1 368 cm3</td>\n",
       "      <td>Benzyna</td>\n",
       "      <td>165 KM</td>\n",
       "      <td>Automatyczna</td>\n",
       "      <td>Na przednie koła</td>\n",
       "      <td>Auta małe</td>\n",
       "      <td>3.0</td>\n",
       "      <td>Szary</td>\n",
       "      <td>NaN</td>\n",
       "      <td>Polska</td>\n",
       "      <td>NaN</td>\n",
       "      <td>Tak</td>\n",
       "      <td>Używane</td>\n",
       "      <td>135000</td>\n",
       "      <td>PLN</td>\n",
       "    </tr>\n",
       "    <tr>\n",
       "      <th>4</th>\n",
       "      <td>Abarth</td>\n",
       "      <td>595</td>\n",
       "      <td>2019.0</td>\n",
       "      <td>116 000 km</td>\n",
       "      <td>1 368 cm3</td>\n",
       "      <td>Benzyna</td>\n",
       "      <td>165 KM</td>\n",
       "      <td>Manualna</td>\n",
       "      <td>Na przednie koła</td>\n",
       "      <td>Kompakt</td>\n",
       "      <td>3.0</td>\n",
       "      <td>Niebieski</td>\n",
       "      <td>NaN</td>\n",
       "      <td>Włochy</td>\n",
       "      <td>NaN</td>\n",
       "      <td>Tak</td>\n",
       "      <td>Używane</td>\n",
       "      <td>79900</td>\n",
       "      <td>PLN</td>\n",
       "    </tr>\n",
       "  </tbody>\n",
       "</table>\n",
       "</div>"
      ],
      "text/plain": [
       "    brand model  year_production     mileage engine_capacity fuel_type  \\\n",
       "0  Abarth   595           2021.0   15 900 km       1 368 cm3   Benzyna   \n",
       "1  Abarth   595           2018.0   48 000 km       1 368 cm3   Benzyna   \n",
       "2  Abarth   595           2016.0   54 500 km       1 368 cm3   Benzyna   \n",
       "3  Abarth   500           2023.0    5 578 km       1 368 cm3   Benzyna   \n",
       "4  Abarth   595           2019.0  116 000 km       1 368 cm3   Benzyna   \n",
       "\n",
       "    power       gearbox        drive_type  body_type  doors      color  \\\n",
       "0  165 KM      Manualna               NaN  Auta małe    3.0  Niebieski   \n",
       "1  145 KM      Manualna  Na przednie koła  Auta małe    3.0      Biały   \n",
       "2  145 KM      Manualna  Na przednie koła  Auta małe    3.0   Czerwony   \n",
       "3  165 KM  Automatyczna  Na przednie koła  Auta małe    3.0      Szary   \n",
       "4  165 KM      Manualna  Na przednie koła    Kompakt    3.0  Niebieski   \n",
       "\n",
       "   metallic country_origin  first_owner accident_free condition   price  \\\n",
       "0       NaN            NaN          NaN           NaN   Używane   65000   \n",
       "1       NaN         Polska          NaN           Tak   Używane   82999   \n",
       "2       NaN            NaN          NaN           NaN   Używane   59900   \n",
       "3       NaN         Polska          NaN           Tak   Używane  135000   \n",
       "4       NaN         Włochy          NaN           Tak   Używane   79900   \n",
       "\n",
       "  currency  \n",
       "0      PLN  \n",
       "1      PLN  \n",
       "2      PLN  \n",
       "3      PLN  \n",
       "4      PLN  "
      ]
     },
     "execution_count": 1646,
     "metadata": {},
     "output_type": "execute_result"
    }
   ],
   "source": [
    "data.head()"
   ]
  },
  {
   "cell_type": "markdown",
   "metadata": {},
   "source": [
    "### brand - Brand of the vehicle"
   ]
  },
  {
   "cell_type": "code",
   "execution_count": 1647,
   "metadata": {},
   "outputs": [
    {
     "data": {
      "text/plain": [
       "4"
      ]
     },
     "execution_count": 1647,
     "metadata": {},
     "output_type": "execute_result"
    }
   ],
   "source": [
    "# Count the number of missing values\n",
    "data['brand'].isna().sum()"
   ]
  },
  {
   "cell_type": "code",
   "execution_count": 1648,
   "metadata": {},
   "outputs": [],
   "source": [
    "# Remove rows with missing values\n",
    "data = data.dropna(subset=['brand'])"
   ]
  },
  {
   "cell_type": "code",
   "execution_count": 1649,
   "metadata": {},
   "outputs": [
    {
     "name": "stdout",
     "output_type": "stream",
     "text": [
      "object\n"
     ]
    }
   ],
   "source": [
    "type_brand = data['brand'].dtype\n",
    "print(type_brand)"
   ]
  },
  {
   "cell_type": "code",
   "execution_count": 1650,
   "metadata": {},
   "outputs": [
    {
     "data": {
      "text/plain": [
       "brand\n",
       "BMW           20888\n",
       "Audi          20575\n",
       "Ford          19018\n",
       "Skoda         14266\n",
       "Renault       13311\n",
       "              ...  \n",
       "Omoda             2\n",
       "Brilliance        1\n",
       "Jetour            1\n",
       "Skywell           1\n",
       "BYD               1\n",
       "Name: count, Length: 103, dtype: int64"
      ]
     },
     "execution_count": 1650,
     "metadata": {},
     "output_type": "execute_result"
    }
   ],
   "source": [
    "# Display unique values and their counts\n",
    "unique_brand = data['brand'].value_counts()\n",
    "\n",
    "unique_brand"
   ]
  },
  {
   "cell_type": "code",
   "execution_count": 1651,
   "metadata": {},
   "outputs": [],
   "source": [
    "# Identify brands with counts >= 100\n",
    "brands_to_keep = unique_brand[unique_brand >= 100].index\n",
    "\n",
    "# Filter the dataset to keep only these brands\n",
    "data_filtered = data[data['brand'].isin(brands_to_keep)]"
   ]
  },
  {
   "cell_type": "markdown",
   "metadata": {},
   "source": [
    "perform one-hot encoding"
   ]
  },
  {
   "cell_type": "code",
   "execution_count": 1652,
   "metadata": {},
   "outputs": [],
   "source": [
    "# Perform one-hot encoding for the 'brand' column\n",
    "data = pd.get_dummies(data, columns=['brand'], prefix='', prefix_sep='')"
   ]
  },
  {
   "cell_type": "code",
   "execution_count": 1653,
   "metadata": {},
   "outputs": [
    {
     "data": {
      "text/html": [
       "<div>\n",
       "<style scoped>\n",
       "    .dataframe tbody tr th:only-of-type {\n",
       "        vertical-align: middle;\n",
       "    }\n",
       "\n",
       "    .dataframe tbody tr th {\n",
       "        vertical-align: top;\n",
       "    }\n",
       "\n",
       "    .dataframe thead th {\n",
       "        text-align: right;\n",
       "    }\n",
       "</style>\n",
       "<table border=\"1\" class=\"dataframe\">\n",
       "  <thead>\n",
       "    <tr style=\"text-align: right;\">\n",
       "      <th></th>\n",
       "      <th>model</th>\n",
       "      <th>year_production</th>\n",
       "      <th>mileage</th>\n",
       "      <th>engine_capacity</th>\n",
       "      <th>fuel_type</th>\n",
       "      <th>power</th>\n",
       "      <th>gearbox</th>\n",
       "      <th>drive_type</th>\n",
       "      <th>body_type</th>\n",
       "      <th>doors</th>\n",
       "      <th>...</th>\n",
       "      <th>Triumph</th>\n",
       "      <th>Uaz</th>\n",
       "      <th>VELEX</th>\n",
       "      <th>Volkswagen</th>\n",
       "      <th>Volvo</th>\n",
       "      <th>Warszawa</th>\n",
       "      <th>Wartburg</th>\n",
       "      <th>Wołga</th>\n",
       "      <th>e.GO</th>\n",
       "      <th>Żuk</th>\n",
       "    </tr>\n",
       "  </thead>\n",
       "  <tbody>\n",
       "    <tr>\n",
       "      <th>0</th>\n",
       "      <td>595</td>\n",
       "      <td>2021.0</td>\n",
       "      <td>15 900 km</td>\n",
       "      <td>1 368 cm3</td>\n",
       "      <td>Benzyna</td>\n",
       "      <td>165 KM</td>\n",
       "      <td>Manualna</td>\n",
       "      <td>NaN</td>\n",
       "      <td>Auta małe</td>\n",
       "      <td>3.0</td>\n",
       "      <td>...</td>\n",
       "      <td>False</td>\n",
       "      <td>False</td>\n",
       "      <td>False</td>\n",
       "      <td>False</td>\n",
       "      <td>False</td>\n",
       "      <td>False</td>\n",
       "      <td>False</td>\n",
       "      <td>False</td>\n",
       "      <td>False</td>\n",
       "      <td>False</td>\n",
       "    </tr>\n",
       "    <tr>\n",
       "      <th>1</th>\n",
       "      <td>595</td>\n",
       "      <td>2018.0</td>\n",
       "      <td>48 000 km</td>\n",
       "      <td>1 368 cm3</td>\n",
       "      <td>Benzyna</td>\n",
       "      <td>145 KM</td>\n",
       "      <td>Manualna</td>\n",
       "      <td>Na przednie koła</td>\n",
       "      <td>Auta małe</td>\n",
       "      <td>3.0</td>\n",
       "      <td>...</td>\n",
       "      <td>False</td>\n",
       "      <td>False</td>\n",
       "      <td>False</td>\n",
       "      <td>False</td>\n",
       "      <td>False</td>\n",
       "      <td>False</td>\n",
       "      <td>False</td>\n",
       "      <td>False</td>\n",
       "      <td>False</td>\n",
       "      <td>False</td>\n",
       "    </tr>\n",
       "    <tr>\n",
       "      <th>2</th>\n",
       "      <td>595</td>\n",
       "      <td>2016.0</td>\n",
       "      <td>54 500 km</td>\n",
       "      <td>1 368 cm3</td>\n",
       "      <td>Benzyna</td>\n",
       "      <td>145 KM</td>\n",
       "      <td>Manualna</td>\n",
       "      <td>Na przednie koła</td>\n",
       "      <td>Auta małe</td>\n",
       "      <td>3.0</td>\n",
       "      <td>...</td>\n",
       "      <td>False</td>\n",
       "      <td>False</td>\n",
       "      <td>False</td>\n",
       "      <td>False</td>\n",
       "      <td>False</td>\n",
       "      <td>False</td>\n",
       "      <td>False</td>\n",
       "      <td>False</td>\n",
       "      <td>False</td>\n",
       "      <td>False</td>\n",
       "    </tr>\n",
       "    <tr>\n",
       "      <th>3</th>\n",
       "      <td>500</td>\n",
       "      <td>2023.0</td>\n",
       "      <td>5 578 km</td>\n",
       "      <td>1 368 cm3</td>\n",
       "      <td>Benzyna</td>\n",
       "      <td>165 KM</td>\n",
       "      <td>Automatyczna</td>\n",
       "      <td>Na przednie koła</td>\n",
       "      <td>Auta małe</td>\n",
       "      <td>3.0</td>\n",
       "      <td>...</td>\n",
       "      <td>False</td>\n",
       "      <td>False</td>\n",
       "      <td>False</td>\n",
       "      <td>False</td>\n",
       "      <td>False</td>\n",
       "      <td>False</td>\n",
       "      <td>False</td>\n",
       "      <td>False</td>\n",
       "      <td>False</td>\n",
       "      <td>False</td>\n",
       "    </tr>\n",
       "    <tr>\n",
       "      <th>4</th>\n",
       "      <td>595</td>\n",
       "      <td>2019.0</td>\n",
       "      <td>116 000 km</td>\n",
       "      <td>1 368 cm3</td>\n",
       "      <td>Benzyna</td>\n",
       "      <td>165 KM</td>\n",
       "      <td>Manualna</td>\n",
       "      <td>Na przednie koła</td>\n",
       "      <td>Kompakt</td>\n",
       "      <td>3.0</td>\n",
       "      <td>...</td>\n",
       "      <td>False</td>\n",
       "      <td>False</td>\n",
       "      <td>False</td>\n",
       "      <td>False</td>\n",
       "      <td>False</td>\n",
       "      <td>False</td>\n",
       "      <td>False</td>\n",
       "      <td>False</td>\n",
       "      <td>False</td>\n",
       "      <td>False</td>\n",
       "    </tr>\n",
       "  </tbody>\n",
       "</table>\n",
       "<p>5 rows × 121 columns</p>\n",
       "</div>"
      ],
      "text/plain": [
       "  model  year_production     mileage engine_capacity fuel_type   power  \\\n",
       "0   595           2021.0   15 900 km       1 368 cm3   Benzyna  165 KM   \n",
       "1   595           2018.0   48 000 km       1 368 cm3   Benzyna  145 KM   \n",
       "2   595           2016.0   54 500 km       1 368 cm3   Benzyna  145 KM   \n",
       "3   500           2023.0    5 578 km       1 368 cm3   Benzyna  165 KM   \n",
       "4   595           2019.0  116 000 km       1 368 cm3   Benzyna  165 KM   \n",
       "\n",
       "        gearbox        drive_type  body_type  doors  ... Triumph    Uaz  \\\n",
       "0      Manualna               NaN  Auta małe    3.0  ...   False  False   \n",
       "1      Manualna  Na przednie koła  Auta małe    3.0  ...   False  False   \n",
       "2      Manualna  Na przednie koła  Auta małe    3.0  ...   False  False   \n",
       "3  Automatyczna  Na przednie koła  Auta małe    3.0  ...   False  False   \n",
       "4      Manualna  Na przednie koła    Kompakt    3.0  ...   False  False   \n",
       "\n",
       "   VELEX  Volkswagen  Volvo Warszawa Wartburg  Wołga   e.GO    Żuk  \n",
       "0  False       False  False    False    False  False  False  False  \n",
       "1  False       False  False    False    False  False  False  False  \n",
       "2  False       False  False    False    False  False  False  False  \n",
       "3  False       False  False    False    False  False  False  False  \n",
       "4  False       False  False    False    False  False  False  False  \n",
       "\n",
       "[5 rows x 121 columns]"
      ]
     },
     "execution_count": 1653,
     "metadata": {},
     "output_type": "execute_result"
    }
   ],
   "source": [
    "data.head()"
   ]
  },
  {
   "cell_type": "markdown",
   "metadata": {},
   "source": [
    "### model - Model of the vehicle"
   ]
  },
  {
   "cell_type": "code",
   "execution_count": 1654,
   "metadata": {},
   "outputs": [
    {
     "name": "stdout",
     "output_type": "stream",
     "text": [
      "object\n"
     ]
    }
   ],
   "source": [
    "type_brand = data['model'].dtype\n",
    "print(type_brand)"
   ]
  },
  {
   "cell_type": "code",
   "execution_count": 1655,
   "metadata": {},
   "outputs": [
    {
     "data": {
      "text/plain": [
       "model\n",
       "Octavia       4833\n",
       "A4            4711\n",
       "Seria 3       4361\n",
       "Focus         4035\n",
       "Seria 5       4000\n",
       "              ... \n",
       "2105             1\n",
       "Diablo           1\n",
       "Murcielago       1\n",
       "Beta             1\n",
       "929              1\n",
       "Name: count, Length: 1274, dtype: int64"
      ]
     },
     "execution_count": 1655,
     "metadata": {},
     "output_type": "execute_result"
    }
   ],
   "source": [
    "# Display unique values and their counts\n",
    "unique_model = data['model'].value_counts()\n",
    "\n",
    "unique_model"
   ]
  },
  {
   "cell_type": "markdown",
   "metadata": {},
   "source": [
    "Model column has too much unique values, so we decided to remove this variable."
   ]
  },
  {
   "cell_type": "code",
   "execution_count": 1656,
   "metadata": {},
   "outputs": [],
   "source": [
    "# Remove the 'model' column\n",
    "data = data.drop(columns=['model'])"
   ]
  },
  {
   "cell_type": "markdown",
   "metadata": {},
   "source": [
    "### year_production - Year of production"
   ]
  },
  {
   "cell_type": "code",
   "execution_count": 1657,
   "metadata": {},
   "outputs": [
    {
     "data": {
      "text/plain": [
       "0"
      ]
     },
     "execution_count": 1657,
     "metadata": {},
     "output_type": "execute_result"
    }
   ],
   "source": [
    "# Count the number of missing values\n",
    "data['year_production'].isna().sum()"
   ]
  },
  {
   "cell_type": "code",
   "execution_count": 1658,
   "metadata": {},
   "outputs": [
    {
     "name": "stdout",
     "output_type": "stream",
     "text": [
      "float64\n"
     ]
    }
   ],
   "source": [
    "type_year_production = data['year_production'].dtype\n",
    "print(type_year_production)"
   ]
  },
  {
   "cell_type": "code",
   "execution_count": 1659,
   "metadata": {},
   "outputs": [],
   "source": [
    "# Convert 'year_production' to integer\n",
    "data['year_production'] = data['year_production'].astype(int)"
   ]
  },
  {
   "cell_type": "code",
   "execution_count": 1660,
   "metadata": {},
   "outputs": [
    {
     "data": {
      "text/plain": [
       "year_production\n",
       "2019    14659\n",
       "2018    14408\n",
       "2017    13869\n",
       "2023    13176\n",
       "2016    12723\n",
       "        ...  \n",
       "1937        1\n",
       "1915        1\n",
       "1900        1\n",
       "1939        1\n",
       "1935        1\n",
       "Name: count, Length: 90, dtype: int64"
      ]
     },
     "execution_count": 1660,
     "metadata": {},
     "output_type": "execute_result"
    }
   ],
   "source": [
    "# Display unique values and their counts\n",
    "unique_year_production = data['year_production'].value_counts()\n",
    "\n",
    "unique_year_production"
   ]
  },
  {
   "cell_type": "code",
   "execution_count": 1661,
   "metadata": {},
   "outputs": [
    {
     "data": {
      "image/png": "[encoded data removed]",
      "text/plain": [
       "<Figure size 1000x600 with 1 Axes>"
      ]
     },
     "metadata": {},
     "output_type": "display_data"
    }
   ],
   "source": [
    "# change data type as numeric\n",
    "data['price'] = pd.to_numeric(data['price'], errors='coerce')\n",
    "\n",
    "# Group by 'year_production' and calculate the mean price for each year\n",
    "mean_price_per_year = data.groupby('year_production')['price'].mean().reset_index()\n",
    "\n",
    "# Plot the data\n",
    "plt.figure(figsize=(10, 6))\n",
    "plt.plot(mean_price_per_year['year_production'], mean_price_per_year['price'], marker='o')\n",
    "plt.title('Mean Price by Year of Production')\n",
    "plt.xlabel('Year of Production')\n",
    "plt.ylabel('Mean Price')\n",
    "plt.grid(True)\n",
    "plt.show()"
   ]
  },
  {
   "cell_type": "code",
   "execution_count": 1662,
   "metadata": {},
   "outputs": [
    {
     "data": {
      "text/html": [
       "<div>\n",
       "<style scoped>\n",
       "    .dataframe tbody tr th:only-of-type {\n",
       "        vertical-align: middle;\n",
       "    }\n",
       "\n",
       "    .dataframe tbody tr th {\n",
       "        vertical-align: top;\n",
       "    }\n",
       "\n",
       "    .dataframe thead th {\n",
       "        text-align: right;\n",
       "    }\n",
       "</style>\n",
       "<table border=\"1\" class=\"dataframe\">\n",
       "  <thead>\n",
       "    <tr style=\"text-align: right;\">\n",
       "      <th></th>\n",
       "      <th>year_production</th>\n",
       "      <th>mileage</th>\n",
       "      <th>engine_capacity</th>\n",
       "      <th>fuel_type</th>\n",
       "      <th>power</th>\n",
       "      <th>gearbox</th>\n",
       "      <th>drive_type</th>\n",
       "      <th>body_type</th>\n",
       "      <th>doors</th>\n",
       "      <th>color</th>\n",
       "      <th>...</th>\n",
       "      <th>Triumph</th>\n",
       "      <th>Uaz</th>\n",
       "      <th>VELEX</th>\n",
       "      <th>Volkswagen</th>\n",
       "      <th>Volvo</th>\n",
       "      <th>Warszawa</th>\n",
       "      <th>Wartburg</th>\n",
       "      <th>Wołga</th>\n",
       "      <th>e.GO</th>\n",
       "      <th>Żuk</th>\n",
       "    </tr>\n",
       "  </thead>\n",
       "  <tbody>\n",
       "    <tr>\n",
       "      <th>0</th>\n",
       "      <td>2021</td>\n",
       "      <td>15 900 km</td>\n",
       "      <td>1 368 cm3</td>\n",
       "      <td>Benzyna</td>\n",
       "      <td>165 KM</td>\n",
       "      <td>Manualna</td>\n",
       "      <td>NaN</td>\n",
       "      <td>Auta małe</td>\n",
       "      <td>3.0</td>\n",
       "      <td>Niebieski</td>\n",
       "      <td>...</td>\n",
       "      <td>False</td>\n",
       "      <td>False</td>\n",
       "      <td>False</td>\n",
       "      <td>False</td>\n",
       "      <td>False</td>\n",
       "      <td>False</td>\n",
       "      <td>False</td>\n",
       "      <td>False</td>\n",
       "      <td>False</td>\n",
       "      <td>False</td>\n",
       "    </tr>\n",
       "    <tr>\n",
       "      <th>1</th>\n",
       "      <td>2018</td>\n",
       "      <td>48 000 km</td>\n",
       "      <td>1 368 cm3</td>\n",
       "      <td>Benzyna</td>\n",
       "      <td>145 KM</td>\n",
       "      <td>Manualna</td>\n",
       "      <td>Na przednie koła</td>\n",
       "      <td>Auta małe</td>\n",
       "      <td>3.0</td>\n",
       "      <td>Biały</td>\n",
       "      <td>...</td>\n",
       "      <td>False</td>\n",
       "      <td>False</td>\n",
       "      <td>False</td>\n",
       "      <td>False</td>\n",
       "      <td>False</td>\n",
       "      <td>False</td>\n",
       "      <td>False</td>\n",
       "      <td>False</td>\n",
       "      <td>False</td>\n",
       "      <td>False</td>\n",
       "    </tr>\n",
       "    <tr>\n",
       "      <th>2</th>\n",
       "      <td>2016</td>\n",
       "      <td>54 500 km</td>\n",
       "      <td>1 368 cm3</td>\n",
       "      <td>Benzyna</td>\n",
       "      <td>145 KM</td>\n",
       "      <td>Manualna</td>\n",
       "      <td>Na przednie koła</td>\n",
       "      <td>Auta małe</td>\n",
       "      <td>3.0</td>\n",
       "      <td>Czerwony</td>\n",
       "      <td>...</td>\n",
       "      <td>False</td>\n",
       "      <td>False</td>\n",
       "      <td>False</td>\n",
       "      <td>False</td>\n",
       "      <td>False</td>\n",
       "      <td>False</td>\n",
       "      <td>False</td>\n",
       "      <td>False</td>\n",
       "      <td>False</td>\n",
       "      <td>False</td>\n",
       "    </tr>\n",
       "    <tr>\n",
       "      <th>3</th>\n",
       "      <td>2023</td>\n",
       "      <td>5 578 km</td>\n",
       "      <td>1 368 cm3</td>\n",
       "      <td>Benzyna</td>\n",
       "      <td>165 KM</td>\n",
       "      <td>Automatyczna</td>\n",
       "      <td>Na przednie koła</td>\n",
       "      <td>Auta małe</td>\n",
       "      <td>3.0</td>\n",
       "      <td>Szary</td>\n",
       "      <td>...</td>\n",
       "      <td>False</td>\n",
       "      <td>False</td>\n",
       "      <td>False</td>\n",
       "      <td>False</td>\n",
       "      <td>False</td>\n",
       "      <td>False</td>\n",
       "      <td>False</td>\n",
       "      <td>False</td>\n",
       "      <td>False</td>\n",
       "      <td>False</td>\n",
       "    </tr>\n",
       "    <tr>\n",
       "      <th>4</th>\n",
       "      <td>2019</td>\n",
       "      <td>116 000 km</td>\n",
       "      <td>1 368 cm3</td>\n",
       "      <td>Benzyna</td>\n",
       "      <td>165 KM</td>\n",
       "      <td>Manualna</td>\n",
       "      <td>Na przednie koła</td>\n",
       "      <td>Kompakt</td>\n",
       "      <td>3.0</td>\n",
       "      <td>Niebieski</td>\n",
       "      <td>...</td>\n",
       "      <td>False</td>\n",
       "      <td>False</td>\n",
       "      <td>False</td>\n",
       "      <td>False</td>\n",
       "      <td>False</td>\n",
       "      <td>False</td>\n",
       "      <td>False</td>\n",
       "      <td>False</td>\n",
       "      <td>False</td>\n",
       "      <td>False</td>\n",
       "    </tr>\n",
       "  </tbody>\n",
       "</table>\n",
       "<p>5 rows × 120 columns</p>\n",
       "</div>"
      ],
      "text/plain": [
       "   year_production     mileage engine_capacity fuel_type   power  \\\n",
       "0             2021   15 900 km       1 368 cm3   Benzyna  165 KM   \n",
       "1             2018   48 000 km       1 368 cm3   Benzyna  145 KM   \n",
       "2             2016   54 500 km       1 368 cm3   Benzyna  145 KM   \n",
       "3             2023    5 578 km       1 368 cm3   Benzyna  165 KM   \n",
       "4             2019  116 000 km       1 368 cm3   Benzyna  165 KM   \n",
       "\n",
       "        gearbox        drive_type  body_type  doors      color  ...  Triumph  \\\n",
       "0      Manualna               NaN  Auta małe    3.0  Niebieski  ...    False   \n",
       "1      Manualna  Na przednie koła  Auta małe    3.0      Biały  ...    False   \n",
       "2      Manualna  Na przednie koła  Auta małe    3.0   Czerwony  ...    False   \n",
       "3  Automatyczna  Na przednie koła  Auta małe    3.0      Szary  ...    False   \n",
       "4      Manualna  Na przednie koła    Kompakt    3.0  Niebieski  ...    False   \n",
       "\n",
       "     Uaz  VELEX Volkswagen  Volvo  Warszawa Wartburg  Wołga   e.GO    Żuk  \n",
       "0  False  False      False  False     False    False  False  False  False  \n",
       "1  False  False      False  False     False    False  False  False  False  \n",
       "2  False  False      False  False     False    False  False  False  False  \n",
       "3  False  False      False  False     False    False  False  False  False  \n",
       "4  False  False      False  False     False    False  False  False  False  \n",
       "\n",
       "[5 rows x 120 columns]"
      ]
     },
     "execution_count": 1662,
     "metadata": {},
     "output_type": "execute_result"
    }
   ],
   "source": [
    "data.head()"
   ]
  },
  {
   "cell_type": "markdown",
   "metadata": {},
   "source": [
    "### mileage"
   ]
  },
  {
   "cell_type": "code",
   "execution_count": 1663,
   "metadata": {},
   "outputs": [
    {
     "data": {
      "text/plain": [
       "41"
      ]
     },
     "execution_count": 1663,
     "metadata": {},
     "output_type": "execute_result"
    }
   ],
   "source": [
    "# Count the number of missing values\n",
    "data['mileage'].isna().sum()"
   ]
  },
  {
   "cell_type": "code",
   "execution_count": 1664,
   "metadata": {},
   "outputs": [],
   "source": [
    "# Remove rows with missing values\n",
    "data = data.dropna(subset=['mileage'])"
   ]
  },
  {
   "cell_type": "code",
   "execution_count": 1665,
   "metadata": {},
   "outputs": [
    {
     "name": "stdout",
     "output_type": "stream",
     "text": [
      "object\n"
     ]
    }
   ],
   "source": [
    "type_mileage = data['mileage'].dtype\n",
    "print(type_mileage)"
   ]
  },
  {
   "cell_type": "code",
   "execution_count": 1666,
   "metadata": {},
   "outputs": [
    {
     "name": "stdout",
     "output_type": "stream",
     "text": [
      "0     15900\n",
      "1     48000\n",
      "2     54500\n",
      "3      5578\n",
      "4    116000\n",
      "Name: mileage, dtype: int32\n"
     ]
    }
   ],
   "source": [
    "# Remove ' km' from the strings and any spaces, then convert to integer\n",
    "data['mileage'] = data['mileage'].str.replace(' km', '').str.replace(' ', '').astype(int)\n",
    "\n",
    "# Check the result\n",
    "print(data['mileage'].head())"
   ]
  },
  {
   "cell_type": "code",
   "execution_count": 1667,
   "metadata": {},
   "outputs": [
    {
     "data": {
      "text/plain": [
       "mileage\n",
       "1         6097\n",
       "5         5114\n",
       "10        3192\n",
       "220000    1133\n",
       "180000    1065\n",
       "          ... \n",
       "27770        1\n",
       "58722        1\n",
       "68573        1\n",
       "216559       1\n",
       "218876       1\n",
       "Name: count, Length: 49900, dtype: int64"
      ]
     },
     "execution_count": 1667,
     "metadata": {},
     "output_type": "execute_result"
    }
   ],
   "source": [
    "# Display unique values and their counts\n",
    "unique_mileage = data['mileage'].value_counts()\n",
    "\n",
    "unique_mileage"
   ]
  },
  {
   "cell_type": "code",
   "execution_count": 1668,
   "metadata": {},
   "outputs": [],
   "source": [
    "# Remove extreme outliers for better visualization\n",
    "data = data[(data['mileage'] < 800000)]"
   ]
  },
  {
   "cell_type": "code",
   "execution_count": 1669,
   "metadata": {},
   "outputs": [
    {
     "name": "stdout",
     "output_type": "stream",
     "text": [
      "count    213899.000000\n",
      "mean     139499.793215\n",
      "std       95109.499235\n",
      "min           1.000000\n",
      "25%       61284.500000\n",
      "50%      140000.000000\n",
      "75%      204700.000000\n",
      "max      792761.000000\n",
      "Name: mileage, dtype: float64\n"
     ]
    }
   ],
   "source": [
    "# Summary statistics\n",
    "mileage_stats = data['mileage'].describe()\n",
    "print(mileage_stats)"
   ]
  },
  {
   "cell_type": "code",
   "execution_count": 1670,
   "metadata": {},
   "outputs": [
    {
     "data": {
      "image/png": "[encoded data removed]",
      "text/plain": [
       "<Figure size 1000x600 with 1 Axes>"
      ]
     },
     "metadata": {},
     "output_type": "display_data"
    }
   ],
   "source": [
    "# Plot the histogram\n",
    "plt.figure(figsize=(10, 6))\n",
    "plt.hist(data['mileage'], bins=30, edgecolor='black')\n",
    "plt.title('Distribution of Mileage')\n",
    "plt.xlabel('Mileage (in km)')\n",
    "plt.ylabel('Frequency')\n",
    "plt.grid(True)\n",
    "plt.show()"
   ]
  },
  {
   "cell_type": "code",
   "execution_count": 1671,
   "metadata": {},
   "outputs": [
    {
     "data": {
      "image/png": "[encoded data removed]",
      "text/plain": [
       "<Figure size 1000x600 with 1 Axes>"
      ]
     },
     "metadata": {},
     "output_type": "display_data"
    }
   ],
   "source": [
    "# Plot the scatter plot\n",
    "plt.figure(figsize=(10, 6))\n",
    "plt.scatter(data['mileage'], data['price'], alpha=0.5)\n",
    "plt.title('Relationship between Mileage and Price')\n",
    "plt.xlabel('Mileage (in km)')\n",
    "plt.ylabel('Price')\n",
    "plt.grid(True)\n",
    "plt.show()"
   ]
  },
  {
   "cell_type": "code",
   "execution_count": 1672,
   "metadata": {},
   "outputs": [
    {
     "data": {
      "text/html": [
       "<div>\n",
       "<style scoped>\n",
       "    .dataframe tbody tr th:only-of-type {\n",
       "        vertical-align: middle;\n",
       "    }\n",
       "\n",
       "    .dataframe tbody tr th {\n",
       "        vertical-align: top;\n",
       "    }\n",
       "\n",
       "    .dataframe thead th {\n",
       "        text-align: right;\n",
       "    }\n",
       "</style>\n",
       "<table border=\"1\" class=\"dataframe\">\n",
       "  <thead>\n",
       "    <tr style=\"text-align: right;\">\n",
       "      <th></th>\n",
       "      <th>year_production</th>\n",
       "      <th>mileage</th>\n",
       "      <th>engine_capacity</th>\n",
       "      <th>fuel_type</th>\n",
       "      <th>power</th>\n",
       "      <th>gearbox</th>\n",
       "      <th>drive_type</th>\n",
       "      <th>body_type</th>\n",
       "      <th>doors</th>\n",
       "      <th>color</th>\n",
       "      <th>...</th>\n",
       "      <th>Triumph</th>\n",
       "      <th>Uaz</th>\n",
       "      <th>VELEX</th>\n",
       "      <th>Volkswagen</th>\n",
       "      <th>Volvo</th>\n",
       "      <th>Warszawa</th>\n",
       "      <th>Wartburg</th>\n",
       "      <th>Wołga</th>\n",
       "      <th>e.GO</th>\n",
       "      <th>Żuk</th>\n",
       "    </tr>\n",
       "  </thead>\n",
       "  <tbody>\n",
       "    <tr>\n",
       "      <th>0</th>\n",
       "      <td>2021</td>\n",
       "      <td>15900</td>\n",
       "      <td>1 368 cm3</td>\n",
       "      <td>Benzyna</td>\n",
       "      <td>165 KM</td>\n",
       "      <td>Manualna</td>\n",
       "      <td>NaN</td>\n",
       "      <td>Auta małe</td>\n",
       "      <td>3.0</td>\n",
       "      <td>Niebieski</td>\n",
       "      <td>...</td>\n",
       "      <td>False</td>\n",
       "      <td>False</td>\n",
       "      <td>False</td>\n",
       "      <td>False</td>\n",
       "      <td>False</td>\n",
       "      <td>False</td>\n",
       "      <td>False</td>\n",
       "      <td>False</td>\n",
       "      <td>False</td>\n",
       "      <td>False</td>\n",
       "    </tr>\n",
       "    <tr>\n",
       "      <th>1</th>\n",
       "      <td>2018</td>\n",
       "      <td>48000</td>\n",
       "      <td>1 368 cm3</td>\n",
       "      <td>Benzyna</td>\n",
       "      <td>145 KM</td>\n",
       "      <td>Manualna</td>\n",
       "      <td>Na przednie koła</td>\n",
       "      <td>Auta małe</td>\n",
       "      <td>3.0</td>\n",
       "      <td>Biały</td>\n",
       "      <td>...</td>\n",
       "      <td>False</td>\n",
       "      <td>False</td>\n",
       "      <td>False</td>\n",
       "      <td>False</td>\n",
       "      <td>False</td>\n",
       "      <td>False</td>\n",
       "      <td>False</td>\n",
       "      <td>False</td>\n",
       "      <td>False</td>\n",
       "      <td>False</td>\n",
       "    </tr>\n",
       "    <tr>\n",
       "      <th>2</th>\n",
       "      <td>2016</td>\n",
       "      <td>54500</td>\n",
       "      <td>1 368 cm3</td>\n",
       "      <td>Benzyna</td>\n",
       "      <td>145 KM</td>\n",
       "      <td>Manualna</td>\n",
       "      <td>Na przednie koła</td>\n",
       "      <td>Auta małe</td>\n",
       "      <td>3.0</td>\n",
       "      <td>Czerwony</td>\n",
       "      <td>...</td>\n",
       "      <td>False</td>\n",
       "      <td>False</td>\n",
       "      <td>False</td>\n",
       "      <td>False</td>\n",
       "      <td>False</td>\n",
       "      <td>False</td>\n",
       "      <td>False</td>\n",
       "      <td>False</td>\n",
       "      <td>False</td>\n",
       "      <td>False</td>\n",
       "    </tr>\n",
       "    <tr>\n",
       "      <th>3</th>\n",
       "      <td>2023</td>\n",
       "      <td>5578</td>\n",
       "      <td>1 368 cm3</td>\n",
       "      <td>Benzyna</td>\n",
       "      <td>165 KM</td>\n",
       "      <td>Automatyczna</td>\n",
       "      <td>Na przednie koła</td>\n",
       "      <td>Auta małe</td>\n",
       "      <td>3.0</td>\n",
       "      <td>Szary</td>\n",
       "      <td>...</td>\n",
       "      <td>False</td>\n",
       "      <td>False</td>\n",
       "      <td>False</td>\n",
       "      <td>False</td>\n",
       "      <td>False</td>\n",
       "      <td>False</td>\n",
       "      <td>False</td>\n",
       "      <td>False</td>\n",
       "      <td>False</td>\n",
       "      <td>False</td>\n",
       "    </tr>\n",
       "    <tr>\n",
       "      <th>4</th>\n",
       "      <td>2019</td>\n",
       "      <td>116000</td>\n",
       "      <td>1 368 cm3</td>\n",
       "      <td>Benzyna</td>\n",
       "      <td>165 KM</td>\n",
       "      <td>Manualna</td>\n",
       "      <td>Na przednie koła</td>\n",
       "      <td>Kompakt</td>\n",
       "      <td>3.0</td>\n",
       "      <td>Niebieski</td>\n",
       "      <td>...</td>\n",
       "      <td>False</td>\n",
       "      <td>False</td>\n",
       "      <td>False</td>\n",
       "      <td>False</td>\n",
       "      <td>False</td>\n",
       "      <td>False</td>\n",
       "      <td>False</td>\n",
       "      <td>False</td>\n",
       "      <td>False</td>\n",
       "      <td>False</td>\n",
       "    </tr>\n",
       "  </tbody>\n",
       "</table>\n",
       "<p>5 rows × 120 columns</p>\n",
       "</div>"
      ],
      "text/plain": [
       "   year_production  mileage engine_capacity fuel_type   power       gearbox  \\\n",
       "0             2021    15900       1 368 cm3   Benzyna  165 KM      Manualna   \n",
       "1             2018    48000       1 368 cm3   Benzyna  145 KM      Manualna   \n",
       "2             2016    54500       1 368 cm3   Benzyna  145 KM      Manualna   \n",
       "3             2023     5578       1 368 cm3   Benzyna  165 KM  Automatyczna   \n",
       "4             2019   116000       1 368 cm3   Benzyna  165 KM      Manualna   \n",
       "\n",
       "         drive_type  body_type  doors      color  ...  Triumph    Uaz  VELEX  \\\n",
       "0               NaN  Auta małe    3.0  Niebieski  ...    False  False  False   \n",
       "1  Na przednie koła  Auta małe    3.0      Biały  ...    False  False  False   \n",
       "2  Na przednie koła  Auta małe    3.0   Czerwony  ...    False  False  False   \n",
       "3  Na przednie koła  Auta małe    3.0      Szary  ...    False  False  False   \n",
       "4  Na przednie koła    Kompakt    3.0  Niebieski  ...    False  False  False   \n",
       "\n",
       "  Volkswagen  Volvo  Warszawa Wartburg  Wołga   e.GO    Żuk  \n",
       "0      False  False     False    False  False  False  False  \n",
       "1      False  False     False    False  False  False  False  \n",
       "2      False  False     False    False  False  False  False  \n",
       "3      False  False     False    False  False  False  False  \n",
       "4      False  False     False    False  False  False  False  \n",
       "\n",
       "[5 rows x 120 columns]"
      ]
     },
     "execution_count": 1672,
     "metadata": {},
     "output_type": "execute_result"
    }
   ],
   "source": [
    "data.head()"
   ]
  },
  {
   "cell_type": "markdown",
   "metadata": {},
   "source": [
    "### engine_capacity\t- Engine capacity"
   ]
  },
  {
   "cell_type": "code",
   "execution_count": 1673,
   "metadata": {},
   "outputs": [
    {
     "data": {
      "text/plain": [
       "4337"
      ]
     },
     "execution_count": 1673,
     "metadata": {},
     "output_type": "execute_result"
    }
   ],
   "source": [
    "# Count the number of missing values\n",
    "data['engine_capacity'].isna().sum()"
   ]
  },
  {
   "cell_type": "code",
   "execution_count": 1674,
   "metadata": {},
   "outputs": [],
   "source": [
    "# Remove rows with missing values\n",
    "data = data.dropna(subset=['engine_capacity'])"
   ]
  },
  {
   "cell_type": "code",
   "execution_count": 1675,
   "metadata": {},
   "outputs": [
    {
     "name": "stdout",
     "output_type": "stream",
     "text": [
      "object\n"
     ]
    }
   ],
   "source": [
    "type_engine_capacity = data['engine_capacity'].dtype\n",
    "print(type_engine_capacity)"
   ]
  },
  {
   "cell_type": "code",
   "execution_count": 1676,
   "metadata": {},
   "outputs": [
    {
     "name": "stdout",
     "output_type": "stream",
     "text": [
      "0    1368\n",
      "1    1368\n",
      "2    1368\n",
      "3    1368\n",
      "4    1368\n",
      "Name: engine_capacity, dtype: int32\n"
     ]
    }
   ],
   "source": [
    "# Remove ' km' from the strings and any spaces, then convert to integer\n",
    "data['engine_capacity'] = data['engine_capacity'].str.replace(' cm3', '').str.replace(' ', '').astype(int)\n",
    "\n",
    "# Check the result\n",
    "print(data['engine_capacity'].head())"
   ]
  },
  {
   "cell_type": "code",
   "execution_count": 1677,
   "metadata": {},
   "outputs": [
    {
     "name": "stdout",
     "output_type": "stream",
     "text": [
      "count    209562.000000\n",
      "mean       1915.206550\n",
      "std         791.388927\n",
      "min         400.000000\n",
      "25%        1498.000000\n",
      "50%        1870.000000\n",
      "75%        1997.000000\n",
      "max        8400.000000\n",
      "Name: engine_capacity, dtype: float64\n"
     ]
    }
   ],
   "source": [
    "# Summary statistics\n",
    "engine_capacity_stats = data['engine_capacity'].describe()\n",
    "print(engine_capacity_stats)"
   ]
  },
  {
   "cell_type": "code",
   "execution_count": 1678,
   "metadata": {},
   "outputs": [
    {
     "data": {
      "image/png": "[encoded data removed]",
      "text/plain": [
       "<Figure size 1000x600 with 1 Axes>"
      ]
     },
     "metadata": {},
     "output_type": "display_data"
    }
   ],
   "source": [
    "# Plot the histogram\n",
    "plt.figure(figsize=(10, 6))\n",
    "plt.hist(data['engine_capacity'], bins=30, edgecolor='black')\n",
    "plt.title('Distribution of engine capacity')\n",
    "plt.xlabel('Engine capacity (in cm3)')\n",
    "plt.ylabel('Frequency')\n",
    "plt.grid(True)\n",
    "plt.show()"
   ]
  },
  {
   "cell_type": "code",
   "execution_count": 1679,
   "metadata": {},
   "outputs": [
    {
     "data": {
      "image/png": "[encoded data removed]",
      "text/plain": [
       "<Figure size 1000x600 with 1 Axes>"
      ]
     },
     "metadata": {},
     "output_type": "display_data"
    }
   ],
   "source": [
    "# Plot the scatter plot\n",
    "plt.figure(figsize=(10, 6))\n",
    "plt.scatter(data['engine_capacity'], data['price'], alpha=0.5)\n",
    "plt.title('Relationship between Engine capacity and Price')\n",
    "plt.xlabel('Engine capacity (in cm3)')\n",
    "plt.ylabel('Price')\n",
    "plt.grid(True)\n",
    "plt.show()"
   ]
  },
  {
   "cell_type": "code",
   "execution_count": 1680,
   "metadata": {},
   "outputs": [
    {
     "data": {
      "text/html": [
       "<div>\n",
       "<style scoped>\n",
       "    .dataframe tbody tr th:only-of-type {\n",
       "        vertical-align: middle;\n",
       "    }\n",
       "\n",
       "    .dataframe tbody tr th {\n",
       "        vertical-align: top;\n",
       "    }\n",
       "\n",
       "    .dataframe thead th {\n",
       "        text-align: right;\n",
       "    }\n",
       "</style>\n",
       "<table border=\"1\" class=\"dataframe\">\n",
       "  <thead>\n",
       "    <tr style=\"text-align: right;\">\n",
       "      <th></th>\n",
       "      <th>year_production</th>\n",
       "      <th>mileage</th>\n",
       "      <th>engine_capacity</th>\n",
       "      <th>fuel_type</th>\n",
       "      <th>power</th>\n",
       "      <th>gearbox</th>\n",
       "      <th>drive_type</th>\n",
       "      <th>body_type</th>\n",
       "      <th>doors</th>\n",
       "      <th>color</th>\n",
       "      <th>...</th>\n",
       "      <th>Triumph</th>\n",
       "      <th>Uaz</th>\n",
       "      <th>VELEX</th>\n",
       "      <th>Volkswagen</th>\n",
       "      <th>Volvo</th>\n",
       "      <th>Warszawa</th>\n",
       "      <th>Wartburg</th>\n",
       "      <th>Wołga</th>\n",
       "      <th>e.GO</th>\n",
       "      <th>Żuk</th>\n",
       "    </tr>\n",
       "  </thead>\n",
       "  <tbody>\n",
       "    <tr>\n",
       "      <th>0</th>\n",
       "      <td>2021</td>\n",
       "      <td>15900</td>\n",
       "      <td>1368</td>\n",
       "      <td>Benzyna</td>\n",
       "      <td>165 KM</td>\n",
       "      <td>Manualna</td>\n",
       "      <td>NaN</td>\n",
       "      <td>Auta małe</td>\n",
       "      <td>3.0</td>\n",
       "      <td>Niebieski</td>\n",
       "      <td>...</td>\n",
       "      <td>False</td>\n",
       "      <td>False</td>\n",
       "      <td>False</td>\n",
       "      <td>False</td>\n",
       "      <td>False</td>\n",
       "      <td>False</td>\n",
       "      <td>False</td>\n",
       "      <td>False</td>\n",
       "      <td>False</td>\n",
       "      <td>False</td>\n",
       "    </tr>\n",
       "    <tr>\n",
       "      <th>1</th>\n",
       "      <td>2018</td>\n",
       "      <td>48000</td>\n",
       "      <td>1368</td>\n",
       "      <td>Benzyna</td>\n",
       "      <td>145 KM</td>\n",
       "      <td>Manualna</td>\n",
       "      <td>Na przednie koła</td>\n",
       "      <td>Auta małe</td>\n",
       "      <td>3.0</td>\n",
       "      <td>Biały</td>\n",
       "      <td>...</td>\n",
       "      <td>False</td>\n",
       "      <td>False</td>\n",
       "      <td>False</td>\n",
       "      <td>False</td>\n",
       "      <td>False</td>\n",
       "      <td>False</td>\n",
       "      <td>False</td>\n",
       "      <td>False</td>\n",
       "      <td>False</td>\n",
       "      <td>False</td>\n",
       "    </tr>\n",
       "    <tr>\n",
       "      <th>2</th>\n",
       "      <td>2016</td>\n",
       "      <td>54500</td>\n",
       "      <td>1368</td>\n",
       "      <td>Benzyna</td>\n",
       "      <td>145 KM</td>\n",
       "      <td>Manualna</td>\n",
       "      <td>Na przednie koła</td>\n",
       "      <td>Auta małe</td>\n",
       "      <td>3.0</td>\n",
       "      <td>Czerwony</td>\n",
       "      <td>...</td>\n",
       "      <td>False</td>\n",
       "      <td>False</td>\n",
       "      <td>False</td>\n",
       "      <td>False</td>\n",
       "      <td>False</td>\n",
       "      <td>False</td>\n",
       "      <td>False</td>\n",
       "      <td>False</td>\n",
       "      <td>False</td>\n",
       "      <td>False</td>\n",
       "    </tr>\n",
       "    <tr>\n",
       "      <th>3</th>\n",
       "      <td>2023</td>\n",
       "      <td>5578</td>\n",
       "      <td>1368</td>\n",
       "      <td>Benzyna</td>\n",
       "      <td>165 KM</td>\n",
       "      <td>Automatyczna</td>\n",
       "      <td>Na przednie koła</td>\n",
       "      <td>Auta małe</td>\n",
       "      <td>3.0</td>\n",
       "      <td>Szary</td>\n",
       "      <td>...</td>\n",
       "      <td>False</td>\n",
       "      <td>False</td>\n",
       "      <td>False</td>\n",
       "      <td>False</td>\n",
       "      <td>False</td>\n",
       "      <td>False</td>\n",
       "      <td>False</td>\n",
       "      <td>False</td>\n",
       "      <td>False</td>\n",
       "      <td>False</td>\n",
       "    </tr>\n",
       "    <tr>\n",
       "      <th>4</th>\n",
       "      <td>2019</td>\n",
       "      <td>116000</td>\n",
       "      <td>1368</td>\n",
       "      <td>Benzyna</td>\n",
       "      <td>165 KM</td>\n",
       "      <td>Manualna</td>\n",
       "      <td>Na przednie koła</td>\n",
       "      <td>Kompakt</td>\n",
       "      <td>3.0</td>\n",
       "      <td>Niebieski</td>\n",
       "      <td>...</td>\n",
       "      <td>False</td>\n",
       "      <td>False</td>\n",
       "      <td>False</td>\n",
       "      <td>False</td>\n",
       "      <td>False</td>\n",
       "      <td>False</td>\n",
       "      <td>False</td>\n",
       "      <td>False</td>\n",
       "      <td>False</td>\n",
       "      <td>False</td>\n",
       "    </tr>\n",
       "  </tbody>\n",
       "</table>\n",
       "<p>5 rows × 120 columns</p>\n",
       "</div>"
      ],
      "text/plain": [
       "   year_production  mileage  engine_capacity fuel_type   power       gearbox  \\\n",
       "0             2021    15900             1368   Benzyna  165 KM      Manualna   \n",
       "1             2018    48000             1368   Benzyna  145 KM      Manualna   \n",
       "2             2016    54500             1368   Benzyna  145 KM      Manualna   \n",
       "3             2023     5578             1368   Benzyna  165 KM  Automatyczna   \n",
       "4             2019   116000             1368   Benzyna  165 KM      Manualna   \n",
       "\n",
       "         drive_type  body_type  doors      color  ...  Triumph    Uaz  VELEX  \\\n",
       "0               NaN  Auta małe    3.0  Niebieski  ...    False  False  False   \n",
       "1  Na przednie koła  Auta małe    3.0      Biały  ...    False  False  False   \n",
       "2  Na przednie koła  Auta małe    3.0   Czerwony  ...    False  False  False   \n",
       "3  Na przednie koła  Auta małe    3.0      Szary  ...    False  False  False   \n",
       "4  Na przednie koła    Kompakt    3.0  Niebieski  ...    False  False  False   \n",
       "\n",
       "  Volkswagen  Volvo  Warszawa Wartburg  Wołga   e.GO    Żuk  \n",
       "0      False  False     False    False  False  False  False  \n",
       "1      False  False     False    False  False  False  False  \n",
       "2      False  False     False    False  False  False  False  \n",
       "3      False  False     False    False  False  False  False  \n",
       "4      False  False     False    False  False  False  False  \n",
       "\n",
       "[5 rows x 120 columns]"
      ]
     },
     "execution_count": 1680,
     "metadata": {},
     "output_type": "execute_result"
    }
   ],
   "source": [
    "data.head()"
   ]
  },
  {
   "cell_type": "markdown",
   "metadata": {},
   "source": [
    "### fuel_type - Fuel type"
   ]
  },
  {
   "cell_type": "code",
   "execution_count": 1681,
   "metadata": {},
   "outputs": [
    {
     "data": {
      "text/plain": [
       "0"
      ]
     },
     "execution_count": 1681,
     "metadata": {},
     "output_type": "execute_result"
    }
   ],
   "source": [
    "# Count the number of missing values\n",
    "data['fuel_type'].isna().sum()"
   ]
  },
  {
   "cell_type": "code",
   "execution_count": 1682,
   "metadata": {},
   "outputs": [
    {
     "name": "stdout",
     "output_type": "stream",
     "text": [
      "object\n"
     ]
    }
   ],
   "source": [
    "type_fuel_type = data['fuel_type'].dtype\n",
    "print(type_fuel_type)"
   ]
  },
  {
   "cell_type": "code",
   "execution_count": 1683,
   "metadata": {},
   "outputs": [
    {
     "data": {
      "text/plain": [
       "fuel_type\n",
       "Benzyna            107406\n",
       "Diesel              86385\n",
       "Benzyna+LPG          8574\n",
       "Hybryda              5245\n",
       "Hybryda Plug-in      1905\n",
       "Benzyna+CNG            46\n",
       "Wodór                   1\n",
       "Name: count, dtype: int64"
      ]
     },
     "execution_count": 1683,
     "metadata": {},
     "output_type": "execute_result"
    }
   ],
   "source": [
    "# Display unique values and their counts\n",
    "unique_fuel_type = data['fuel_type'].value_counts()\n",
    "\n",
    "unique_fuel_type"
   ]
  },
  {
   "cell_type": "code",
   "execution_count": 1684,
   "metadata": {},
   "outputs": [],
   "source": [
    "data = data[~data['fuel_type'].isin(['Benzyna+CNG', 'Wodór'])]"
   ]
  },
  {
   "cell_type": "markdown",
   "metadata": {},
   "source": [
    "perform one-hot encoding"
   ]
  },
  {
   "cell_type": "code",
   "execution_count": 1685,
   "metadata": {},
   "outputs": [],
   "source": [
    "# Perform one-hot encoding\n",
    "data = pd.get_dummies(data, columns=['fuel_type'])\n",
    "\n",
    "# Remove the 'fuel_type_' prefix from the column names\n",
    "data.columns = data.columns.str.replace('fuel_type_', '')"
   ]
  },
  {
   "cell_type": "code",
   "execution_count": 1686,
   "metadata": {},
   "outputs": [
    {
     "data": {
      "text/html": [
       "<div>\n",
       "<style scoped>\n",
       "    .dataframe tbody tr th:only-of-type {\n",
       "        vertical-align: middle;\n",
       "    }\n",
       "\n",
       "    .dataframe tbody tr th {\n",
       "        vertical-align: top;\n",
       "    }\n",
       "\n",
       "    .dataframe thead th {\n",
       "        text-align: right;\n",
       "    }\n",
       "</style>\n",
       "<table border=\"1\" class=\"dataframe\">\n",
       "  <thead>\n",
       "    <tr style=\"text-align: right;\">\n",
       "      <th></th>\n",
       "      <th>year_production</th>\n",
       "      <th>mileage</th>\n",
       "      <th>engine_capacity</th>\n",
       "      <th>power</th>\n",
       "      <th>gearbox</th>\n",
       "      <th>drive_type</th>\n",
       "      <th>body_type</th>\n",
       "      <th>doors</th>\n",
       "      <th>color</th>\n",
       "      <th>metallic</th>\n",
       "      <th>...</th>\n",
       "      <th>Warszawa</th>\n",
       "      <th>Wartburg</th>\n",
       "      <th>Wołga</th>\n",
       "      <th>e.GO</th>\n",
       "      <th>Żuk</th>\n",
       "      <th>Benzyna</th>\n",
       "      <th>Benzyna+LPG</th>\n",
       "      <th>Diesel</th>\n",
       "      <th>Hybryda</th>\n",
       "      <th>Hybryda Plug-in</th>\n",
       "    </tr>\n",
       "  </thead>\n",
       "  <tbody>\n",
       "    <tr>\n",
       "      <th>0</th>\n",
       "      <td>2021</td>\n",
       "      <td>15900</td>\n",
       "      <td>1368</td>\n",
       "      <td>165 KM</td>\n",
       "      <td>Manualna</td>\n",
       "      <td>NaN</td>\n",
       "      <td>Auta małe</td>\n",
       "      <td>3.0</td>\n",
       "      <td>Niebieski</td>\n",
       "      <td>NaN</td>\n",
       "      <td>...</td>\n",
       "      <td>False</td>\n",
       "      <td>False</td>\n",
       "      <td>False</td>\n",
       "      <td>False</td>\n",
       "      <td>False</td>\n",
       "      <td>True</td>\n",
       "      <td>False</td>\n",
       "      <td>False</td>\n",
       "      <td>False</td>\n",
       "      <td>False</td>\n",
       "    </tr>\n",
       "    <tr>\n",
       "      <th>1</th>\n",
       "      <td>2018</td>\n",
       "      <td>48000</td>\n",
       "      <td>1368</td>\n",
       "      <td>145 KM</td>\n",
       "      <td>Manualna</td>\n",
       "      <td>Na przednie koła</td>\n",
       "      <td>Auta małe</td>\n",
       "      <td>3.0</td>\n",
       "      <td>Biały</td>\n",
       "      <td>NaN</td>\n",
       "      <td>...</td>\n",
       "      <td>False</td>\n",
       "      <td>False</td>\n",
       "      <td>False</td>\n",
       "      <td>False</td>\n",
       "      <td>False</td>\n",
       "      <td>True</td>\n",
       "      <td>False</td>\n",
       "      <td>False</td>\n",
       "      <td>False</td>\n",
       "      <td>False</td>\n",
       "    </tr>\n",
       "    <tr>\n",
       "      <th>2</th>\n",
       "      <td>2016</td>\n",
       "      <td>54500</td>\n",
       "      <td>1368</td>\n",
       "      <td>145 KM</td>\n",
       "      <td>Manualna</td>\n",
       "      <td>Na przednie koła</td>\n",
       "      <td>Auta małe</td>\n",
       "      <td>3.0</td>\n",
       "      <td>Czerwony</td>\n",
       "      <td>NaN</td>\n",
       "      <td>...</td>\n",
       "      <td>False</td>\n",
       "      <td>False</td>\n",
       "      <td>False</td>\n",
       "      <td>False</td>\n",
       "      <td>False</td>\n",
       "      <td>True</td>\n",
       "      <td>False</td>\n",
       "      <td>False</td>\n",
       "      <td>False</td>\n",
       "      <td>False</td>\n",
       "    </tr>\n",
       "    <tr>\n",
       "      <th>3</th>\n",
       "      <td>2023</td>\n",
       "      <td>5578</td>\n",
       "      <td>1368</td>\n",
       "      <td>165 KM</td>\n",
       "      <td>Automatyczna</td>\n",
       "      <td>Na przednie koła</td>\n",
       "      <td>Auta małe</td>\n",
       "      <td>3.0</td>\n",
       "      <td>Szary</td>\n",
       "      <td>NaN</td>\n",
       "      <td>...</td>\n",
       "      <td>False</td>\n",
       "      <td>False</td>\n",
       "      <td>False</td>\n",
       "      <td>False</td>\n",
       "      <td>False</td>\n",
       "      <td>True</td>\n",
       "      <td>False</td>\n",
       "      <td>False</td>\n",
       "      <td>False</td>\n",
       "      <td>False</td>\n",
       "    </tr>\n",
       "    <tr>\n",
       "      <th>4</th>\n",
       "      <td>2019</td>\n",
       "      <td>116000</td>\n",
       "      <td>1368</td>\n",
       "      <td>165 KM</td>\n",
       "      <td>Manualna</td>\n",
       "      <td>Na przednie koła</td>\n",
       "      <td>Kompakt</td>\n",
       "      <td>3.0</td>\n",
       "      <td>Niebieski</td>\n",
       "      <td>NaN</td>\n",
       "      <td>...</td>\n",
       "      <td>False</td>\n",
       "      <td>False</td>\n",
       "      <td>False</td>\n",
       "      <td>False</td>\n",
       "      <td>False</td>\n",
       "      <td>True</td>\n",
       "      <td>False</td>\n",
       "      <td>False</td>\n",
       "      <td>False</td>\n",
       "      <td>False</td>\n",
       "    </tr>\n",
       "  </tbody>\n",
       "</table>\n",
       "<p>5 rows × 124 columns</p>\n",
       "</div>"
      ],
      "text/plain": [
       "   year_production  mileage  engine_capacity   power       gearbox  \\\n",
       "0             2021    15900             1368  165 KM      Manualna   \n",
       "1             2018    48000             1368  145 KM      Manualna   \n",
       "2             2016    54500             1368  145 KM      Manualna   \n",
       "3             2023     5578             1368  165 KM  Automatyczna   \n",
       "4             2019   116000             1368  165 KM      Manualna   \n",
       "\n",
       "         drive_type  body_type  doors      color  metallic  ... Warszawa  \\\n",
       "0               NaN  Auta małe    3.0  Niebieski       NaN  ...    False   \n",
       "1  Na przednie koła  Auta małe    3.0      Biały       NaN  ...    False   \n",
       "2  Na przednie koła  Auta małe    3.0   Czerwony       NaN  ...    False   \n",
       "3  Na przednie koła  Auta małe    3.0      Szary       NaN  ...    False   \n",
       "4  Na przednie koła    Kompakt    3.0  Niebieski       NaN  ...    False   \n",
       "\n",
       "   Wartburg  Wołga   e.GO    Żuk Benzyna  Benzyna+LPG  Diesel  Hybryda  \\\n",
       "0     False  False  False  False    True        False   False    False   \n",
       "1     False  False  False  False    True        False   False    False   \n",
       "2     False  False  False  False    True        False   False    False   \n",
       "3     False  False  False  False    True        False   False    False   \n",
       "4     False  False  False  False    True        False   False    False   \n",
       "\n",
       "   Hybryda Plug-in  \n",
       "0            False  \n",
       "1            False  \n",
       "2            False  \n",
       "3            False  \n",
       "4            False  \n",
       "\n",
       "[5 rows x 124 columns]"
      ]
     },
     "execution_count": 1686,
     "metadata": {},
     "output_type": "execute_result"
    }
   ],
   "source": [
    "data.head()"
   ]
  },
  {
   "cell_type": "markdown",
   "metadata": {},
   "source": [
    "### power"
   ]
  },
  {
   "cell_type": "code",
   "execution_count": 1687,
   "metadata": {},
   "outputs": [
    {
     "data": {
      "text/plain": [
       "67"
      ]
     },
     "execution_count": 1687,
     "metadata": {},
     "output_type": "execute_result"
    }
   ],
   "source": [
    "# Count the number of missing values\n",
    "data['power'].isna().sum()"
   ]
  },
  {
   "cell_type": "code",
   "execution_count": 1688,
   "metadata": {},
   "outputs": [],
   "source": [
    "# Remove rows with missing values\n",
    "data = data.dropna(subset=['power'])"
   ]
  },
  {
   "cell_type": "code",
   "execution_count": 1689,
   "metadata": {},
   "outputs": [
    {
     "name": "stdout",
     "output_type": "stream",
     "text": [
      "object\n"
     ]
    }
   ],
   "source": [
    "type_power = data['power'].dtype\n",
    "print(type_power)"
   ]
  },
  {
   "cell_type": "code",
   "execution_count": 1690,
   "metadata": {},
   "outputs": [
    {
     "name": "stdout",
     "output_type": "stream",
     "text": [
      "0    165\n",
      "1    145\n",
      "2    145\n",
      "3    165\n",
      "4    165\n",
      "Name: power, dtype: int32\n"
     ]
    }
   ],
   "source": [
    "# Remove ' km' from the strings and any spaces, then convert to integer\n",
    "data['power'] = data['power'].str.replace(' KM', '').str.replace(' ', '').astype(int)\n",
    "\n",
    "# Check the result\n",
    "print(data['power'].head())"
   ]
  },
  {
   "cell_type": "code",
   "execution_count": 1691,
   "metadata": {},
   "outputs": [
    {
     "data": {
      "text/plain": [
       "power\n",
       "150     18707\n",
       "140      8531\n",
       "190      8101\n",
       "120      7106\n",
       "130      7062\n",
       "        ...  \n",
       "617         1\n",
       "523         1\n",
       "2498        1\n",
       "3           1\n",
       "567         1\n",
       "Name: count, Length: 568, dtype: int64"
      ]
     },
     "execution_count": 1691,
     "metadata": {},
     "output_type": "execute_result"
    }
   ],
   "source": [
    "# Display unique values and their counts\n",
    "unique_power = data['power'].value_counts()\n",
    "\n",
    "unique_power"
   ]
  },
  {
   "cell_type": "code",
   "execution_count": 1692,
   "metadata": {},
   "outputs": [
    {
     "name": "stdout",
     "output_type": "stream",
     "text": [
      "count    209448.000000\n",
      "mean        165.047463\n",
      "std          87.375716\n",
      "min           1.000000\n",
      "25%         114.000000\n",
      "50%         145.000000\n",
      "75%         190.000000\n",
      "max        9999.000000\n",
      "Name: power, dtype: float64\n"
     ]
    }
   ],
   "source": [
    "# Summary statistics \n",
    "power_stats = data['power'].describe()\n",
    "print(power_stats)"
   ]
  },
  {
   "cell_type": "code",
   "execution_count": 1693,
   "metadata": {},
   "outputs": [],
   "source": [
    "# Remove extreme outliers for better visualization\n",
    "data = data[(data['power'] < 1501) & (data['power'] > 4)]"
   ]
  },
  {
   "cell_type": "code",
   "execution_count": 1694,
   "metadata": {},
   "outputs": [
    {
     "data": {
      "image/png": "[encoded data removed]",
      "text/plain": [
       "<Figure size 1000x600 with 1 Axes>"
      ]
     },
     "metadata": {},
     "output_type": "display_data"
    }
   ],
   "source": [
    "# Plot the histogram\n",
    "plt.figure(figsize=(10, 6))\n",
    "plt.hist(data['power'], bins=30, edgecolor='black')\n",
    "plt.title('Distribution of power')\n",
    "plt.xlabel('Power')\n",
    "plt.ylabel('Frequency')\n",
    "plt.grid(True)\n",
    "plt.show()"
   ]
  },
  {
   "cell_type": "code",
   "execution_count": 1695,
   "metadata": {},
   "outputs": [
    {
     "data": {
      "image/png": "[encoded data removed]",
      "text/plain": [
       "<Figure size 1000x600 with 1 Axes>"
      ]
     },
     "metadata": {},
     "output_type": "display_data"
    }
   ],
   "source": [
    "# Plot the scatter plot\n",
    "plt.figure(figsize=(10, 6))\n",
    "plt.scatter(data['power'], data['price'], alpha=0.5)\n",
    "plt.title('Relationship between power and Price')\n",
    "plt.xlabel('Power')\n",
    "plt.ylabel('Price')\n",
    "plt.grid(True)\n",
    "plt.show()"
   ]
  },
  {
   "cell_type": "code",
   "execution_count": 1696,
   "metadata": {},
   "outputs": [
    {
     "data": {
      "text/html": [
       "<div>\n",
       "<style scoped>\n",
       "    .dataframe tbody tr th:only-of-type {\n",
       "        vertical-align: middle;\n",
       "    }\n",
       "\n",
       "    .dataframe tbody tr th {\n",
       "        vertical-align: top;\n",
       "    }\n",
       "\n",
       "    .dataframe thead th {\n",
       "        text-align: right;\n",
       "    }\n",
       "</style>\n",
       "<table border=\"1\" class=\"dataframe\">\n",
       "  <thead>\n",
       "    <tr style=\"text-align: right;\">\n",
       "      <th></th>\n",
       "      <th>year_production</th>\n",
       "      <th>mileage</th>\n",
       "      <th>engine_capacity</th>\n",
       "      <th>power</th>\n",
       "      <th>gearbox</th>\n",
       "      <th>drive_type</th>\n",
       "      <th>body_type</th>\n",
       "      <th>doors</th>\n",
       "      <th>color</th>\n",
       "      <th>metallic</th>\n",
       "      <th>...</th>\n",
       "      <th>Warszawa</th>\n",
       "      <th>Wartburg</th>\n",
       "      <th>Wołga</th>\n",
       "      <th>e.GO</th>\n",
       "      <th>Żuk</th>\n",
       "      <th>Benzyna</th>\n",
       "      <th>Benzyna+LPG</th>\n",
       "      <th>Diesel</th>\n",
       "      <th>Hybryda</th>\n",
       "      <th>Hybryda Plug-in</th>\n",
       "    </tr>\n",
       "  </thead>\n",
       "  <tbody>\n",
       "    <tr>\n",
       "      <th>0</th>\n",
       "      <td>2021</td>\n",
       "      <td>15900</td>\n",
       "      <td>1368</td>\n",
       "      <td>165</td>\n",
       "      <td>Manualna</td>\n",
       "      <td>NaN</td>\n",
       "      <td>Auta małe</td>\n",
       "      <td>3.0</td>\n",
       "      <td>Niebieski</td>\n",
       "      <td>NaN</td>\n",
       "      <td>...</td>\n",
       "      <td>False</td>\n",
       "      <td>False</td>\n",
       "      <td>False</td>\n",
       "      <td>False</td>\n",
       "      <td>False</td>\n",
       "      <td>True</td>\n",
       "      <td>False</td>\n",
       "      <td>False</td>\n",
       "      <td>False</td>\n",
       "      <td>False</td>\n",
       "    </tr>\n",
       "    <tr>\n",
       "      <th>1</th>\n",
       "      <td>2018</td>\n",
       "      <td>48000</td>\n",
       "      <td>1368</td>\n",
       "      <td>145</td>\n",
       "      <td>Manualna</td>\n",
       "      <td>Na przednie koła</td>\n",
       "      <td>Auta małe</td>\n",
       "      <td>3.0</td>\n",
       "      <td>Biały</td>\n",
       "      <td>NaN</td>\n",
       "      <td>...</td>\n",
       "      <td>False</td>\n",
       "      <td>False</td>\n",
       "      <td>False</td>\n",
       "      <td>False</td>\n",
       "      <td>False</td>\n",
       "      <td>True</td>\n",
       "      <td>False</td>\n",
       "      <td>False</td>\n",
       "      <td>False</td>\n",
       "      <td>False</td>\n",
       "    </tr>\n",
       "    <tr>\n",
       "      <th>2</th>\n",
       "      <td>2016</td>\n",
       "      <td>54500</td>\n",
       "      <td>1368</td>\n",
       "      <td>145</td>\n",
       "      <td>Manualna</td>\n",
       "      <td>Na przednie koła</td>\n",
       "      <td>Auta małe</td>\n",
       "      <td>3.0</td>\n",
       "      <td>Czerwony</td>\n",
       "      <td>NaN</td>\n",
       "      <td>...</td>\n",
       "      <td>False</td>\n",
       "      <td>False</td>\n",
       "      <td>False</td>\n",
       "      <td>False</td>\n",
       "      <td>False</td>\n",
       "      <td>True</td>\n",
       "      <td>False</td>\n",
       "      <td>False</td>\n",
       "      <td>False</td>\n",
       "      <td>False</td>\n",
       "    </tr>\n",
       "    <tr>\n",
       "      <th>3</th>\n",
       "      <td>2023</td>\n",
       "      <td>5578</td>\n",
       "      <td>1368</td>\n",
       "      <td>165</td>\n",
       "      <td>Automatyczna</td>\n",
       "      <td>Na przednie koła</td>\n",
       "      <td>Auta małe</td>\n",
       "      <td>3.0</td>\n",
       "      <td>Szary</td>\n",
       "      <td>NaN</td>\n",
       "      <td>...</td>\n",
       "      <td>False</td>\n",
       "      <td>False</td>\n",
       "      <td>False</td>\n",
       "      <td>False</td>\n",
       "      <td>False</td>\n",
       "      <td>True</td>\n",
       "      <td>False</td>\n",
       "      <td>False</td>\n",
       "      <td>False</td>\n",
       "      <td>False</td>\n",
       "    </tr>\n",
       "    <tr>\n",
       "      <th>4</th>\n",
       "      <td>2019</td>\n",
       "      <td>116000</td>\n",
       "      <td>1368</td>\n",
       "      <td>165</td>\n",
       "      <td>Manualna</td>\n",
       "      <td>Na przednie koła</td>\n",
       "      <td>Kompakt</td>\n",
       "      <td>3.0</td>\n",
       "      <td>Niebieski</td>\n",
       "      <td>NaN</td>\n",
       "      <td>...</td>\n",
       "      <td>False</td>\n",
       "      <td>False</td>\n",
       "      <td>False</td>\n",
       "      <td>False</td>\n",
       "      <td>False</td>\n",
       "      <td>True</td>\n",
       "      <td>False</td>\n",
       "      <td>False</td>\n",
       "      <td>False</td>\n",
       "      <td>False</td>\n",
       "    </tr>\n",
       "  </tbody>\n",
       "</table>\n",
       "<p>5 rows × 124 columns</p>\n",
       "</div>"
      ],
      "text/plain": [
       "   year_production  mileage  engine_capacity  power       gearbox  \\\n",
       "0             2021    15900             1368    165      Manualna   \n",
       "1             2018    48000             1368    145      Manualna   \n",
       "2             2016    54500             1368    145      Manualna   \n",
       "3             2023     5578             1368    165  Automatyczna   \n",
       "4             2019   116000             1368    165      Manualna   \n",
       "\n",
       "         drive_type  body_type  doors      color  metallic  ... Warszawa  \\\n",
       "0               NaN  Auta małe    3.0  Niebieski       NaN  ...    False   \n",
       "1  Na przednie koła  Auta małe    3.0      Biały       NaN  ...    False   \n",
       "2  Na przednie koła  Auta małe    3.0   Czerwony       NaN  ...    False   \n",
       "3  Na przednie koła  Auta małe    3.0      Szary       NaN  ...    False   \n",
       "4  Na przednie koła    Kompakt    3.0  Niebieski       NaN  ...    False   \n",
       "\n",
       "   Wartburg  Wołga   e.GO    Żuk Benzyna  Benzyna+LPG  Diesel  Hybryda  \\\n",
       "0     False  False  False  False    True        False   False    False   \n",
       "1     False  False  False  False    True        False   False    False   \n",
       "2     False  False  False  False    True        False   False    False   \n",
       "3     False  False  False  False    True        False   False    False   \n",
       "4     False  False  False  False    True        False   False    False   \n",
       "\n",
       "   Hybryda Plug-in  \n",
       "0            False  \n",
       "1            False  \n",
       "2            False  \n",
       "3            False  \n",
       "4            False  \n",
       "\n",
       "[5 rows x 124 columns]"
      ]
     },
     "execution_count": 1696,
     "metadata": {},
     "output_type": "execute_result"
    }
   ],
   "source": [
    "data.head()"
   ]
  },
  {
   "cell_type": "markdown",
   "metadata": {},
   "source": [
    "### gearbox"
   ]
  },
  {
   "cell_type": "code",
   "execution_count": 1697,
   "metadata": {},
   "outputs": [
    {
     "data": {
      "text/plain": [
       "6"
      ]
     },
     "execution_count": 1697,
     "metadata": {},
     "output_type": "execute_result"
    }
   ],
   "source": [
    "# Count the number of missing values\n",
    "data['gearbox'].isna().sum()"
   ]
  },
  {
   "cell_type": "code",
   "execution_count": 1698,
   "metadata": {},
   "outputs": [],
   "source": [
    "# Remove rows with missing values\n",
    "data = data.dropna(subset=['gearbox'])"
   ]
  },
  {
   "cell_type": "code",
   "execution_count": 1699,
   "metadata": {},
   "outputs": [
    {
     "name": "stdout",
     "output_type": "stream",
     "text": [
      "object\n"
     ]
    }
   ],
   "source": [
    "type_gearbox = data['gearbox'].dtype\n",
    "print(type_gearbox)"
   ]
  },
  {
   "cell_type": "code",
   "execution_count": 1700,
   "metadata": {},
   "outputs": [
    {
     "data": {
      "text/plain": [
       "gearbox\n",
       "Manualna        112546\n",
       "Automatyczna     96844\n",
       "Name: count, dtype: int64"
      ]
     },
     "execution_count": 1700,
     "metadata": {},
     "output_type": "execute_result"
    }
   ],
   "source": [
    "# Display unique values and their counts\n",
    "unique_gearbox = data['gearbox'].value_counts()\n",
    "\n",
    "unique_gearbox"
   ]
  },
  {
   "cell_type": "code",
   "execution_count": 1701,
   "metadata": {},
   "outputs": [],
   "source": [
    "# Map the 'gearbox' column to binary values\n",
    "data['gearbox'] = data['gearbox'].map({'Manualna': 0, 'Automatyczna': 1})"
   ]
  },
  {
   "cell_type": "code",
   "execution_count": 1702,
   "metadata": {},
   "outputs": [
    {
     "data": {
      "image/png": "[encoded data removed]",
      "text/plain": [
       "<Figure size 1000x600 with 1 Axes>"
      ]
     },
     "metadata": {},
     "output_type": "display_data"
    }
   ],
   "source": [
    "# Create the scatter plot\n",
    "plt.figure(figsize=(10, 6))\n",
    "sns.scatterplot(x='gearbox', y='price', data=data, alpha=0.5, edgecolor=None)\n",
    "plt.xticks([0, 1], ['Manual', 'Automatic'])\n",
    "plt.title('Scatter Plot of Car Prices by Gearbox Type')\n",
    "plt.xlabel('Gearbox Type')\n",
    "plt.ylabel('Price')\n",
    "plt.grid(True)\n",
    "plt.show()"
   ]
  },
  {
   "cell_type": "code",
   "execution_count": 1703,
   "metadata": {},
   "outputs": [
    {
     "data": {
      "text/html": [
       "<div>\n",
       "<style scoped>\n",
       "    .dataframe tbody tr th:only-of-type {\n",
       "        vertical-align: middle;\n",
       "    }\n",
       "\n",
       "    .dataframe tbody tr th {\n",
       "        vertical-align: top;\n",
       "    }\n",
       "\n",
       "    .dataframe thead th {\n",
       "        text-align: right;\n",
       "    }\n",
       "</style>\n",
       "<table border=\"1\" class=\"dataframe\">\n",
       "  <thead>\n",
       "    <tr style=\"text-align: right;\">\n",
       "      <th></th>\n",
       "      <th>year_production</th>\n",
       "      <th>mileage</th>\n",
       "      <th>engine_capacity</th>\n",
       "      <th>power</th>\n",
       "      <th>gearbox</th>\n",
       "      <th>drive_type</th>\n",
       "      <th>body_type</th>\n",
       "      <th>doors</th>\n",
       "      <th>color</th>\n",
       "      <th>metallic</th>\n",
       "      <th>...</th>\n",
       "      <th>Warszawa</th>\n",
       "      <th>Wartburg</th>\n",
       "      <th>Wołga</th>\n",
       "      <th>e.GO</th>\n",
       "      <th>Żuk</th>\n",
       "      <th>Benzyna</th>\n",
       "      <th>Benzyna+LPG</th>\n",
       "      <th>Diesel</th>\n",
       "      <th>Hybryda</th>\n",
       "      <th>Hybryda Plug-in</th>\n",
       "    </tr>\n",
       "  </thead>\n",
       "  <tbody>\n",
       "    <tr>\n",
       "      <th>0</th>\n",
       "      <td>2021</td>\n",
       "      <td>15900</td>\n",
       "      <td>1368</td>\n",
       "      <td>165</td>\n",
       "      <td>0</td>\n",
       "      <td>NaN</td>\n",
       "      <td>Auta małe</td>\n",
       "      <td>3.0</td>\n",
       "      <td>Niebieski</td>\n",
       "      <td>NaN</td>\n",
       "      <td>...</td>\n",
       "      <td>False</td>\n",
       "      <td>False</td>\n",
       "      <td>False</td>\n",
       "      <td>False</td>\n",
       "      <td>False</td>\n",
       "      <td>True</td>\n",
       "      <td>False</td>\n",
       "      <td>False</td>\n",
       "      <td>False</td>\n",
       "      <td>False</td>\n",
       "    </tr>\n",
       "    <tr>\n",
       "      <th>1</th>\n",
       "      <td>2018</td>\n",
       "      <td>48000</td>\n",
       "      <td>1368</td>\n",
       "      <td>145</td>\n",
       "      <td>0</td>\n",
       "      <td>Na przednie koła</td>\n",
       "      <td>Auta małe</td>\n",
       "      <td>3.0</td>\n",
       "      <td>Biały</td>\n",
       "      <td>NaN</td>\n",
       "      <td>...</td>\n",
       "      <td>False</td>\n",
       "      <td>False</td>\n",
       "      <td>False</td>\n",
       "      <td>False</td>\n",
       "      <td>False</td>\n",
       "      <td>True</td>\n",
       "      <td>False</td>\n",
       "      <td>False</td>\n",
       "      <td>False</td>\n",
       "      <td>False</td>\n",
       "    </tr>\n",
       "    <tr>\n",
       "      <th>2</th>\n",
       "      <td>2016</td>\n",
       "      <td>54500</td>\n",
       "      <td>1368</td>\n",
       "      <td>145</td>\n",
       "      <td>0</td>\n",
       "      <td>Na przednie koła</td>\n",
       "      <td>Auta małe</td>\n",
       "      <td>3.0</td>\n",
       "      <td>Czerwony</td>\n",
       "      <td>NaN</td>\n",
       "      <td>...</td>\n",
       "      <td>False</td>\n",
       "      <td>False</td>\n",
       "      <td>False</td>\n",
       "      <td>False</td>\n",
       "      <td>False</td>\n",
       "      <td>True</td>\n",
       "      <td>False</td>\n",
       "      <td>False</td>\n",
       "      <td>False</td>\n",
       "      <td>False</td>\n",
       "    </tr>\n",
       "    <tr>\n",
       "      <th>3</th>\n",
       "      <td>2023</td>\n",
       "      <td>5578</td>\n",
       "      <td>1368</td>\n",
       "      <td>165</td>\n",
       "      <td>1</td>\n",
       "      <td>Na przednie koła</td>\n",
       "      <td>Auta małe</td>\n",
       "      <td>3.0</td>\n",
       "      <td>Szary</td>\n",
       "      <td>NaN</td>\n",
       "      <td>...</td>\n",
       "      <td>False</td>\n",
       "      <td>False</td>\n",
       "      <td>False</td>\n",
       "      <td>False</td>\n",
       "      <td>False</td>\n",
       "      <td>True</td>\n",
       "      <td>False</td>\n",
       "      <td>False</td>\n",
       "      <td>False</td>\n",
       "      <td>False</td>\n",
       "    </tr>\n",
       "    <tr>\n",
       "      <th>4</th>\n",
       "      <td>2019</td>\n",
       "      <td>116000</td>\n",
       "      <td>1368</td>\n",
       "      <td>165</td>\n",
       "      <td>0</td>\n",
       "      <td>Na przednie koła</td>\n",
       "      <td>Kompakt</td>\n",
       "      <td>3.0</td>\n",
       "      <td>Niebieski</td>\n",
       "      <td>NaN</td>\n",
       "      <td>...</td>\n",
       "      <td>False</td>\n",
       "      <td>False</td>\n",
       "      <td>False</td>\n",
       "      <td>False</td>\n",
       "      <td>False</td>\n",
       "      <td>True</td>\n",
       "      <td>False</td>\n",
       "      <td>False</td>\n",
       "      <td>False</td>\n",
       "      <td>False</td>\n",
       "    </tr>\n",
       "  </tbody>\n",
       "</table>\n",
       "<p>5 rows × 124 columns</p>\n",
       "</div>"
      ],
      "text/plain": [
       "   year_production  mileage  engine_capacity  power  gearbox  \\\n",
       "0             2021    15900             1368    165        0   \n",
       "1             2018    48000             1368    145        0   \n",
       "2             2016    54500             1368    145        0   \n",
       "3             2023     5578             1368    165        1   \n",
       "4             2019   116000             1368    165        0   \n",
       "\n",
       "         drive_type  body_type  doors      color  metallic  ... Warszawa  \\\n",
       "0               NaN  Auta małe    3.0  Niebieski       NaN  ...    False   \n",
       "1  Na przednie koła  Auta małe    3.0      Biały       NaN  ...    False   \n",
       "2  Na przednie koła  Auta małe    3.0   Czerwony       NaN  ...    False   \n",
       "3  Na przednie koła  Auta małe    3.0      Szary       NaN  ...    False   \n",
       "4  Na przednie koła    Kompakt    3.0  Niebieski       NaN  ...    False   \n",
       "\n",
       "   Wartburg  Wołga   e.GO    Żuk Benzyna  Benzyna+LPG  Diesel  Hybryda  \\\n",
       "0     False  False  False  False    True        False   False    False   \n",
       "1     False  False  False  False    True        False   False    False   \n",
       "2     False  False  False  False    True        False   False    False   \n",
       "3     False  False  False  False    True        False   False    False   \n",
       "4     False  False  False  False    True        False   False    False   \n",
       "\n",
       "   Hybryda Plug-in  \n",
       "0            False  \n",
       "1            False  \n",
       "2            False  \n",
       "3            False  \n",
       "4            False  \n",
       "\n",
       "[5 rows x 124 columns]"
      ]
     },
     "execution_count": 1703,
     "metadata": {},
     "output_type": "execute_result"
    }
   ],
   "source": [
    "data.head()"
   ]
  },
  {
   "cell_type": "markdown",
   "metadata": {},
   "source": [
    "### drive_type - Drive type"
   ]
  },
  {
   "cell_type": "code",
   "execution_count": 1704,
   "metadata": {},
   "outputs": [
    {
     "data": {
      "text/plain": [
       "24319"
      ]
     },
     "execution_count": 1704,
     "metadata": {},
     "output_type": "execute_result"
    }
   ],
   "source": [
    "# Count the number of missing values\n",
    "data['drive_type'].isna().sum()"
   ]
  },
  {
   "cell_type": "code",
   "execution_count": 1705,
   "metadata": {},
   "outputs": [
    {
     "data": {
      "text/plain": [
       "11.61421271311906"
      ]
     },
     "execution_count": 1705,
     "metadata": {},
     "output_type": "execute_result"
    }
   ],
   "source": [
    "# Calculate the percentage of missing values\n",
    "data['drive_type'].isna().sum() / len(data) * 100"
   ]
  },
  {
   "cell_type": "code",
   "execution_count": 1706,
   "metadata": {},
   "outputs": [],
   "source": [
    "# Remove rows with missing values\n",
    "data = data.dropna(subset=['drive_type'])"
   ]
  },
  {
   "cell_type": "code",
   "execution_count": 1707,
   "metadata": {},
   "outputs": [
    {
     "name": "stdout",
     "output_type": "stream",
     "text": [
      "object\n"
     ]
    }
   ],
   "source": [
    "type_drive_type = data['drive_type'].dtype\n",
    "print(type_drive_type)"
   ]
  },
  {
   "cell_type": "code",
   "execution_count": 1708,
   "metadata": {},
   "outputs": [
    {
     "data": {
      "text/plain": [
       "drive_type\n",
       "Na przednie koła                 122717\n",
       "4x4 (stały)                       23126\n",
       "4x4 (dołączany automatycznie)     21163\n",
       "Na tylne koła                     13390\n",
       "4x4 (dołączany ręcznie)            4675\n",
       "Name: count, dtype: int64"
      ]
     },
     "execution_count": 1708,
     "metadata": {},
     "output_type": "execute_result"
    }
   ],
   "source": [
    "# Display unique values and their counts\n",
    "unique_drive_type = data['drive_type'].value_counts()\n",
    "\n",
    "unique_drive_type"
   ]
  },
  {
   "cell_type": "code",
   "execution_count": 1709,
   "metadata": {},
   "outputs": [],
   "source": [
    "# First, translate the categories to English\n",
    "data['drive_type'] = data['drive_type'].replace({\n",
    "    'Na przednie koła': 'Front_wheel_drive',\n",
    "    'Na tylne koła': 'Rear_wheel_drive',\n",
    "    '4x4 (stały)': '4x4',\n",
    "    '4x4 (dołączany automatycznie)': '4x4',\n",
    "    '4x4 (dołączany ręcznie)': '4x4'\n",
    "})"
   ]
  },
  {
   "cell_type": "code",
   "execution_count": 1710,
   "metadata": {},
   "outputs": [
    {
     "data": {
      "image/png": "[encoded data removed]",
      "text/plain": [
       "<Figure size 1000x600 with 1 Axes>"
      ]
     },
     "metadata": {},
     "output_type": "display_data"
    }
   ],
   "source": [
    "# Create the scatter plot\n",
    "plt.figure(figsize=(10, 6))\n",
    "sns.scatterplot(x='drive_type', y='price', data=data, alpha=0.5, edgecolor=None)\n",
    "plt.xticks(['Front-wheel drive', 'Rear-wheel drive', '4x4'])\n",
    "plt.title('Scatter Plot of Car Prices by Drive Type')\n",
    "plt.xlabel('Drive Type')\n",
    "plt.ylabel('Price')\n",
    "plt.grid(True)\n",
    "plt.show()"
   ]
  },
  {
   "cell_type": "code",
   "execution_count": 1711,
   "metadata": {},
   "outputs": [],
   "source": [
    "# Perform one-hot encoding\n",
    "data = pd.get_dummies(data, columns=['drive_type'])\n",
    "\n",
    "# Remove the prefix from the column names\n",
    "data.columns = data.columns.str.replace('drive_type_', '')"
   ]
  },
  {
   "cell_type": "code",
   "execution_count": 1712,
   "metadata": {},
   "outputs": [
    {
     "data": {
      "text/html": [
       "<div>\n",
       "<style scoped>\n",
       "    .dataframe tbody tr th:only-of-type {\n",
       "        vertical-align: middle;\n",
       "    }\n",
       "\n",
       "    .dataframe tbody tr th {\n",
       "        vertical-align: top;\n",
       "    }\n",
       "\n",
       "    .dataframe thead th {\n",
       "        text-align: right;\n",
       "    }\n",
       "</style>\n",
       "<table border=\"1\" class=\"dataframe\">\n",
       "  <thead>\n",
       "    <tr style=\"text-align: right;\">\n",
       "      <th></th>\n",
       "      <th>year_production</th>\n",
       "      <th>mileage</th>\n",
       "      <th>engine_capacity</th>\n",
       "      <th>power</th>\n",
       "      <th>gearbox</th>\n",
       "      <th>body_type</th>\n",
       "      <th>doors</th>\n",
       "      <th>color</th>\n",
       "      <th>metallic</th>\n",
       "      <th>country_origin</th>\n",
       "      <th>...</th>\n",
       "      <th>e.GO</th>\n",
       "      <th>Żuk</th>\n",
       "      <th>Benzyna</th>\n",
       "      <th>Benzyna+LPG</th>\n",
       "      <th>Diesel</th>\n",
       "      <th>Hybryda</th>\n",
       "      <th>Hybryda Plug-in</th>\n",
       "      <th>4x4</th>\n",
       "      <th>Front_wheel_drive</th>\n",
       "      <th>Rear_wheel_drive</th>\n",
       "    </tr>\n",
       "  </thead>\n",
       "  <tbody>\n",
       "    <tr>\n",
       "      <th>1</th>\n",
       "      <td>2018</td>\n",
       "      <td>48000</td>\n",
       "      <td>1368</td>\n",
       "      <td>145</td>\n",
       "      <td>0</td>\n",
       "      <td>Auta małe</td>\n",
       "      <td>3.0</td>\n",
       "      <td>Biały</td>\n",
       "      <td>NaN</td>\n",
       "      <td>Polska</td>\n",
       "      <td>...</td>\n",
       "      <td>False</td>\n",
       "      <td>False</td>\n",
       "      <td>True</td>\n",
       "      <td>False</td>\n",
       "      <td>False</td>\n",
       "      <td>False</td>\n",
       "      <td>False</td>\n",
       "      <td>False</td>\n",
       "      <td>True</td>\n",
       "      <td>False</td>\n",
       "    </tr>\n",
       "    <tr>\n",
       "      <th>2</th>\n",
       "      <td>2016</td>\n",
       "      <td>54500</td>\n",
       "      <td>1368</td>\n",
       "      <td>145</td>\n",
       "      <td>0</td>\n",
       "      <td>Auta małe</td>\n",
       "      <td>3.0</td>\n",
       "      <td>Czerwony</td>\n",
       "      <td>NaN</td>\n",
       "      <td>NaN</td>\n",
       "      <td>...</td>\n",
       "      <td>False</td>\n",
       "      <td>False</td>\n",
       "      <td>True</td>\n",
       "      <td>False</td>\n",
       "      <td>False</td>\n",
       "      <td>False</td>\n",
       "      <td>False</td>\n",
       "      <td>False</td>\n",
       "      <td>True</td>\n",
       "      <td>False</td>\n",
       "    </tr>\n",
       "    <tr>\n",
       "      <th>3</th>\n",
       "      <td>2023</td>\n",
       "      <td>5578</td>\n",
       "      <td>1368</td>\n",
       "      <td>165</td>\n",
       "      <td>1</td>\n",
       "      <td>Auta małe</td>\n",
       "      <td>3.0</td>\n",
       "      <td>Szary</td>\n",
       "      <td>NaN</td>\n",
       "      <td>Polska</td>\n",
       "      <td>...</td>\n",
       "      <td>False</td>\n",
       "      <td>False</td>\n",
       "      <td>True</td>\n",
       "      <td>False</td>\n",
       "      <td>False</td>\n",
       "      <td>False</td>\n",
       "      <td>False</td>\n",
       "      <td>False</td>\n",
       "      <td>True</td>\n",
       "      <td>False</td>\n",
       "    </tr>\n",
       "    <tr>\n",
       "      <th>4</th>\n",
       "      <td>2019</td>\n",
       "      <td>116000</td>\n",
       "      <td>1368</td>\n",
       "      <td>165</td>\n",
       "      <td>0</td>\n",
       "      <td>Kompakt</td>\n",
       "      <td>3.0</td>\n",
       "      <td>Niebieski</td>\n",
       "      <td>NaN</td>\n",
       "      <td>Włochy</td>\n",
       "      <td>...</td>\n",
       "      <td>False</td>\n",
       "      <td>False</td>\n",
       "      <td>True</td>\n",
       "      <td>False</td>\n",
       "      <td>False</td>\n",
       "      <td>False</td>\n",
       "      <td>False</td>\n",
       "      <td>False</td>\n",
       "      <td>True</td>\n",
       "      <td>False</td>\n",
       "    </tr>\n",
       "    <tr>\n",
       "      <th>5</th>\n",
       "      <td>2022</td>\n",
       "      <td>31190</td>\n",
       "      <td>1368</td>\n",
       "      <td>145</td>\n",
       "      <td>0</td>\n",
       "      <td>Auta małe</td>\n",
       "      <td>3.0</td>\n",
       "      <td>Czerwony</td>\n",
       "      <td>NaN</td>\n",
       "      <td>NaN</td>\n",
       "      <td>...</td>\n",
       "      <td>False</td>\n",
       "      <td>False</td>\n",
       "      <td>True</td>\n",
       "      <td>False</td>\n",
       "      <td>False</td>\n",
       "      <td>False</td>\n",
       "      <td>False</td>\n",
       "      <td>False</td>\n",
       "      <td>True</td>\n",
       "      <td>False</td>\n",
       "    </tr>\n",
       "  </tbody>\n",
       "</table>\n",
       "<p>5 rows × 126 columns</p>\n",
       "</div>"
      ],
      "text/plain": [
       "   year_production  mileage  engine_capacity  power  gearbox  body_type  \\\n",
       "1             2018    48000             1368    145        0  Auta małe   \n",
       "2             2016    54500             1368    145        0  Auta małe   \n",
       "3             2023     5578             1368    165        1  Auta małe   \n",
       "4             2019   116000             1368    165        0    Kompakt   \n",
       "5             2022    31190             1368    145        0  Auta małe   \n",
       "\n",
       "   doors      color  metallic country_origin  ...   e.GO    Żuk Benzyna  \\\n",
       "1    3.0      Biały       NaN         Polska  ...  False  False    True   \n",
       "2    3.0   Czerwony       NaN            NaN  ...  False  False    True   \n",
       "3    3.0      Szary       NaN         Polska  ...  False  False    True   \n",
       "4    3.0  Niebieski       NaN         Włochy  ...  False  False    True   \n",
       "5    3.0   Czerwony       NaN            NaN  ...  False  False    True   \n",
       "\n",
       "   Benzyna+LPG Diesel  Hybryda  Hybryda Plug-in    4x4  Front_wheel_drive  \\\n",
       "1        False  False    False            False  False               True   \n",
       "2        False  False    False            False  False               True   \n",
       "3        False  False    False            False  False               True   \n",
       "4        False  False    False            False  False               True   \n",
       "5        False  False    False            False  False               True   \n",
       "\n",
       "   Rear_wheel_drive  \n",
       "1             False  \n",
       "2             False  \n",
       "3             False  \n",
       "4             False  \n",
       "5             False  \n",
       "\n",
       "[5 rows x 126 columns]"
      ]
     },
     "execution_count": 1712,
     "metadata": {},
     "output_type": "execute_result"
    }
   ],
   "source": [
    "data.head()"
   ]
  },
  {
   "cell_type": "markdown",
   "metadata": {},
   "source": [
    "### body_type - Body type"
   ]
  },
  {
   "cell_type": "code",
   "execution_count": 1713,
   "metadata": {},
   "outputs": [
    {
     "data": {
      "text/plain": [
       "0"
      ]
     },
     "execution_count": 1713,
     "metadata": {},
     "output_type": "execute_result"
    }
   ],
   "source": [
    "# Count the number of missing values\n",
    "data['body_type'].isna().sum()"
   ]
  },
  {
   "cell_type": "code",
   "execution_count": 1714,
   "metadata": {},
   "outputs": [
    {
     "name": "stdout",
     "output_type": "stream",
     "text": [
      "object\n"
     ]
    }
   ],
   "source": [
    "type_body_type = data['body_type'].dtype\n",
    "print(type_body_type)"
   ]
  },
  {
   "cell_type": "code",
   "execution_count": 1715,
   "metadata": {},
   "outputs": [
    {
     "data": {
      "text/plain": [
       "body_type\n",
       "SUV              60618\n",
       "Kombi            34830\n",
       "Kompakt          26384\n",
       "Sedan            23989\n",
       "Minivan          14005\n",
       "Auta miejskie     9736\n",
       "Auta małe         6844\n",
       "Coupe             6260\n",
       "Kabriolet         2405\n",
       "Name: count, dtype: int64"
      ]
     },
     "execution_count": 1715,
     "metadata": {},
     "output_type": "execute_result"
    }
   ],
   "source": [
    "# Display unique values and their counts\n",
    "unique_body_type = data['body_type'].value_counts()\n",
    "\n",
    "unique_body_type"
   ]
  },
  {
   "cell_type": "code",
   "execution_count": 1716,
   "metadata": {},
   "outputs": [],
   "source": [
    "# First, translate the categories to English\n",
    "data['body_type'] = data['body_type'].replace({\n",
    "    'Kombi': 'Combi',\n",
    "    'Kompakt': 'Compact',\n",
    "    'Auta miejskie': 'City_cars',\n",
    "    'Auta małe': 'Small_cars',\n",
    "    'Kabriolet': 'Cabriolet'\n",
    "})"
   ]
  },
  {
   "cell_type": "code",
   "execution_count": 1717,
   "metadata": {},
   "outputs": [
    {
     "data": {
      "image/png": "[encoded data removed]",
      "text/plain": [
       "<Figure size 1000x600 with 1 Axes>"
      ]
     },
     "metadata": {},
     "output_type": "display_data"
    }
   ],
   "source": [
    "# Create the scatter plot\n",
    "plt.figure(figsize=(10, 6))\n",
    "sns.scatterplot(x='body_type', y='price', data=data, alpha=0.5, edgecolor=None)\n",
    "# plt.xticks(['Front-wheel drive', 'Rear-wheel drive', '4x4 (permanent)', '4x4 (automatically engaged)', '4x4 (manually engaged)'])\n",
    "plt.title('Scatter Plot of Car Prices by Body Type')\n",
    "plt.xlabel('Body Type')\n",
    "plt.ylabel('Price')\n",
    "plt.grid(True)\n",
    "plt.show()"
   ]
  },
  {
   "cell_type": "code",
   "execution_count": 1718,
   "metadata": {},
   "outputs": [],
   "source": [
    "# Perform one-hot encoding\n",
    "data = pd.get_dummies(data, columns=['body_type'])\n",
    "\n",
    "# Remove the prefix from the column names\n",
    "data.columns = data.columns.str.replace('body_type_', '')"
   ]
  },
  {
   "cell_type": "code",
   "execution_count": 1719,
   "metadata": {},
   "outputs": [
    {
     "data": {
      "text/html": [
       "<div>\n",
       "<style scoped>\n",
       "    .dataframe tbody tr th:only-of-type {\n",
       "        vertical-align: middle;\n",
       "    }\n",
       "\n",
       "    .dataframe tbody tr th {\n",
       "        vertical-align: top;\n",
       "    }\n",
       "\n",
       "    .dataframe thead th {\n",
       "        text-align: right;\n",
       "    }\n",
       "</style>\n",
       "<table border=\"1\" class=\"dataframe\">\n",
       "  <thead>\n",
       "    <tr style=\"text-align: right;\">\n",
       "      <th></th>\n",
       "      <th>year_production</th>\n",
       "      <th>mileage</th>\n",
       "      <th>engine_capacity</th>\n",
       "      <th>power</th>\n",
       "      <th>gearbox</th>\n",
       "      <th>doors</th>\n",
       "      <th>color</th>\n",
       "      <th>metallic</th>\n",
       "      <th>country_origin</th>\n",
       "      <th>first_owner</th>\n",
       "      <th>...</th>\n",
       "      <th>Rear_wheel_drive</th>\n",
       "      <th>Cabriolet</th>\n",
       "      <th>City_cars</th>\n",
       "      <th>Combi</th>\n",
       "      <th>Compact</th>\n",
       "      <th>Coupe</th>\n",
       "      <th>Minivan</th>\n",
       "      <th>SUV</th>\n",
       "      <th>Sedan</th>\n",
       "      <th>Small_cars</th>\n",
       "    </tr>\n",
       "  </thead>\n",
       "  <tbody>\n",
       "    <tr>\n",
       "      <th>1</th>\n",
       "      <td>2018</td>\n",
       "      <td>48000</td>\n",
       "      <td>1368</td>\n",
       "      <td>145</td>\n",
       "      <td>0</td>\n",
       "      <td>3.0</td>\n",
       "      <td>Biały</td>\n",
       "      <td>NaN</td>\n",
       "      <td>Polska</td>\n",
       "      <td>NaN</td>\n",
       "      <td>...</td>\n",
       "      <td>False</td>\n",
       "      <td>False</td>\n",
       "      <td>False</td>\n",
       "      <td>False</td>\n",
       "      <td>False</td>\n",
       "      <td>False</td>\n",
       "      <td>False</td>\n",
       "      <td>False</td>\n",
       "      <td>False</td>\n",
       "      <td>True</td>\n",
       "    </tr>\n",
       "    <tr>\n",
       "      <th>2</th>\n",
       "      <td>2016</td>\n",
       "      <td>54500</td>\n",
       "      <td>1368</td>\n",
       "      <td>145</td>\n",
       "      <td>0</td>\n",
       "      <td>3.0</td>\n",
       "      <td>Czerwony</td>\n",
       "      <td>NaN</td>\n",
       "      <td>NaN</td>\n",
       "      <td>NaN</td>\n",
       "      <td>...</td>\n",
       "      <td>False</td>\n",
       "      <td>False</td>\n",
       "      <td>False</td>\n",
       "      <td>False</td>\n",
       "      <td>False</td>\n",
       "      <td>False</td>\n",
       "      <td>False</td>\n",
       "      <td>False</td>\n",
       "      <td>False</td>\n",
       "      <td>True</td>\n",
       "    </tr>\n",
       "    <tr>\n",
       "      <th>3</th>\n",
       "      <td>2023</td>\n",
       "      <td>5578</td>\n",
       "      <td>1368</td>\n",
       "      <td>165</td>\n",
       "      <td>1</td>\n",
       "      <td>3.0</td>\n",
       "      <td>Szary</td>\n",
       "      <td>NaN</td>\n",
       "      <td>Polska</td>\n",
       "      <td>NaN</td>\n",
       "      <td>...</td>\n",
       "      <td>False</td>\n",
       "      <td>False</td>\n",
       "      <td>False</td>\n",
       "      <td>False</td>\n",
       "      <td>False</td>\n",
       "      <td>False</td>\n",
       "      <td>False</td>\n",
       "      <td>False</td>\n",
       "      <td>False</td>\n",
       "      <td>True</td>\n",
       "    </tr>\n",
       "    <tr>\n",
       "      <th>4</th>\n",
       "      <td>2019</td>\n",
       "      <td>116000</td>\n",
       "      <td>1368</td>\n",
       "      <td>165</td>\n",
       "      <td>0</td>\n",
       "      <td>3.0</td>\n",
       "      <td>Niebieski</td>\n",
       "      <td>NaN</td>\n",
       "      <td>Włochy</td>\n",
       "      <td>NaN</td>\n",
       "      <td>...</td>\n",
       "      <td>False</td>\n",
       "      <td>False</td>\n",
       "      <td>False</td>\n",
       "      <td>False</td>\n",
       "      <td>True</td>\n",
       "      <td>False</td>\n",
       "      <td>False</td>\n",
       "      <td>False</td>\n",
       "      <td>False</td>\n",
       "      <td>False</td>\n",
       "    </tr>\n",
       "    <tr>\n",
       "      <th>5</th>\n",
       "      <td>2022</td>\n",
       "      <td>31190</td>\n",
       "      <td>1368</td>\n",
       "      <td>145</td>\n",
       "      <td>0</td>\n",
       "      <td>3.0</td>\n",
       "      <td>Czerwony</td>\n",
       "      <td>NaN</td>\n",
       "      <td>NaN</td>\n",
       "      <td>NaN</td>\n",
       "      <td>...</td>\n",
       "      <td>False</td>\n",
       "      <td>False</td>\n",
       "      <td>False</td>\n",
       "      <td>False</td>\n",
       "      <td>False</td>\n",
       "      <td>False</td>\n",
       "      <td>False</td>\n",
       "      <td>False</td>\n",
       "      <td>False</td>\n",
       "      <td>True</td>\n",
       "    </tr>\n",
       "  </tbody>\n",
       "</table>\n",
       "<p>5 rows × 134 columns</p>\n",
       "</div>"
      ],
      "text/plain": [
       "   year_production  mileage  engine_capacity  power  gearbox  doors  \\\n",
       "1             2018    48000             1368    145        0    3.0   \n",
       "2             2016    54500             1368    145        0    3.0   \n",
       "3             2023     5578             1368    165        1    3.0   \n",
       "4             2019   116000             1368    165        0    3.0   \n",
       "5             2022    31190             1368    145        0    3.0   \n",
       "\n",
       "       color  metallic country_origin  first_owner  ... Rear_wheel_drive  \\\n",
       "1      Biały       NaN         Polska          NaN  ...            False   \n",
       "2   Czerwony       NaN            NaN          NaN  ...            False   \n",
       "3      Szary       NaN         Polska          NaN  ...            False   \n",
       "4  Niebieski       NaN         Włochy          NaN  ...            False   \n",
       "5   Czerwony       NaN            NaN          NaN  ...            False   \n",
       "\n",
       "  Cabriolet  City_cars  Combi  Compact  Coupe  Minivan    SUV  Sedan  \\\n",
       "1     False      False  False    False  False    False  False  False   \n",
       "2     False      False  False    False  False    False  False  False   \n",
       "3     False      False  False    False  False    False  False  False   \n",
       "4     False      False  False     True  False    False  False  False   \n",
       "5     False      False  False    False  False    False  False  False   \n",
       "\n",
       "   Small_cars  \n",
       "1        True  \n",
       "2        True  \n",
       "3        True  \n",
       "4       False  \n",
       "5        True  \n",
       "\n",
       "[5 rows x 134 columns]"
      ]
     },
     "execution_count": 1719,
     "metadata": {},
     "output_type": "execute_result"
    }
   ],
   "source": [
    "data.head()"
   ]
  },
  {
   "cell_type": "markdown",
   "metadata": {},
   "source": [
    "### doors - Number of doors"
   ]
  },
  {
   "cell_type": "code",
   "execution_count": 1720,
   "metadata": {},
   "outputs": [
    {
     "data": {
      "text/plain": [
       "448"
      ]
     },
     "execution_count": 1720,
     "metadata": {},
     "output_type": "execute_result"
    }
   ],
   "source": [
    "# Count the number of missing values\n",
    "data['doors'].isna().sum()"
   ]
  },
  {
   "cell_type": "code",
   "execution_count": 1721,
   "metadata": {},
   "outputs": [],
   "source": [
    "# Remove rows with missing values\n",
    "data = data.dropna(subset=['doors'])"
   ]
  },
  {
   "cell_type": "code",
   "execution_count": 1722,
   "metadata": {},
   "outputs": [
    {
     "name": "stdout",
     "output_type": "stream",
     "text": [
      "float64\n"
     ]
    }
   ],
   "source": [
    "type_doors = data['doors'].dtype\n",
    "print(type_doors)"
   ]
  },
  {
   "cell_type": "code",
   "execution_count": 1723,
   "metadata": {},
   "outputs": [],
   "source": [
    "# Convert to integer\n",
    "data['doors'] = data['doors'].astype(int)"
   ]
  },
  {
   "cell_type": "code",
   "execution_count": 1724,
   "metadata": {},
   "outputs": [
    {
     "data": {
      "text/plain": [
       "doors\n",
       "5    150097\n",
       "4     20114\n",
       "3      7830\n",
       "2      6543\n",
       "6        39\n",
       "Name: count, dtype: int64"
      ]
     },
     "execution_count": 1724,
     "metadata": {},
     "output_type": "execute_result"
    }
   ],
   "source": [
    "# Display unique values and their counts\n",
    "unique_doors = data['doors'].value_counts()\n",
    "\n",
    "unique_doors"
   ]
  },
  {
   "cell_type": "code",
   "execution_count": 1725,
   "metadata": {},
   "outputs": [
    {
     "data": {
      "image/png": "[encoded data removed]",
      "text/plain": [
       "<Figure size 1000x600 with 1 Axes>"
      ]
     },
     "metadata": {},
     "output_type": "display_data"
    }
   ],
   "source": [
    "# Group by 'year_production' and calculate the mean price for each year\n",
    "mean_price_per_year = data.groupby('doors')['price'].mean().reset_index()\n",
    "\n",
    "# Plot the data\n",
    "plt.figure(figsize=(10, 6))\n",
    "plt.plot(mean_price_per_year['doors'], mean_price_per_year['price'], marker='o')\n",
    "plt.title('Mean Price by number of doors')\n",
    "plt.xlabel('Number of doors')\n",
    "plt.ylabel('Mean Price')\n",
    "plt.grid(True)\n",
    "plt.show()"
   ]
  },
  {
   "cell_type": "code",
   "execution_count": 1726,
   "metadata": {},
   "outputs": [],
   "source": [
    "# Perform one-hot encoding\n",
    "data = pd.get_dummies(data, columns=['doors'])"
   ]
  },
  {
   "cell_type": "code",
   "execution_count": 1727,
   "metadata": {},
   "outputs": [
    {
     "data": {
      "text/html": [
       "<div>\n",
       "<style scoped>\n",
       "    .dataframe tbody tr th:only-of-type {\n",
       "        vertical-align: middle;\n",
       "    }\n",
       "\n",
       "    .dataframe tbody tr th {\n",
       "        vertical-align: top;\n",
       "    }\n",
       "\n",
       "    .dataframe thead th {\n",
       "        text-align: right;\n",
       "    }\n",
       "</style>\n",
       "<table border=\"1\" class=\"dataframe\">\n",
       "  <thead>\n",
       "    <tr style=\"text-align: right;\">\n",
       "      <th></th>\n",
       "      <th>year_production</th>\n",
       "      <th>mileage</th>\n",
       "      <th>engine_capacity</th>\n",
       "      <th>power</th>\n",
       "      <th>gearbox</th>\n",
       "      <th>color</th>\n",
       "      <th>metallic</th>\n",
       "      <th>country_origin</th>\n",
       "      <th>first_owner</th>\n",
       "      <th>accident_free</th>\n",
       "      <th>...</th>\n",
       "      <th>Coupe</th>\n",
       "      <th>Minivan</th>\n",
       "      <th>SUV</th>\n",
       "      <th>Sedan</th>\n",
       "      <th>Small_cars</th>\n",
       "      <th>doors_2</th>\n",
       "      <th>doors_3</th>\n",
       "      <th>doors_4</th>\n",
       "      <th>doors_5</th>\n",
       "      <th>doors_6</th>\n",
       "    </tr>\n",
       "  </thead>\n",
       "  <tbody>\n",
       "    <tr>\n",
       "      <th>1</th>\n",
       "      <td>2018</td>\n",
       "      <td>48000</td>\n",
       "      <td>1368</td>\n",
       "      <td>145</td>\n",
       "      <td>0</td>\n",
       "      <td>Biały</td>\n",
       "      <td>NaN</td>\n",
       "      <td>Polska</td>\n",
       "      <td>NaN</td>\n",
       "      <td>Tak</td>\n",
       "      <td>...</td>\n",
       "      <td>False</td>\n",
       "      <td>False</td>\n",
       "      <td>False</td>\n",
       "      <td>False</td>\n",
       "      <td>True</td>\n",
       "      <td>False</td>\n",
       "      <td>True</td>\n",
       "      <td>False</td>\n",
       "      <td>False</td>\n",
       "      <td>False</td>\n",
       "    </tr>\n",
       "    <tr>\n",
       "      <th>2</th>\n",
       "      <td>2016</td>\n",
       "      <td>54500</td>\n",
       "      <td>1368</td>\n",
       "      <td>145</td>\n",
       "      <td>0</td>\n",
       "      <td>Czerwony</td>\n",
       "      <td>NaN</td>\n",
       "      <td>NaN</td>\n",
       "      <td>NaN</td>\n",
       "      <td>NaN</td>\n",
       "      <td>...</td>\n",
       "      <td>False</td>\n",
       "      <td>False</td>\n",
       "      <td>False</td>\n",
       "      <td>False</td>\n",
       "      <td>True</td>\n",
       "      <td>False</td>\n",
       "      <td>True</td>\n",
       "      <td>False</td>\n",
       "      <td>False</td>\n",
       "      <td>False</td>\n",
       "    </tr>\n",
       "    <tr>\n",
       "      <th>3</th>\n",
       "      <td>2023</td>\n",
       "      <td>5578</td>\n",
       "      <td>1368</td>\n",
       "      <td>165</td>\n",
       "      <td>1</td>\n",
       "      <td>Szary</td>\n",
       "      <td>NaN</td>\n",
       "      <td>Polska</td>\n",
       "      <td>NaN</td>\n",
       "      <td>Tak</td>\n",
       "      <td>...</td>\n",
       "      <td>False</td>\n",
       "      <td>False</td>\n",
       "      <td>False</td>\n",
       "      <td>False</td>\n",
       "      <td>True</td>\n",
       "      <td>False</td>\n",
       "      <td>True</td>\n",
       "      <td>False</td>\n",
       "      <td>False</td>\n",
       "      <td>False</td>\n",
       "    </tr>\n",
       "    <tr>\n",
       "      <th>4</th>\n",
       "      <td>2019</td>\n",
       "      <td>116000</td>\n",
       "      <td>1368</td>\n",
       "      <td>165</td>\n",
       "      <td>0</td>\n",
       "      <td>Niebieski</td>\n",
       "      <td>NaN</td>\n",
       "      <td>Włochy</td>\n",
       "      <td>NaN</td>\n",
       "      <td>Tak</td>\n",
       "      <td>...</td>\n",
       "      <td>False</td>\n",
       "      <td>False</td>\n",
       "      <td>False</td>\n",
       "      <td>False</td>\n",
       "      <td>False</td>\n",
       "      <td>False</td>\n",
       "      <td>True</td>\n",
       "      <td>False</td>\n",
       "      <td>False</td>\n",
       "      <td>False</td>\n",
       "    </tr>\n",
       "    <tr>\n",
       "      <th>5</th>\n",
       "      <td>2022</td>\n",
       "      <td>31190</td>\n",
       "      <td>1368</td>\n",
       "      <td>145</td>\n",
       "      <td>0</td>\n",
       "      <td>Czerwony</td>\n",
       "      <td>NaN</td>\n",
       "      <td>NaN</td>\n",
       "      <td>NaN</td>\n",
       "      <td>Tak</td>\n",
       "      <td>...</td>\n",
       "      <td>False</td>\n",
       "      <td>False</td>\n",
       "      <td>False</td>\n",
       "      <td>False</td>\n",
       "      <td>True</td>\n",
       "      <td>False</td>\n",
       "      <td>True</td>\n",
       "      <td>False</td>\n",
       "      <td>False</td>\n",
       "      <td>False</td>\n",
       "    </tr>\n",
       "  </tbody>\n",
       "</table>\n",
       "<p>5 rows × 138 columns</p>\n",
       "</div>"
      ],
      "text/plain": [
       "   year_production  mileage  engine_capacity  power  gearbox      color  \\\n",
       "1             2018    48000             1368    145        0      Biały   \n",
       "2             2016    54500             1368    145        0   Czerwony   \n",
       "3             2023     5578             1368    165        1      Szary   \n",
       "4             2019   116000             1368    165        0  Niebieski   \n",
       "5             2022    31190             1368    145        0   Czerwony   \n",
       "\n",
       "   metallic country_origin  first_owner accident_free  ...  Coupe  Minivan  \\\n",
       "1       NaN         Polska          NaN           Tak  ...  False    False   \n",
       "2       NaN            NaN          NaN           NaN  ...  False    False   \n",
       "3       NaN         Polska          NaN           Tak  ...  False    False   \n",
       "4       NaN         Włochy          NaN           Tak  ...  False    False   \n",
       "5       NaN            NaN          NaN           Tak  ...  False    False   \n",
       "\n",
       "     SUV  Sedan  Small_cars  doors_2  doors_3  doors_4  doors_5  doors_6  \n",
       "1  False  False        True    False     True    False    False    False  \n",
       "2  False  False        True    False     True    False    False    False  \n",
       "3  False  False        True    False     True    False    False    False  \n",
       "4  False  False       False    False     True    False    False    False  \n",
       "5  False  False        True    False     True    False    False    False  \n",
       "\n",
       "[5 rows x 138 columns]"
      ]
     },
     "execution_count": 1727,
     "metadata": {},
     "output_type": "execute_result"
    }
   ],
   "source": [
    "data.head()"
   ]
  },
  {
   "cell_type": "markdown",
   "metadata": {},
   "source": [
    "### color\t"
   ]
  },
  {
   "cell_type": "code",
   "execution_count": 1728,
   "metadata": {},
   "outputs": [
    {
     "data": {
      "text/plain": [
       "0"
      ]
     },
     "execution_count": 1728,
     "metadata": {},
     "output_type": "execute_result"
    }
   ],
   "source": [
    "# Count the number of missing values\n",
    "data['color'].isna().sum()"
   ]
  },
  {
   "cell_type": "code",
   "execution_count": 1729,
   "metadata": {},
   "outputs": [
    {
     "name": "stdout",
     "output_type": "stream",
     "text": [
      "object\n"
     ]
    }
   ],
   "source": [
    "type_color = data['color'].dtype\n",
    "print(type_color)"
   ]
  },
  {
   "cell_type": "code",
   "execution_count": 1730,
   "metadata": {},
   "outputs": [
    {
     "data": {
      "text/plain": [
       "color\n",
       "Czarny          46009\n",
       "Szary           31362\n",
       "Biały           31101\n",
       "Srebrny         20241\n",
       "Niebieski       12299\n",
       "Czerwony         8865\n",
       "Inny kolor       8340\n",
       "Granatowy        6100\n",
       "Brązowy          5103\n",
       "Zielony          3499\n",
       "Bordowy          3289\n",
       "Beżowy           2177\n",
       "Złoty            2125\n",
       "Błękitny         1673\n",
       "Pomarańczowy     1076\n",
       "Żółty             740\n",
       "Fioletowy         624\n",
       "Name: count, dtype: int64"
      ]
     },
     "execution_count": 1730,
     "metadata": {},
     "output_type": "execute_result"
    }
   ],
   "source": [
    "# Display unique values and their counts\n",
    "unique_color = data['color'].value_counts()\n",
    "\n",
    "unique_color"
   ]
  },
  {
   "cell_type": "code",
   "execution_count": 1731,
   "metadata": {},
   "outputs": [],
   "source": [
    "# First, translate the categories to English\n",
    "data['color'] = data['color'].replace({\n",
    "    'Czarny': 'Black',\n",
    "    'Szary': 'Gray',\n",
    "    'Biały': 'White',\n",
    "    'Srebrny': 'Silver',\n",
    "    'Niebieski': 'Blue',\n",
    "    'Czerwony': 'Red',\n",
    "    'Inny kolor': 'Other_color',\n",
    "    'Granatowy': 'Navy_blue',\n",
    "    'Brązowy': 'Brown',\n",
    "    'Zielony': 'Green',\n",
    "    'Bordowy': 'Burgundy',\n",
    "    'Beżowy': 'Beige',\n",
    "    'Złoty': 'Gold',\n",
    "    'Błękitny': 'Light_blue',\n",
    "    'Pomarańczowy': 'Orange',\n",
    "    'Żółty': 'Yellow',\n",
    "    'Fioletowy': 'Purple'\n",
    "})"
   ]
  },
  {
   "cell_type": "code",
   "execution_count": 1732,
   "metadata": {},
   "outputs": [
    {
     "data": {
      "image/png": "[encoded data removed]",
      "text/plain": [
       "<Figure size 1400x800 with 1 Axes>"
      ]
     },
     "metadata": {},
     "output_type": "display_data"
    }
   ],
   "source": [
    "# Group by 'year_production' and calculate the mean price for each year\n",
    "mean_price_per_year = data.groupby('color')['price'].mean().reset_index()\n",
    "\n",
    "# Plot the data\n",
    "plt.figure(figsize=(14, 8))  # Increase figure size for better visibility\n",
    "plt.plot(mean_price_per_year['color'], mean_price_per_year['price'], marker='o')\n",
    "plt.title('Mean Price by Colors', fontsize=16)\n",
    "plt.xlabel('Colors', fontsize=14)\n",
    "plt.ylabel('Mean Price', fontsize=14)\n",
    "plt.grid(True)\n",
    "plt.xticks(rotation=45, ha='right', fontsize=12)  # Rotate x-axis labels for better visibility\n",
    "plt.yticks(fontsize=12)\n",
    "plt.show()"
   ]
  },
  {
   "cell_type": "code",
   "execution_count": 1733,
   "metadata": {},
   "outputs": [],
   "source": [
    "# Perform one-hot encoding \n",
    "data = pd.get_dummies(data, columns=['color'])\n",
    "\n",
    "# Remove the prefix from the column names\n",
    "data.columns = data.columns.str.replace('color_', '')"
   ]
  },
  {
   "cell_type": "code",
   "execution_count": 1734,
   "metadata": {},
   "outputs": [
    {
     "data": {
      "text/html": [
       "<div>\n",
       "<style scoped>\n",
       "    .dataframe tbody tr th:only-of-type {\n",
       "        vertical-align: middle;\n",
       "    }\n",
       "\n",
       "    .dataframe tbody tr th {\n",
       "        vertical-align: top;\n",
       "    }\n",
       "\n",
       "    .dataframe thead th {\n",
       "        text-align: right;\n",
       "    }\n",
       "</style>\n",
       "<table border=\"1\" class=\"dataframe\">\n",
       "  <thead>\n",
       "    <tr style=\"text-align: right;\">\n",
       "      <th></th>\n",
       "      <th>year_production</th>\n",
       "      <th>mileage</th>\n",
       "      <th>engine_capacity</th>\n",
       "      <th>power</th>\n",
       "      <th>gearbox</th>\n",
       "      <th>metallic</th>\n",
       "      <th>country_origin</th>\n",
       "      <th>first_owner</th>\n",
       "      <th>accident_free</th>\n",
       "      <th>condition</th>\n",
       "      <th>...</th>\n",
       "      <th>Green</th>\n",
       "      <th>Light_blue</th>\n",
       "      <th>Navy_blue</th>\n",
       "      <th>Orange</th>\n",
       "      <th>Other_color</th>\n",
       "      <th>Purple</th>\n",
       "      <th>Red</th>\n",
       "      <th>Silver</th>\n",
       "      <th>White</th>\n",
       "      <th>Yellow</th>\n",
       "    </tr>\n",
       "  </thead>\n",
       "  <tbody>\n",
       "    <tr>\n",
       "      <th>1</th>\n",
       "      <td>2018</td>\n",
       "      <td>48000</td>\n",
       "      <td>1368</td>\n",
       "      <td>145</td>\n",
       "      <td>0</td>\n",
       "      <td>NaN</td>\n",
       "      <td>Polska</td>\n",
       "      <td>NaN</td>\n",
       "      <td>Tak</td>\n",
       "      <td>Używane</td>\n",
       "      <td>...</td>\n",
       "      <td>False</td>\n",
       "      <td>False</td>\n",
       "      <td>False</td>\n",
       "      <td>False</td>\n",
       "      <td>False</td>\n",
       "      <td>False</td>\n",
       "      <td>False</td>\n",
       "      <td>False</td>\n",
       "      <td>True</td>\n",
       "      <td>False</td>\n",
       "    </tr>\n",
       "    <tr>\n",
       "      <th>2</th>\n",
       "      <td>2016</td>\n",
       "      <td>54500</td>\n",
       "      <td>1368</td>\n",
       "      <td>145</td>\n",
       "      <td>0</td>\n",
       "      <td>NaN</td>\n",
       "      <td>NaN</td>\n",
       "      <td>NaN</td>\n",
       "      <td>NaN</td>\n",
       "      <td>Używane</td>\n",
       "      <td>...</td>\n",
       "      <td>False</td>\n",
       "      <td>False</td>\n",
       "      <td>False</td>\n",
       "      <td>False</td>\n",
       "      <td>False</td>\n",
       "      <td>False</td>\n",
       "      <td>True</td>\n",
       "      <td>False</td>\n",
       "      <td>False</td>\n",
       "      <td>False</td>\n",
       "    </tr>\n",
       "    <tr>\n",
       "      <th>3</th>\n",
       "      <td>2023</td>\n",
       "      <td>5578</td>\n",
       "      <td>1368</td>\n",
       "      <td>165</td>\n",
       "      <td>1</td>\n",
       "      <td>NaN</td>\n",
       "      <td>Polska</td>\n",
       "      <td>NaN</td>\n",
       "      <td>Tak</td>\n",
       "      <td>Używane</td>\n",
       "      <td>...</td>\n",
       "      <td>False</td>\n",
       "      <td>False</td>\n",
       "      <td>False</td>\n",
       "      <td>False</td>\n",
       "      <td>False</td>\n",
       "      <td>False</td>\n",
       "      <td>False</td>\n",
       "      <td>False</td>\n",
       "      <td>False</td>\n",
       "      <td>False</td>\n",
       "    </tr>\n",
       "    <tr>\n",
       "      <th>4</th>\n",
       "      <td>2019</td>\n",
       "      <td>116000</td>\n",
       "      <td>1368</td>\n",
       "      <td>165</td>\n",
       "      <td>0</td>\n",
       "      <td>NaN</td>\n",
       "      <td>Włochy</td>\n",
       "      <td>NaN</td>\n",
       "      <td>Tak</td>\n",
       "      <td>Używane</td>\n",
       "      <td>...</td>\n",
       "      <td>False</td>\n",
       "      <td>False</td>\n",
       "      <td>False</td>\n",
       "      <td>False</td>\n",
       "      <td>False</td>\n",
       "      <td>False</td>\n",
       "      <td>False</td>\n",
       "      <td>False</td>\n",
       "      <td>False</td>\n",
       "      <td>False</td>\n",
       "    </tr>\n",
       "    <tr>\n",
       "      <th>5</th>\n",
       "      <td>2022</td>\n",
       "      <td>31190</td>\n",
       "      <td>1368</td>\n",
       "      <td>145</td>\n",
       "      <td>0</td>\n",
       "      <td>NaN</td>\n",
       "      <td>NaN</td>\n",
       "      <td>NaN</td>\n",
       "      <td>Tak</td>\n",
       "      <td>Używane</td>\n",
       "      <td>...</td>\n",
       "      <td>False</td>\n",
       "      <td>False</td>\n",
       "      <td>False</td>\n",
       "      <td>False</td>\n",
       "      <td>False</td>\n",
       "      <td>False</td>\n",
       "      <td>True</td>\n",
       "      <td>False</td>\n",
       "      <td>False</td>\n",
       "      <td>False</td>\n",
       "    </tr>\n",
       "  </tbody>\n",
       "</table>\n",
       "<p>5 rows × 154 columns</p>\n",
       "</div>"
      ],
      "text/plain": [
       "   year_production  mileage  engine_capacity  power  gearbox  metallic  \\\n",
       "1             2018    48000             1368    145        0       NaN   \n",
       "2             2016    54500             1368    145        0       NaN   \n",
       "3             2023     5578             1368    165        1       NaN   \n",
       "4             2019   116000             1368    165        0       NaN   \n",
       "5             2022    31190             1368    145        0       NaN   \n",
       "\n",
       "  country_origin  first_owner accident_free condition  ...  Green Light_blue  \\\n",
       "1         Polska          NaN           Tak   Używane  ...  False      False   \n",
       "2            NaN          NaN           NaN   Używane  ...  False      False   \n",
       "3         Polska          NaN           Tak   Używane  ...  False      False   \n",
       "4         Włochy          NaN           Tak   Używane  ...  False      False   \n",
       "5            NaN          NaN           Tak   Używane  ...  False      False   \n",
       "\n",
       "   Navy_blue  Orange  Other_color  Purple    Red  Silver  White  Yellow  \n",
       "1      False   False        False   False  False   False   True   False  \n",
       "2      False   False        False   False   True   False  False   False  \n",
       "3      False   False        False   False  False   False  False   False  \n",
       "4      False   False        False   False  False   False  False   False  \n",
       "5      False   False        False   False   True   False  False   False  \n",
       "\n",
       "[5 rows x 154 columns]"
      ]
     },
     "execution_count": 1734,
     "metadata": {},
     "output_type": "execute_result"
    }
   ],
   "source": [
    "data.head()"
   ]
  },
  {
   "cell_type": "markdown",
   "metadata": {},
   "source": [
    "### metallic - Metallic paint"
   ]
  },
  {
   "cell_type": "code",
   "execution_count": 1735,
   "metadata": {},
   "outputs": [
    {
     "data": {
      "text/plain": [
       "184623"
      ]
     },
     "execution_count": 1735,
     "metadata": {},
     "output_type": "execute_result"
    }
   ],
   "source": [
    "# Count the number of missing values\n",
    "data['metallic'].isna().sum()"
   ]
  },
  {
   "cell_type": "code",
   "execution_count": 1736,
   "metadata": {},
   "outputs": [
    {
     "data": {
      "text/plain": [
       "100.0"
      ]
     },
     "execution_count": 1736,
     "metadata": {},
     "output_type": "execute_result"
    }
   ],
   "source": [
    "# Calculate the percentage of missing values\n",
    "data['metallic'].isna().sum() / len(data) * 100"
   ]
  },
  {
   "cell_type": "markdown",
   "metadata": {},
   "source": [
    "Because of 100% missings, decided to remove this feature"
   ]
  },
  {
   "cell_type": "code",
   "execution_count": 1737,
   "metadata": {},
   "outputs": [],
   "source": [
    "# Remove the 'model' column\n",
    "data = data.drop(columns=['metallic'])"
   ]
  },
  {
   "cell_type": "markdown",
   "metadata": {},
   "source": [
    "### country_origin - Country of origin"
   ]
  },
  {
   "cell_type": "code",
   "execution_count": 1738,
   "metadata": {},
   "outputs": [
    {
     "data": {
      "text/plain": [
       "61892"
      ]
     },
     "execution_count": 1738,
     "metadata": {},
     "output_type": "execute_result"
    }
   ],
   "source": [
    "# Count the number of missing values\n",
    "data['country_origin'].isna().sum()"
   ]
  },
  {
   "cell_type": "code",
   "execution_count": 1739,
   "metadata": {},
   "outputs": [
    {
     "data": {
      "text/plain": [
       "33.52345049100058"
      ]
     },
     "execution_count": 1739,
     "metadata": {},
     "output_type": "execute_result"
    }
   ],
   "source": [
    "# Calculate the percentage of missing values\n",
    "data['country_origin'].isna().sum() / len(data) * 100"
   ]
  },
  {
   "cell_type": "markdown",
   "metadata": {},
   "source": [
    "Because of 33% missings, decided to remove this feature"
   ]
  },
  {
   "cell_type": "code",
   "execution_count": 1740,
   "metadata": {},
   "outputs": [],
   "source": [
    "# Remove the 'model' column\n",
    "data = data.drop(columns=['country_origin'])"
   ]
  },
  {
   "cell_type": "markdown",
   "metadata": {},
   "source": [
    "### first_owner\t- First owner"
   ]
  },
  {
   "cell_type": "code",
   "execution_count": 1741,
   "metadata": {},
   "outputs": [
    {
     "data": {
      "text/plain": [
       "184623"
      ]
     },
     "execution_count": 1741,
     "metadata": {},
     "output_type": "execute_result"
    }
   ],
   "source": [
    "# Count the number of missing values\n",
    "data['first_owner'].isna().sum()"
   ]
  },
  {
   "cell_type": "code",
   "execution_count": 1742,
   "metadata": {},
   "outputs": [
    {
     "data": {
      "text/plain": [
       "100.0"
      ]
     },
     "execution_count": 1742,
     "metadata": {},
     "output_type": "execute_result"
    }
   ],
   "source": [
    "# Calculate the percentage of missing values\n",
    "data['first_owner'].isna().sum() / len(data) * 100"
   ]
  },
  {
   "cell_type": "markdown",
   "metadata": {},
   "source": [
    "Because of 100% missings, decided to remove this feature"
   ]
  },
  {
   "cell_type": "code",
   "execution_count": 1743,
   "metadata": {},
   "outputs": [],
   "source": [
    "# Remove the 'model' column\n",
    "data = data.drop(columns=['first_owner'])"
   ]
  },
  {
   "cell_type": "markdown",
   "metadata": {},
   "source": [
    "### accident_free - Accident-free vehicle"
   ]
  },
  {
   "cell_type": "code",
   "execution_count": 1744,
   "metadata": {},
   "outputs": [
    {
     "data": {
      "text/plain": [
       "74044"
      ]
     },
     "execution_count": 1744,
     "metadata": {},
     "output_type": "execute_result"
    }
   ],
   "source": [
    "# Count the number of missing values\n",
    "data['accident_free'].isna().sum()"
   ]
  },
  {
   "cell_type": "code",
   "execution_count": 1745,
   "metadata": {},
   "outputs": [
    {
     "data": {
      "text/plain": [
       "40.1055123142837"
      ]
     },
     "execution_count": 1745,
     "metadata": {},
     "output_type": "execute_result"
    }
   ],
   "source": [
    "# Calculate the percentage of missing values\n",
    "data['accident_free'].isna().sum() / len(data) * 100"
   ]
  },
  {
   "cell_type": "markdown",
   "metadata": {},
   "source": [
    "Because of 40% missings, decided to remove this feature"
   ]
  },
  {
   "cell_type": "code",
   "execution_count": 1746,
   "metadata": {},
   "outputs": [],
   "source": [
    "# Remove the 'model' column\n",
    "data = data.drop(columns=['accident_free'])"
   ]
  },
  {
   "cell_type": "markdown",
   "metadata": {},
   "source": [
    "### condition\t"
   ]
  },
  {
   "cell_type": "code",
   "execution_count": 1747,
   "metadata": {},
   "outputs": [
    {
     "data": {
      "text/plain": [
       "0"
      ]
     },
     "execution_count": 1747,
     "metadata": {},
     "output_type": "execute_result"
    }
   ],
   "source": [
    "# Count the number of missing values\n",
    "data['condition'].isna().sum()"
   ]
  },
  {
   "cell_type": "code",
   "execution_count": 1748,
   "metadata": {},
   "outputs": [
    {
     "name": "stdout",
     "output_type": "stream",
     "text": [
      "object\n"
     ]
    }
   ],
   "source": [
    "type_condition = data['condition'].dtype\n",
    "print(type_condition)"
   ]
  },
  {
   "cell_type": "code",
   "execution_count": 1749,
   "metadata": {},
   "outputs": [
    {
     "data": {
      "text/plain": [
       "condition\n",
       "Używane    155019\n",
       "Nowe        14510\n",
       "Używany     13772\n",
       "Nowy         1322\n",
       "Name: count, dtype: int64"
      ]
     },
     "execution_count": 1749,
     "metadata": {},
     "output_type": "execute_result"
    }
   ],
   "source": [
    "# Display unique values and their counts\n",
    "unique_condition = data['condition'].value_counts()\n",
    "\n",
    "unique_condition"
   ]
  },
  {
   "cell_type": "code",
   "execution_count": 1750,
   "metadata": {},
   "outputs": [],
   "source": [
    "# First, translate the categories to English\n",
    "data['condition'] = data['condition'].replace({\n",
    "    'Używane': 'Used_cars',\n",
    "    'Nowe': 'New_cars',\n",
    "    'Używany': 'Used_cars',\n",
    "    'Nowy': 'New_cars'\n",
    "})"
   ]
  },
  {
   "cell_type": "code",
   "execution_count": 1751,
   "metadata": {},
   "outputs": [
    {
     "data": {
      "image/png": "[encoded data removed]",
      "text/plain": [
       "<Figure size 1000x600 with 1 Axes>"
      ]
     },
     "metadata": {},
     "output_type": "display_data"
    }
   ],
   "source": [
    "# Create the scatter plot\n",
    "plt.figure(figsize=(10, 6))\n",
    "sns.scatterplot(x='condition', y='price', data=data, alpha=0.5, edgecolor=None)\n",
    "plt.title('Scatter Plot of Car Prices by condition')\n",
    "plt.xlabel('Condition')\n",
    "plt.ylabel('Price')\n",
    "plt.grid(True)\n",
    "plt.show()"
   ]
  },
  {
   "cell_type": "code",
   "execution_count": 1752,
   "metadata": {},
   "outputs": [],
   "source": [
    "# Perform one-hot encoding\n",
    "data = pd.get_dummies(data, columns=['condition'])\n",
    "\n",
    "# Remove the prefix from the column names\n",
    "data.columns = data.columns.str.replace('condition_', '')"
   ]
  },
  {
   "cell_type": "code",
   "execution_count": 1753,
   "metadata": {},
   "outputs": [
    {
     "data": {
      "text/html": [
       "<div>\n",
       "<style scoped>\n",
       "    .dataframe tbody tr th:only-of-type {\n",
       "        vertical-align: middle;\n",
       "    }\n",
       "\n",
       "    .dataframe tbody tr th {\n",
       "        vertical-align: top;\n",
       "    }\n",
       "\n",
       "    .dataframe thead th {\n",
       "        text-align: right;\n",
       "    }\n",
       "</style>\n",
       "<table border=\"1\" class=\"dataframe\">\n",
       "  <thead>\n",
       "    <tr style=\"text-align: right;\">\n",
       "      <th></th>\n",
       "      <th>year_production</th>\n",
       "      <th>mileage</th>\n",
       "      <th>engine_capacity</th>\n",
       "      <th>power</th>\n",
       "      <th>gearbox</th>\n",
       "      <th>price</th>\n",
       "      <th>currency</th>\n",
       "      <th>Abarth</th>\n",
       "      <th>Acura</th>\n",
       "      <th>Aixam</th>\n",
       "      <th>...</th>\n",
       "      <th>Navy_blue</th>\n",
       "      <th>Orange</th>\n",
       "      <th>Other_color</th>\n",
       "      <th>Purple</th>\n",
       "      <th>Red</th>\n",
       "      <th>Silver</th>\n",
       "      <th>White</th>\n",
       "      <th>Yellow</th>\n",
       "      <th>New_cars</th>\n",
       "      <th>Used_cars</th>\n",
       "    </tr>\n",
       "  </thead>\n",
       "  <tbody>\n",
       "    <tr>\n",
       "      <th>1</th>\n",
       "      <td>2018</td>\n",
       "      <td>48000</td>\n",
       "      <td>1368</td>\n",
       "      <td>145</td>\n",
       "      <td>0</td>\n",
       "      <td>82999.0</td>\n",
       "      <td>PLN</td>\n",
       "      <td>True</td>\n",
       "      <td>False</td>\n",
       "      <td>False</td>\n",
       "      <td>...</td>\n",
       "      <td>False</td>\n",
       "      <td>False</td>\n",
       "      <td>False</td>\n",
       "      <td>False</td>\n",
       "      <td>False</td>\n",
       "      <td>False</td>\n",
       "      <td>True</td>\n",
       "      <td>False</td>\n",
       "      <td>False</td>\n",
       "      <td>True</td>\n",
       "    </tr>\n",
       "    <tr>\n",
       "      <th>2</th>\n",
       "      <td>2016</td>\n",
       "      <td>54500</td>\n",
       "      <td>1368</td>\n",
       "      <td>145</td>\n",
       "      <td>0</td>\n",
       "      <td>59900.0</td>\n",
       "      <td>PLN</td>\n",
       "      <td>True</td>\n",
       "      <td>False</td>\n",
       "      <td>False</td>\n",
       "      <td>...</td>\n",
       "      <td>False</td>\n",
       "      <td>False</td>\n",
       "      <td>False</td>\n",
       "      <td>False</td>\n",
       "      <td>True</td>\n",
       "      <td>False</td>\n",
       "      <td>False</td>\n",
       "      <td>False</td>\n",
       "      <td>False</td>\n",
       "      <td>True</td>\n",
       "    </tr>\n",
       "    <tr>\n",
       "      <th>3</th>\n",
       "      <td>2023</td>\n",
       "      <td>5578</td>\n",
       "      <td>1368</td>\n",
       "      <td>165</td>\n",
       "      <td>1</td>\n",
       "      <td>135000.0</td>\n",
       "      <td>PLN</td>\n",
       "      <td>True</td>\n",
       "      <td>False</td>\n",
       "      <td>False</td>\n",
       "      <td>...</td>\n",
       "      <td>False</td>\n",
       "      <td>False</td>\n",
       "      <td>False</td>\n",
       "      <td>False</td>\n",
       "      <td>False</td>\n",
       "      <td>False</td>\n",
       "      <td>False</td>\n",
       "      <td>False</td>\n",
       "      <td>False</td>\n",
       "      <td>True</td>\n",
       "    </tr>\n",
       "    <tr>\n",
       "      <th>4</th>\n",
       "      <td>2019</td>\n",
       "      <td>116000</td>\n",
       "      <td>1368</td>\n",
       "      <td>165</td>\n",
       "      <td>0</td>\n",
       "      <td>79900.0</td>\n",
       "      <td>PLN</td>\n",
       "      <td>True</td>\n",
       "      <td>False</td>\n",
       "      <td>False</td>\n",
       "      <td>...</td>\n",
       "      <td>False</td>\n",
       "      <td>False</td>\n",
       "      <td>False</td>\n",
       "      <td>False</td>\n",
       "      <td>False</td>\n",
       "      <td>False</td>\n",
       "      <td>False</td>\n",
       "      <td>False</td>\n",
       "      <td>False</td>\n",
       "      <td>True</td>\n",
       "    </tr>\n",
       "    <tr>\n",
       "      <th>5</th>\n",
       "      <td>2022</td>\n",
       "      <td>31190</td>\n",
       "      <td>1368</td>\n",
       "      <td>145</td>\n",
       "      <td>0</td>\n",
       "      <td>82000.0</td>\n",
       "      <td>PLN</td>\n",
       "      <td>True</td>\n",
       "      <td>False</td>\n",
       "      <td>False</td>\n",
       "      <td>...</td>\n",
       "      <td>False</td>\n",
       "      <td>False</td>\n",
       "      <td>False</td>\n",
       "      <td>False</td>\n",
       "      <td>True</td>\n",
       "      <td>False</td>\n",
       "      <td>False</td>\n",
       "      <td>False</td>\n",
       "      <td>False</td>\n",
       "      <td>True</td>\n",
       "    </tr>\n",
       "  </tbody>\n",
       "</table>\n",
       "<p>5 rows × 151 columns</p>\n",
       "</div>"
      ],
      "text/plain": [
       "   year_production  mileage  engine_capacity  power  gearbox     price  \\\n",
       "1             2018    48000             1368    145        0   82999.0   \n",
       "2             2016    54500             1368    145        0   59900.0   \n",
       "3             2023     5578             1368    165        1  135000.0   \n",
       "4             2019   116000             1368    165        0   79900.0   \n",
       "5             2022    31190             1368    145        0   82000.0   \n",
       "\n",
       "  currency  Abarth  Acura  Aixam  ...  Navy_blue  Orange  Other_color  Purple  \\\n",
       "1      PLN    True  False  False  ...      False   False        False   False   \n",
       "2      PLN    True  False  False  ...      False   False        False   False   \n",
       "3      PLN    True  False  False  ...      False   False        False   False   \n",
       "4      PLN    True  False  False  ...      False   False        False   False   \n",
       "5      PLN    True  False  False  ...      False   False        False   False   \n",
       "\n",
       "     Red  Silver  White  Yellow  New_cars  Used_cars  \n",
       "1  False   False   True   False     False       True  \n",
       "2   True   False  False   False     False       True  \n",
       "3  False   False  False   False     False       True  \n",
       "4  False   False  False   False     False       True  \n",
       "5   True   False  False   False     False       True  \n",
       "\n",
       "[5 rows x 151 columns]"
      ]
     },
     "execution_count": 1753,
     "metadata": {},
     "output_type": "execute_result"
    }
   ],
   "source": [
    "data.head()"
   ]
  },
  {
   "cell_type": "markdown",
   "metadata": {},
   "source": [
    "### price & currency"
   ]
  },
  {
   "cell_type": "code",
   "execution_count": 1754,
   "metadata": {},
   "outputs": [
    {
     "data": {
      "text/plain": [
       "371"
      ]
     },
     "execution_count": 1754,
     "metadata": {},
     "output_type": "execute_result"
    }
   ],
   "source": [
    "# Count the number of missing values\n",
    "data['price'].isna().sum()"
   ]
  },
  {
   "cell_type": "code",
   "execution_count": 1755,
   "metadata": {},
   "outputs": [
    {
     "data": {
      "text/plain": [
       "0"
      ]
     },
     "execution_count": 1755,
     "metadata": {},
     "output_type": "execute_result"
    }
   ],
   "source": [
    "data['currency'].isna().sum()"
   ]
  },
  {
   "cell_type": "code",
   "execution_count": 1756,
   "metadata": {},
   "outputs": [],
   "source": [
    "# Remove rows with missing values\n",
    "data = data.dropna(subset=['price'])"
   ]
  },
  {
   "cell_type": "code",
   "execution_count": 1757,
   "metadata": {},
   "outputs": [
    {
     "name": "stdout",
     "output_type": "stream",
     "text": [
      "float64\n"
     ]
    }
   ],
   "source": [
    "type_price = data['price'].dtype\n",
    "print(type_price)"
   ]
  },
  {
   "cell_type": "code",
   "execution_count": 1758,
   "metadata": {},
   "outputs": [
    {
     "name": "stdout",
     "output_type": "stream",
     "text": [
      "object\n"
     ]
    }
   ],
   "source": [
    "type_currency = data['currency'].dtype\n",
    "print(type_currency)"
   ]
  },
  {
   "cell_type": "code",
   "execution_count": 1759,
   "metadata": {},
   "outputs": [
    {
     "data": {
      "text/plain": [
       "currency\n",
       "PLN    184065\n",
       "EUR       187\n",
       "Name: count, dtype: int64"
      ]
     },
     "execution_count": 1759,
     "metadata": {},
     "output_type": "execute_result"
    }
   ],
   "source": [
    "# Display unique values and their counts\n",
    "unique_currency = data['currency'].value_counts()\n",
    "\n",
    "unique_currency"
   ]
  },
  {
   "cell_type": "markdown",
   "metadata": {},
   "source": [
    "convert all prices to PLN"
   ]
  },
  {
   "cell_type": "code",
   "execution_count": 1760,
   "metadata": {},
   "outputs": [
    {
     "data": {
      "text/html": [
       "<div>\n",
       "<style scoped>\n",
       "    .dataframe tbody tr th:only-of-type {\n",
       "        vertical-align: middle;\n",
       "    }\n",
       "\n",
       "    .dataframe tbody tr th {\n",
       "        vertical-align: top;\n",
       "    }\n",
       "\n",
       "    .dataframe thead th {\n",
       "        text-align: right;\n",
       "    }\n",
       "</style>\n",
       "<table border=\"1\" class=\"dataframe\">\n",
       "  <thead>\n",
       "    <tr style=\"text-align: right;\">\n",
       "      <th></th>\n",
       "      <th>price</th>\n",
       "      <th>currency</th>\n",
       "    </tr>\n",
       "  </thead>\n",
       "  <tbody>\n",
       "    <tr>\n",
       "      <th>1</th>\n",
       "      <td>82999.0</td>\n",
       "      <td>PLN</td>\n",
       "    </tr>\n",
       "    <tr>\n",
       "      <th>2</th>\n",
       "      <td>59900.0</td>\n",
       "      <td>PLN</td>\n",
       "    </tr>\n",
       "    <tr>\n",
       "      <th>3</th>\n",
       "      <td>135000.0</td>\n",
       "      <td>PLN</td>\n",
       "    </tr>\n",
       "    <tr>\n",
       "      <th>4</th>\n",
       "      <td>79900.0</td>\n",
       "      <td>PLN</td>\n",
       "    </tr>\n",
       "    <tr>\n",
       "      <th>5</th>\n",
       "      <td>82000.0</td>\n",
       "      <td>PLN</td>\n",
       "    </tr>\n",
       "  </tbody>\n",
       "</table>\n",
       "</div>"
      ],
      "text/plain": [
       "      price currency\n",
       "1   82999.0      PLN\n",
       "2   59900.0      PLN\n",
       "3  135000.0      PLN\n",
       "4   79900.0      PLN\n",
       "5   82000.0      PLN"
      ]
     },
     "execution_count": 1760,
     "metadata": {},
     "output_type": "execute_result"
    }
   ],
   "source": [
    "# Define the exchange rate\n",
    "eur_to_pln_rate = 4.2077\n",
    "\n",
    "# Convert prices in EUR to PLN\n",
    "data.loc[data['currency'] == 'EUR', 'price'] = data.loc[data['currency'] == 'EUR', 'price'] * eur_to_pln_rate\n",
    "\n",
    "# Update the currency column to PLN\n",
    "data['currency'] = 'PLN'\n",
    "\n",
    "# Check the result\n",
    "data[['price', 'currency']].head()\n"
   ]
  },
  {
   "cell_type": "code",
   "execution_count": 1761,
   "metadata": {},
   "outputs": [],
   "source": [
    "# Convert to integer\n",
    "data['price'] = data['price'].astype(int)"
   ]
  },
  {
   "cell_type": "code",
   "execution_count": 1762,
   "metadata": {},
   "outputs": [],
   "source": [
    "# Remove the 'currency' column\n",
    "data = data.drop(columns=['currency'])"
   ]
  },
  {
   "cell_type": "code",
   "execution_count": 1763,
   "metadata": {},
   "outputs": [
    {
     "data": {
      "text/plain": [
       "price\n",
       "29900     1688\n",
       "39900     1641\n",
       "49900     1584\n",
       "19900     1484\n",
       "59900     1451\n",
       "          ... \n",
       "205999       1\n",
       "150950       1\n",
       "170950       1\n",
       "200950       1\n",
       "61050        1\n",
       "Name: count, Length: 10804, dtype: int64"
      ]
     },
     "execution_count": 1763,
     "metadata": {},
     "output_type": "execute_result"
    }
   ],
   "source": [
    "# Display unique values and their counts\n",
    "unique_price = data['price'].value_counts()\n",
    "\n",
    "unique_price"
   ]
  },
  {
   "cell_type": "code",
   "execution_count": 1764,
   "metadata": {},
   "outputs": [
    {
     "data": {
      "image/png": "[encoded data removed]",
      "text/plain": [
       "<Figure size 1000x600 with 1 Axes>"
      ]
     },
     "metadata": {},
     "output_type": "display_data"
    }
   ],
   "source": [
    "# Plot the histogram\n",
    "plt.figure(figsize=(10, 6))\n",
    "plt.hist(data['price'], bins=30, edgecolor='black')\n",
    "plt.title('Distribution of price')\n",
    "plt.xlabel('Price')\n",
    "plt.ylabel('Frequency')\n",
    "plt.grid(True)\n",
    "plt.show()"
   ]
  },
  {
   "cell_type": "code",
   "execution_count": 1765,
   "metadata": {},
   "outputs": [
    {
     "data": {
      "text/html": [
       "<div>\n",
       "<style scoped>\n",
       "    .dataframe tbody tr th:only-of-type {\n",
       "        vertical-align: middle;\n",
       "    }\n",
       "\n",
       "    .dataframe tbody tr th {\n",
       "        vertical-align: top;\n",
       "    }\n",
       "\n",
       "    .dataframe thead th {\n",
       "        text-align: right;\n",
       "    }\n",
       "</style>\n",
       "<table border=\"1\" class=\"dataframe\">\n",
       "  <thead>\n",
       "    <tr style=\"text-align: right;\">\n",
       "      <th></th>\n",
       "      <th>year_production</th>\n",
       "      <th>mileage</th>\n",
       "      <th>engine_capacity</th>\n",
       "      <th>power</th>\n",
       "      <th>gearbox</th>\n",
       "      <th>price</th>\n",
       "      <th>Abarth</th>\n",
       "      <th>Acura</th>\n",
       "      <th>Aixam</th>\n",
       "      <th>Alfa Romeo</th>\n",
       "      <th>...</th>\n",
       "      <th>Navy_blue</th>\n",
       "      <th>Orange</th>\n",
       "      <th>Other_color</th>\n",
       "      <th>Purple</th>\n",
       "      <th>Red</th>\n",
       "      <th>Silver</th>\n",
       "      <th>White</th>\n",
       "      <th>Yellow</th>\n",
       "      <th>New_cars</th>\n",
       "      <th>Used_cars</th>\n",
       "    </tr>\n",
       "  </thead>\n",
       "  <tbody>\n",
       "    <tr>\n",
       "      <th>1</th>\n",
       "      <td>2018</td>\n",
       "      <td>48000</td>\n",
       "      <td>1368</td>\n",
       "      <td>145</td>\n",
       "      <td>0</td>\n",
       "      <td>82999</td>\n",
       "      <td>True</td>\n",
       "      <td>False</td>\n",
       "      <td>False</td>\n",
       "      <td>False</td>\n",
       "      <td>...</td>\n",
       "      <td>False</td>\n",
       "      <td>False</td>\n",
       "      <td>False</td>\n",
       "      <td>False</td>\n",
       "      <td>False</td>\n",
       "      <td>False</td>\n",
       "      <td>True</td>\n",
       "      <td>False</td>\n",
       "      <td>False</td>\n",
       "      <td>True</td>\n",
       "    </tr>\n",
       "    <tr>\n",
       "      <th>2</th>\n",
       "      <td>2016</td>\n",
       "      <td>54500</td>\n",
       "      <td>1368</td>\n",
       "      <td>145</td>\n",
       "      <td>0</td>\n",
       "      <td>59900</td>\n",
       "      <td>True</td>\n",
       "      <td>False</td>\n",
       "      <td>False</td>\n",
       "      <td>False</td>\n",
       "      <td>...</td>\n",
       "      <td>False</td>\n",
       "      <td>False</td>\n",
       "      <td>False</td>\n",
       "      <td>False</td>\n",
       "      <td>True</td>\n",
       "      <td>False</td>\n",
       "      <td>False</td>\n",
       "      <td>False</td>\n",
       "      <td>False</td>\n",
       "      <td>True</td>\n",
       "    </tr>\n",
       "    <tr>\n",
       "      <th>3</th>\n",
       "      <td>2023</td>\n",
       "      <td>5578</td>\n",
       "      <td>1368</td>\n",
       "      <td>165</td>\n",
       "      <td>1</td>\n",
       "      <td>135000</td>\n",
       "      <td>True</td>\n",
       "      <td>False</td>\n",
       "      <td>False</td>\n",
       "      <td>False</td>\n",
       "      <td>...</td>\n",
       "      <td>False</td>\n",
       "      <td>False</td>\n",
       "      <td>False</td>\n",
       "      <td>False</td>\n",
       "      <td>False</td>\n",
       "      <td>False</td>\n",
       "      <td>False</td>\n",
       "      <td>False</td>\n",
       "      <td>False</td>\n",
       "      <td>True</td>\n",
       "    </tr>\n",
       "    <tr>\n",
       "      <th>4</th>\n",
       "      <td>2019</td>\n",
       "      <td>116000</td>\n",
       "      <td>1368</td>\n",
       "      <td>165</td>\n",
       "      <td>0</td>\n",
       "      <td>79900</td>\n",
       "      <td>True</td>\n",
       "      <td>False</td>\n",
       "      <td>False</td>\n",
       "      <td>False</td>\n",
       "      <td>...</td>\n",
       "      <td>False</td>\n",
       "      <td>False</td>\n",
       "      <td>False</td>\n",
       "      <td>False</td>\n",
       "      <td>False</td>\n",
       "      <td>False</td>\n",
       "      <td>False</td>\n",
       "      <td>False</td>\n",
       "      <td>False</td>\n",
       "      <td>True</td>\n",
       "    </tr>\n",
       "    <tr>\n",
       "      <th>5</th>\n",
       "      <td>2022</td>\n",
       "      <td>31190</td>\n",
       "      <td>1368</td>\n",
       "      <td>145</td>\n",
       "      <td>0</td>\n",
       "      <td>82000</td>\n",
       "      <td>True</td>\n",
       "      <td>False</td>\n",
       "      <td>False</td>\n",
       "      <td>False</td>\n",
       "      <td>...</td>\n",
       "      <td>False</td>\n",
       "      <td>False</td>\n",
       "      <td>False</td>\n",
       "      <td>False</td>\n",
       "      <td>True</td>\n",
       "      <td>False</td>\n",
       "      <td>False</td>\n",
       "      <td>False</td>\n",
       "      <td>False</td>\n",
       "      <td>True</td>\n",
       "    </tr>\n",
       "  </tbody>\n",
       "</table>\n",
       "<p>5 rows × 150 columns</p>\n",
       "</div>"
      ],
      "text/plain": [
       "   year_production  mileage  engine_capacity  power  gearbox   price  Abarth  \\\n",
       "1             2018    48000             1368    145        0   82999    True   \n",
       "2             2016    54500             1368    145        0   59900    True   \n",
       "3             2023     5578             1368    165        1  135000    True   \n",
       "4             2019   116000             1368    165        0   79900    True   \n",
       "5             2022    31190             1368    145        0   82000    True   \n",
       "\n",
       "   Acura  Aixam  Alfa Romeo  ...  Navy_blue  Orange  Other_color  Purple  \\\n",
       "1  False  False       False  ...      False   False        False   False   \n",
       "2  False  False       False  ...      False   False        False   False   \n",
       "3  False  False       False  ...      False   False        False   False   \n",
       "4  False  False       False  ...      False   False        False   False   \n",
       "5  False  False       False  ...      False   False        False   False   \n",
       "\n",
       "     Red  Silver  White  Yellow  New_cars  Used_cars  \n",
       "1  False   False   True   False     False       True  \n",
       "2   True   False  False   False     False       True  \n",
       "3  False   False  False   False     False       True  \n",
       "4  False   False  False   False     False       True  \n",
       "5   True   False  False   False     False       True  \n",
       "\n",
       "[5 rows x 150 columns]"
      ]
     },
     "execution_count": 1765,
     "metadata": {},
     "output_type": "execute_result"
    }
   ],
   "source": [
    "data.head()"
   ]
  },
  {
   "cell_type": "markdown",
   "metadata": {},
   "source": [
    "Write the cleaned data frame to a new CSV file"
   ]
  },
  {
   "cell_type": "code",
   "execution_count": 1766,
   "metadata": {},
   "outputs": [],
   "source": [
    "data.to_csv('data\\\\cleaned_data.csv.gz', index=False, compression='gzip')"
   ]
  }
 ],
 "metadata": {
  "kernelspec": {
   "display_name": "base",
   "language": "python",
   "name": "python3"
  },
  "language_info": {
   "codemirror_mode": {
    "name": "ipython",
    "version": 3
   },
   "file_extension": ".py",
   "mimetype": "text/x-python",
   "name": "python",
   "nbconvert_exporter": "python",
   "pygments_lexer": "ipython3",
   "version": "3.11.5"
  }
 },
 "nbformat": 4,
 "nbformat_minor": 2
}
