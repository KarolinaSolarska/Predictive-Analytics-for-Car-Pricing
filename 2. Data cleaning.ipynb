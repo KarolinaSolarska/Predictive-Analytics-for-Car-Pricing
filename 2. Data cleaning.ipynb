{
 "cells": [
  {
   "cell_type": "code",
   "execution_count": 1140,
   "metadata": {},
   "outputs": [],
   "source": [
    "import pandas as pd\n",
    "import matplotlib.pyplot as plt"
   ]
  },
  {
   "cell_type": "code",
   "execution_count": 1141,
   "metadata": {},
   "outputs": [],
   "source": [
    "data = pd.read_csv('data\\\\data_overview.csv')"
   ]
  },
  {
   "cell_type": "code",
   "execution_count": 1142,
   "metadata": {},
   "outputs": [
    {
     "data": {
      "text/html": [
       "<div>\n",
       "<style scoped>\n",
       "    .dataframe tbody tr th:only-of-type {\n",
       "        vertical-align: middle;\n",
       "    }\n",
       "\n",
       "    .dataframe tbody tr th {\n",
       "        vertical-align: top;\n",
       "    }\n",
       "\n",
       "    .dataframe thead th {\n",
       "        text-align: right;\n",
       "    }\n",
       "</style>\n",
       "<table border=\"1\" class=\"dataframe\">\n",
       "  <thead>\n",
       "    <tr style=\"text-align: right;\">\n",
       "      <th></th>\n",
       "      <th>brand</th>\n",
       "      <th>model</th>\n",
       "      <th>year_production</th>\n",
       "      <th>mileage</th>\n",
       "      <th>engine_capacity</th>\n",
       "      <th>fuel_type</th>\n",
       "      <th>power</th>\n",
       "      <th>gearbox</th>\n",
       "      <th>drive_type</th>\n",
       "      <th>body_type</th>\n",
       "      <th>doors</th>\n",
       "      <th>color</th>\n",
       "      <th>metallic</th>\n",
       "      <th>country_origin</th>\n",
       "      <th>first_owner</th>\n",
       "      <th>accident_free</th>\n",
       "      <th>condition</th>\n",
       "      <th>price</th>\n",
       "      <th>currency</th>\n",
       "    </tr>\n",
       "  </thead>\n",
       "  <tbody>\n",
       "    <tr>\n",
       "      <th>0</th>\n",
       "      <td>Abarth</td>\n",
       "      <td>595</td>\n",
       "      <td>2021.0</td>\n",
       "      <td>15 900 km</td>\n",
       "      <td>1 368 cm3</td>\n",
       "      <td>Benzyna</td>\n",
       "      <td>165 KM</td>\n",
       "      <td>Manualna</td>\n",
       "      <td>NaN</td>\n",
       "      <td>Auta małe</td>\n",
       "      <td>3.0</td>\n",
       "      <td>Niebieski</td>\n",
       "      <td>NaN</td>\n",
       "      <td>NaN</td>\n",
       "      <td>NaN</td>\n",
       "      <td>NaN</td>\n",
       "      <td>Używane</td>\n",
       "      <td>65000</td>\n",
       "      <td>PLN</td>\n",
       "    </tr>\n",
       "    <tr>\n",
       "      <th>1</th>\n",
       "      <td>Abarth</td>\n",
       "      <td>595</td>\n",
       "      <td>2018.0</td>\n",
       "      <td>48 000 km</td>\n",
       "      <td>1 368 cm3</td>\n",
       "      <td>Benzyna</td>\n",
       "      <td>145 KM</td>\n",
       "      <td>Manualna</td>\n",
       "      <td>Na przednie koła</td>\n",
       "      <td>Auta małe</td>\n",
       "      <td>3.0</td>\n",
       "      <td>Biały</td>\n",
       "      <td>NaN</td>\n",
       "      <td>Polska</td>\n",
       "      <td>NaN</td>\n",
       "      <td>Tak</td>\n",
       "      <td>Używane</td>\n",
       "      <td>82999</td>\n",
       "      <td>PLN</td>\n",
       "    </tr>\n",
       "    <tr>\n",
       "      <th>2</th>\n",
       "      <td>Abarth</td>\n",
       "      <td>595</td>\n",
       "      <td>2016.0</td>\n",
       "      <td>54 500 km</td>\n",
       "      <td>1 368 cm3</td>\n",
       "      <td>Benzyna</td>\n",
       "      <td>145 KM</td>\n",
       "      <td>Manualna</td>\n",
       "      <td>Na przednie koła</td>\n",
       "      <td>Auta małe</td>\n",
       "      <td>3.0</td>\n",
       "      <td>Czerwony</td>\n",
       "      <td>NaN</td>\n",
       "      <td>NaN</td>\n",
       "      <td>NaN</td>\n",
       "      <td>NaN</td>\n",
       "      <td>Używane</td>\n",
       "      <td>59900</td>\n",
       "      <td>PLN</td>\n",
       "    </tr>\n",
       "    <tr>\n",
       "      <th>3</th>\n",
       "      <td>Abarth</td>\n",
       "      <td>500</td>\n",
       "      <td>2023.0</td>\n",
       "      <td>5 578 km</td>\n",
       "      <td>1 368 cm3</td>\n",
       "      <td>Benzyna</td>\n",
       "      <td>165 KM</td>\n",
       "      <td>Automatyczna</td>\n",
       "      <td>Na przednie koła</td>\n",
       "      <td>Auta małe</td>\n",
       "      <td>3.0</td>\n",
       "      <td>Szary</td>\n",
       "      <td>NaN</td>\n",
       "      <td>Polska</td>\n",
       "      <td>NaN</td>\n",
       "      <td>Tak</td>\n",
       "      <td>Używane</td>\n",
       "      <td>135000</td>\n",
       "      <td>PLN</td>\n",
       "    </tr>\n",
       "    <tr>\n",
       "      <th>4</th>\n",
       "      <td>Abarth</td>\n",
       "      <td>595</td>\n",
       "      <td>2019.0</td>\n",
       "      <td>116 000 km</td>\n",
       "      <td>1 368 cm3</td>\n",
       "      <td>Benzyna</td>\n",
       "      <td>165 KM</td>\n",
       "      <td>Manualna</td>\n",
       "      <td>Na przednie koła</td>\n",
       "      <td>Kompakt</td>\n",
       "      <td>3.0</td>\n",
       "      <td>Niebieski</td>\n",
       "      <td>NaN</td>\n",
       "      <td>Włochy</td>\n",
       "      <td>NaN</td>\n",
       "      <td>Tak</td>\n",
       "      <td>Używane</td>\n",
       "      <td>79900</td>\n",
       "      <td>PLN</td>\n",
       "    </tr>\n",
       "  </tbody>\n",
       "</table>\n",
       "</div>"
      ],
      "text/plain": [
       "    brand model  year_production     mileage engine_capacity fuel_type  \\\n",
       "0  Abarth   595           2021.0   15 900 km       1 368 cm3   Benzyna   \n",
       "1  Abarth   595           2018.0   48 000 km       1 368 cm3   Benzyna   \n",
       "2  Abarth   595           2016.0   54 500 km       1 368 cm3   Benzyna   \n",
       "3  Abarth   500           2023.0    5 578 km       1 368 cm3   Benzyna   \n",
       "4  Abarth   595           2019.0  116 000 km       1 368 cm3   Benzyna   \n",
       "\n",
       "    power       gearbox        drive_type  body_type  doors      color  \\\n",
       "0  165 KM      Manualna               NaN  Auta małe    3.0  Niebieski   \n",
       "1  145 KM      Manualna  Na przednie koła  Auta małe    3.0      Biały   \n",
       "2  145 KM      Manualna  Na przednie koła  Auta małe    3.0   Czerwony   \n",
       "3  165 KM  Automatyczna  Na przednie koła  Auta małe    3.0      Szary   \n",
       "4  165 KM      Manualna  Na przednie koła    Kompakt    3.0  Niebieski   \n",
       "\n",
       "   metallic country_origin  first_owner accident_free condition   price  \\\n",
       "0       NaN            NaN          NaN           NaN   Używane   65000   \n",
       "1       NaN         Polska          NaN           Tak   Używane   82999   \n",
       "2       NaN            NaN          NaN           NaN   Używane   59900   \n",
       "3       NaN         Polska          NaN           Tak   Używane  135000   \n",
       "4       NaN         Włochy          NaN           Tak   Używane   79900   \n",
       "\n",
       "  currency  \n",
       "0      PLN  \n",
       "1      PLN  \n",
       "2      PLN  \n",
       "3      PLN  \n",
       "4      PLN  "
      ]
     },
     "execution_count": 1142,
     "metadata": {},
     "output_type": "execute_result"
    }
   ],
   "source": [
    "data.head()"
   ]
  },
  {
   "cell_type": "markdown",
   "metadata": {},
   "source": [
    "### brand - Brand of the vehicle"
   ]
  },
  {
   "cell_type": "code",
   "execution_count": 1143,
   "metadata": {},
   "outputs": [
    {
     "data": {
      "text/plain": [
       "2"
      ]
     },
     "execution_count": 1143,
     "metadata": {},
     "output_type": "execute_result"
    }
   ],
   "source": [
    "# Count the number of missing values\n",
    "data['brand'].isna().sum()"
   ]
  },
  {
   "cell_type": "code",
   "execution_count": 1144,
   "metadata": {},
   "outputs": [],
   "source": [
    "# Remove rows with missing values\n",
    "data = data.dropna(subset=['brand'])"
   ]
  },
  {
   "cell_type": "code",
   "execution_count": 1145,
   "metadata": {},
   "outputs": [
    {
     "name": "stdout",
     "output_type": "stream",
     "text": [
      "object\n"
     ]
    }
   ],
   "source": [
    "type_brand = data['brand'].dtype\n",
    "print(type_brand)"
   ]
  },
  {
   "cell_type": "code",
   "execution_count": 1146,
   "metadata": {},
   "outputs": [
    {
     "data": {
      "text/plain": [
       "brand\n",
       "BMW           20888\n",
       "Audi          20575\n",
       "Ford          19018\n",
       "Skoda         14266\n",
       "Renault       13311\n",
       "              ...  \n",
       "Omoda             2\n",
       "Brilliance        1\n",
       "Jetour            1\n",
       "Skywell           1\n",
       "BYD               1\n",
       "Name: count, Length: 103, dtype: int64"
      ]
     },
     "execution_count": 1146,
     "metadata": {},
     "output_type": "execute_result"
    }
   ],
   "source": [
    "# Display unique values and their counts\n",
    "unique_brand = data['brand'].value_counts()\n",
    "\n",
    "unique_brand"
   ]
  },
  {
   "cell_type": "code",
   "execution_count": 1147,
   "metadata": {},
   "outputs": [],
   "source": [
    "# Identify brands with counts >= 100\n",
    "brands_to_keep = unique_brand[unique_brand >= 100].index\n",
    "\n",
    "# Filter the dataset to keep only these brands\n",
    "data_filtered = data[data['brand'].isin(brands_to_keep)]"
   ]
  },
  {
   "cell_type": "markdown",
   "metadata": {},
   "source": [
    "perform one-hot encoding"
   ]
  },
  {
   "cell_type": "code",
   "execution_count": 1148,
   "metadata": {},
   "outputs": [],
   "source": [
    "# Perform one-hot encoding for the 'brand' column\n",
    "data = pd.get_dummies(data, columns=['brand'], prefix='', prefix_sep='')"
   ]
  },
  {
   "cell_type": "code",
   "execution_count": 1149,
   "metadata": {},
   "outputs": [
    {
     "data": {
      "text/html": [
       "<div>\n",
       "<style scoped>\n",
       "    .dataframe tbody tr th:only-of-type {\n",
       "        vertical-align: middle;\n",
       "    }\n",
       "\n",
       "    .dataframe tbody tr th {\n",
       "        vertical-align: top;\n",
       "    }\n",
       "\n",
       "    .dataframe thead th {\n",
       "        text-align: right;\n",
       "    }\n",
       "</style>\n",
       "<table border=\"1\" class=\"dataframe\">\n",
       "  <thead>\n",
       "    <tr style=\"text-align: right;\">\n",
       "      <th></th>\n",
       "      <th>model</th>\n",
       "      <th>year_production</th>\n",
       "      <th>mileage</th>\n",
       "      <th>engine_capacity</th>\n",
       "      <th>fuel_type</th>\n",
       "      <th>power</th>\n",
       "      <th>gearbox</th>\n",
       "      <th>drive_type</th>\n",
       "      <th>body_type</th>\n",
       "      <th>doors</th>\n",
       "      <th>...</th>\n",
       "      <th>Triumph</th>\n",
       "      <th>Uaz</th>\n",
       "      <th>VELEX</th>\n",
       "      <th>Volkswagen</th>\n",
       "      <th>Volvo</th>\n",
       "      <th>Warszawa</th>\n",
       "      <th>Wartburg</th>\n",
       "      <th>Wołga</th>\n",
       "      <th>e.GO</th>\n",
       "      <th>Żuk</th>\n",
       "    </tr>\n",
       "  </thead>\n",
       "  <tbody>\n",
       "    <tr>\n",
       "      <th>0</th>\n",
       "      <td>595</td>\n",
       "      <td>2021.0</td>\n",
       "      <td>15 900 km</td>\n",
       "      <td>1 368 cm3</td>\n",
       "      <td>Benzyna</td>\n",
       "      <td>165 KM</td>\n",
       "      <td>Manualna</td>\n",
       "      <td>NaN</td>\n",
       "      <td>Auta małe</td>\n",
       "      <td>3.0</td>\n",
       "      <td>...</td>\n",
       "      <td>False</td>\n",
       "      <td>False</td>\n",
       "      <td>False</td>\n",
       "      <td>False</td>\n",
       "      <td>False</td>\n",
       "      <td>False</td>\n",
       "      <td>False</td>\n",
       "      <td>False</td>\n",
       "      <td>False</td>\n",
       "      <td>False</td>\n",
       "    </tr>\n",
       "    <tr>\n",
       "      <th>1</th>\n",
       "      <td>595</td>\n",
       "      <td>2018.0</td>\n",
       "      <td>48 000 km</td>\n",
       "      <td>1 368 cm3</td>\n",
       "      <td>Benzyna</td>\n",
       "      <td>145 KM</td>\n",
       "      <td>Manualna</td>\n",
       "      <td>Na przednie koła</td>\n",
       "      <td>Auta małe</td>\n",
       "      <td>3.0</td>\n",
       "      <td>...</td>\n",
       "      <td>False</td>\n",
       "      <td>False</td>\n",
       "      <td>False</td>\n",
       "      <td>False</td>\n",
       "      <td>False</td>\n",
       "      <td>False</td>\n",
       "      <td>False</td>\n",
       "      <td>False</td>\n",
       "      <td>False</td>\n",
       "      <td>False</td>\n",
       "    </tr>\n",
       "    <tr>\n",
       "      <th>2</th>\n",
       "      <td>595</td>\n",
       "      <td>2016.0</td>\n",
       "      <td>54 500 km</td>\n",
       "      <td>1 368 cm3</td>\n",
       "      <td>Benzyna</td>\n",
       "      <td>145 KM</td>\n",
       "      <td>Manualna</td>\n",
       "      <td>Na przednie koła</td>\n",
       "      <td>Auta małe</td>\n",
       "      <td>3.0</td>\n",
       "      <td>...</td>\n",
       "      <td>False</td>\n",
       "      <td>False</td>\n",
       "      <td>False</td>\n",
       "      <td>False</td>\n",
       "      <td>False</td>\n",
       "      <td>False</td>\n",
       "      <td>False</td>\n",
       "      <td>False</td>\n",
       "      <td>False</td>\n",
       "      <td>False</td>\n",
       "    </tr>\n",
       "    <tr>\n",
       "      <th>3</th>\n",
       "      <td>500</td>\n",
       "      <td>2023.0</td>\n",
       "      <td>5 578 km</td>\n",
       "      <td>1 368 cm3</td>\n",
       "      <td>Benzyna</td>\n",
       "      <td>165 KM</td>\n",
       "      <td>Automatyczna</td>\n",
       "      <td>Na przednie koła</td>\n",
       "      <td>Auta małe</td>\n",
       "      <td>3.0</td>\n",
       "      <td>...</td>\n",
       "      <td>False</td>\n",
       "      <td>False</td>\n",
       "      <td>False</td>\n",
       "      <td>False</td>\n",
       "      <td>False</td>\n",
       "      <td>False</td>\n",
       "      <td>False</td>\n",
       "      <td>False</td>\n",
       "      <td>False</td>\n",
       "      <td>False</td>\n",
       "    </tr>\n",
       "    <tr>\n",
       "      <th>4</th>\n",
       "      <td>595</td>\n",
       "      <td>2019.0</td>\n",
       "      <td>116 000 km</td>\n",
       "      <td>1 368 cm3</td>\n",
       "      <td>Benzyna</td>\n",
       "      <td>165 KM</td>\n",
       "      <td>Manualna</td>\n",
       "      <td>Na przednie koła</td>\n",
       "      <td>Kompakt</td>\n",
       "      <td>3.0</td>\n",
       "      <td>...</td>\n",
       "      <td>False</td>\n",
       "      <td>False</td>\n",
       "      <td>False</td>\n",
       "      <td>False</td>\n",
       "      <td>False</td>\n",
       "      <td>False</td>\n",
       "      <td>False</td>\n",
       "      <td>False</td>\n",
       "      <td>False</td>\n",
       "      <td>False</td>\n",
       "    </tr>\n",
       "  </tbody>\n",
       "</table>\n",
       "<p>5 rows × 121 columns</p>\n",
       "</div>"
      ],
      "text/plain": [
       "  model  year_production     mileage engine_capacity fuel_type   power  \\\n",
       "0   595           2021.0   15 900 km       1 368 cm3   Benzyna  165 KM   \n",
       "1   595           2018.0   48 000 km       1 368 cm3   Benzyna  145 KM   \n",
       "2   595           2016.0   54 500 km       1 368 cm3   Benzyna  145 KM   \n",
       "3   500           2023.0    5 578 km       1 368 cm3   Benzyna  165 KM   \n",
       "4   595           2019.0  116 000 km       1 368 cm3   Benzyna  165 KM   \n",
       "\n",
       "        gearbox        drive_type  body_type  doors  ... Triumph    Uaz  \\\n",
       "0      Manualna               NaN  Auta małe    3.0  ...   False  False   \n",
       "1      Manualna  Na przednie koła  Auta małe    3.0  ...   False  False   \n",
       "2      Manualna  Na przednie koła  Auta małe    3.0  ...   False  False   \n",
       "3  Automatyczna  Na przednie koła  Auta małe    3.0  ...   False  False   \n",
       "4      Manualna  Na przednie koła    Kompakt    3.0  ...   False  False   \n",
       "\n",
       "   VELEX  Volkswagen  Volvo Warszawa Wartburg  Wołga   e.GO    Żuk  \n",
       "0  False       False  False    False    False  False  False  False  \n",
       "1  False       False  False    False    False  False  False  False  \n",
       "2  False       False  False    False    False  False  False  False  \n",
       "3  False       False  False    False    False  False  False  False  \n",
       "4  False       False  False    False    False  False  False  False  \n",
       "\n",
       "[5 rows x 121 columns]"
      ]
     },
     "execution_count": 1149,
     "metadata": {},
     "output_type": "execute_result"
    }
   ],
   "source": [
    "data.head()"
   ]
  },
  {
   "cell_type": "markdown",
   "metadata": {},
   "source": [
    "### model - Model of the vehicle"
   ]
  },
  {
   "cell_type": "code",
   "execution_count": 1150,
   "metadata": {},
   "outputs": [
    {
     "name": "stdout",
     "output_type": "stream",
     "text": [
      "object\n"
     ]
    }
   ],
   "source": [
    "type_brand = data['model'].dtype\n",
    "print(type_brand)"
   ]
  },
  {
   "cell_type": "code",
   "execution_count": 1151,
   "metadata": {},
   "outputs": [
    {
     "data": {
      "text/plain": [
       "model\n",
       "Octavia     4833\n",
       "A4          4711\n",
       "Seria 3     4361\n",
       "Focus       4035\n",
       "Seria 5     4000\n",
       "            ... \n",
       "Klasa T        1\n",
       "FJ             1\n",
       "100 NX         1\n",
       "Bluebird       1\n",
       "405            1\n",
       "Name: count, Length: 1259, dtype: int64"
      ]
     },
     "execution_count": 1151,
     "metadata": {},
     "output_type": "execute_result"
    }
   ],
   "source": [
    "# Display unique values and their counts\n",
    "unique_model = data['model'].value_counts()\n",
    "\n",
    "unique_model"
   ]
  },
  {
   "cell_type": "markdown",
   "metadata": {},
   "source": [
    "Model column has too much unique values, so we decided to remove this variable."
   ]
  },
  {
   "cell_type": "code",
   "execution_count": 1152,
   "metadata": {},
   "outputs": [],
   "source": [
    "# Remove the 'model' column\n",
    "data = data.drop(columns=['model'])"
   ]
  },
  {
   "cell_type": "markdown",
   "metadata": {},
   "source": [
    "### year_production - Year of production"
   ]
  },
  {
   "cell_type": "code",
   "execution_count": 1153,
   "metadata": {},
   "outputs": [
    {
     "data": {
      "text/plain": [
       "0"
      ]
     },
     "execution_count": 1153,
     "metadata": {},
     "output_type": "execute_result"
    }
   ],
   "source": [
    "# Count the number of missing values\n",
    "data['year_production'].isna().sum()"
   ]
  },
  {
   "cell_type": "code",
   "execution_count": 1154,
   "metadata": {},
   "outputs": [
    {
     "name": "stdout",
     "output_type": "stream",
     "text": [
      "float64\n"
     ]
    }
   ],
   "source": [
    "type_year_production = data['year_production'].dtype\n",
    "print(type_year_production)"
   ]
  },
  {
   "cell_type": "code",
   "execution_count": 1155,
   "metadata": {},
   "outputs": [],
   "source": [
    "# Convert 'year_production' to integer\n",
    "data['year_production'] = data['year_production'].astype(int)"
   ]
  },
  {
   "cell_type": "code",
   "execution_count": 1156,
   "metadata": {},
   "outputs": [
    {
     "data": {
      "text/plain": [
       "year_production\n",
       "2019    13739\n",
       "2018    13565\n",
       "2017    13092\n",
       "2016    11921\n",
       "2023    11671\n",
       "        ...  \n",
       "1937        1\n",
       "1915        1\n",
       "1900        1\n",
       "1939        1\n",
       "1935        1\n",
       "Name: count, Length: 90, dtype: int64"
      ]
     },
     "execution_count": 1156,
     "metadata": {},
     "output_type": "execute_result"
    }
   ],
   "source": [
    "# Display unique values and their counts\n",
    "unique_year_production = data['year_production'].value_counts()\n",
    "\n",
    "unique_year_production"
   ]
  },
  {
   "cell_type": "code",
   "execution_count": 1157,
   "metadata": {},
   "outputs": [
    {
     "data": {
      "image/png": "[encoded data removed]",
      "text/plain": [
       "<Figure size 1000x600 with 1 Axes>"
      ]
     },
     "metadata": {},
     "output_type": "display_data"
    }
   ],
   "source": [
    "# change data type as numeric\n",
    "data['price'] = pd.to_numeric(data['price'], errors='coerce')\n",
    "\n",
    "# Group by 'year_production' and calculate the mean price for each year\n",
    "mean_price_per_year = data.groupby('year_production')['price'].mean().reset_index()\n",
    "\n",
    "# Plot the data\n",
    "plt.figure(figsize=(10, 6))\n",
    "plt.plot(mean_price_per_year['year_production'], mean_price_per_year['price'], marker='o')\n",
    "plt.title('Mean Price by Year of Production')\n",
    "plt.xlabel('Year of Production')\n",
    "plt.ylabel('Mean Price')\n",
    "plt.grid(True)\n",
    "plt.show()"
   ]
  },
  {
   "cell_type": "code",
   "execution_count": 1158,
   "metadata": {},
   "outputs": [
    {
     "data": {
      "text/html": [
       "<div>\n",
       "<style scoped>\n",
       "    .dataframe tbody tr th:only-of-type {\n",
       "        vertical-align: middle;\n",
       "    }\n",
       "\n",
       "    .dataframe tbody tr th {\n",
       "        vertical-align: top;\n",
       "    }\n",
       "\n",
       "    .dataframe thead th {\n",
       "        text-align: right;\n",
       "    }\n",
       "</style>\n",
       "<table border=\"1\" class=\"dataframe\">\n",
       "  <thead>\n",
       "    <tr style=\"text-align: right;\">\n",
       "      <th></th>\n",
       "      <th>year_production</th>\n",
       "      <th>mileage</th>\n",
       "      <th>engine_capacity</th>\n",
       "      <th>fuel_type</th>\n",
       "      <th>power</th>\n",
       "      <th>gearbox</th>\n",
       "      <th>drive_type</th>\n",
       "      <th>body_type</th>\n",
       "      <th>doors</th>\n",
       "      <th>color</th>\n",
       "      <th>...</th>\n",
       "      <th>Triumph</th>\n",
       "      <th>Uaz</th>\n",
       "      <th>VELEX</th>\n",
       "      <th>Volkswagen</th>\n",
       "      <th>Volvo</th>\n",
       "      <th>Warszawa</th>\n",
       "      <th>Wartburg</th>\n",
       "      <th>Wołga</th>\n",
       "      <th>e.GO</th>\n",
       "      <th>Żuk</th>\n",
       "    </tr>\n",
       "  </thead>\n",
       "  <tbody>\n",
       "    <tr>\n",
       "      <th>0</th>\n",
       "      <td>2021</td>\n",
       "      <td>15 900 km</td>\n",
       "      <td>1 368 cm3</td>\n",
       "      <td>Benzyna</td>\n",
       "      <td>165 KM</td>\n",
       "      <td>Manualna</td>\n",
       "      <td>NaN</td>\n",
       "      <td>Auta małe</td>\n",
       "      <td>3.0</td>\n",
       "      <td>Niebieski</td>\n",
       "      <td>...</td>\n",
       "      <td>False</td>\n",
       "      <td>False</td>\n",
       "      <td>False</td>\n",
       "      <td>False</td>\n",
       "      <td>False</td>\n",
       "      <td>False</td>\n",
       "      <td>False</td>\n",
       "      <td>False</td>\n",
       "      <td>False</td>\n",
       "      <td>False</td>\n",
       "    </tr>\n",
       "    <tr>\n",
       "      <th>1</th>\n",
       "      <td>2018</td>\n",
       "      <td>48 000 km</td>\n",
       "      <td>1 368 cm3</td>\n",
       "      <td>Benzyna</td>\n",
       "      <td>145 KM</td>\n",
       "      <td>Manualna</td>\n",
       "      <td>Na przednie koła</td>\n",
       "      <td>Auta małe</td>\n",
       "      <td>3.0</td>\n",
       "      <td>Biały</td>\n",
       "      <td>...</td>\n",
       "      <td>False</td>\n",
       "      <td>False</td>\n",
       "      <td>False</td>\n",
       "      <td>False</td>\n",
       "      <td>False</td>\n",
       "      <td>False</td>\n",
       "      <td>False</td>\n",
       "      <td>False</td>\n",
       "      <td>False</td>\n",
       "      <td>False</td>\n",
       "    </tr>\n",
       "    <tr>\n",
       "      <th>2</th>\n",
       "      <td>2016</td>\n",
       "      <td>54 500 km</td>\n",
       "      <td>1 368 cm3</td>\n",
       "      <td>Benzyna</td>\n",
       "      <td>145 KM</td>\n",
       "      <td>Manualna</td>\n",
       "      <td>Na przednie koła</td>\n",
       "      <td>Auta małe</td>\n",
       "      <td>3.0</td>\n",
       "      <td>Czerwony</td>\n",
       "      <td>...</td>\n",
       "      <td>False</td>\n",
       "      <td>False</td>\n",
       "      <td>False</td>\n",
       "      <td>False</td>\n",
       "      <td>False</td>\n",
       "      <td>False</td>\n",
       "      <td>False</td>\n",
       "      <td>False</td>\n",
       "      <td>False</td>\n",
       "      <td>False</td>\n",
       "    </tr>\n",
       "    <tr>\n",
       "      <th>3</th>\n",
       "      <td>2023</td>\n",
       "      <td>5 578 km</td>\n",
       "      <td>1 368 cm3</td>\n",
       "      <td>Benzyna</td>\n",
       "      <td>165 KM</td>\n",
       "      <td>Automatyczna</td>\n",
       "      <td>Na przednie koła</td>\n",
       "      <td>Auta małe</td>\n",
       "      <td>3.0</td>\n",
       "      <td>Szary</td>\n",
       "      <td>...</td>\n",
       "      <td>False</td>\n",
       "      <td>False</td>\n",
       "      <td>False</td>\n",
       "      <td>False</td>\n",
       "      <td>False</td>\n",
       "      <td>False</td>\n",
       "      <td>False</td>\n",
       "      <td>False</td>\n",
       "      <td>False</td>\n",
       "      <td>False</td>\n",
       "    </tr>\n",
       "    <tr>\n",
       "      <th>4</th>\n",
       "      <td>2019</td>\n",
       "      <td>116 000 km</td>\n",
       "      <td>1 368 cm3</td>\n",
       "      <td>Benzyna</td>\n",
       "      <td>165 KM</td>\n",
       "      <td>Manualna</td>\n",
       "      <td>Na przednie koła</td>\n",
       "      <td>Kompakt</td>\n",
       "      <td>3.0</td>\n",
       "      <td>Niebieski</td>\n",
       "      <td>...</td>\n",
       "      <td>False</td>\n",
       "      <td>False</td>\n",
       "      <td>False</td>\n",
       "      <td>False</td>\n",
       "      <td>False</td>\n",
       "      <td>False</td>\n",
       "      <td>False</td>\n",
       "      <td>False</td>\n",
       "      <td>False</td>\n",
       "      <td>False</td>\n",
       "    </tr>\n",
       "  </tbody>\n",
       "</table>\n",
       "<p>5 rows × 120 columns</p>\n",
       "</div>"
      ],
      "text/plain": [
       "   year_production     mileage engine_capacity fuel_type   power  \\\n",
       "0             2021   15 900 km       1 368 cm3   Benzyna  165 KM   \n",
       "1             2018   48 000 km       1 368 cm3   Benzyna  145 KM   \n",
       "2             2016   54 500 km       1 368 cm3   Benzyna  145 KM   \n",
       "3             2023    5 578 km       1 368 cm3   Benzyna  165 KM   \n",
       "4             2019  116 000 km       1 368 cm3   Benzyna  165 KM   \n",
       "\n",
       "        gearbox        drive_type  body_type  doors      color  ...  Triumph  \\\n",
       "0      Manualna               NaN  Auta małe    3.0  Niebieski  ...    False   \n",
       "1      Manualna  Na przednie koła  Auta małe    3.0      Biały  ...    False   \n",
       "2      Manualna  Na przednie koła  Auta małe    3.0   Czerwony  ...    False   \n",
       "3  Automatyczna  Na przednie koła  Auta małe    3.0      Szary  ...    False   \n",
       "4      Manualna  Na przednie koła    Kompakt    3.0  Niebieski  ...    False   \n",
       "\n",
       "     Uaz  VELEX Volkswagen  Volvo  Warszawa Wartburg  Wołga   e.GO    Żuk  \n",
       "0  False  False      False  False     False    False  False  False  False  \n",
       "1  False  False      False  False     False    False  False  False  False  \n",
       "2  False  False      False  False     False    False  False  False  False  \n",
       "3  False  False      False  False     False    False  False  False  False  \n",
       "4  False  False      False  False     False    False  False  False  False  \n",
       "\n",
       "[5 rows x 120 columns]"
      ]
     },
     "execution_count": 1158,
     "metadata": {},
     "output_type": "execute_result"
    }
   ],
   "source": [
    "data.head()"
   ]
  },
  {
   "cell_type": "markdown",
   "metadata": {},
   "source": [
    "### mileage"
   ]
  },
  {
   "cell_type": "code",
   "execution_count": 1159,
   "metadata": {},
   "outputs": [
    {
     "data": {
      "text/plain": [
       "41"
      ]
     },
     "execution_count": 1159,
     "metadata": {},
     "output_type": "execute_result"
    }
   ],
   "source": [
    "# Count the number of missing values\n",
    "data['mileage'].isna().sum()"
   ]
  },
  {
   "cell_type": "code",
   "execution_count": 1160,
   "metadata": {},
   "outputs": [],
   "source": [
    "# Remove rows with missing values\n",
    "data = data.dropna(subset=['mileage'])"
   ]
  },
  {
   "cell_type": "code",
   "execution_count": 1161,
   "metadata": {},
   "outputs": [
    {
     "name": "stdout",
     "output_type": "stream",
     "text": [
      "object\n"
     ]
    }
   ],
   "source": [
    "type_mileage = data['mileage'].dtype\n",
    "print(type_mileage)"
   ]
  },
  {
   "cell_type": "code",
   "execution_count": 1162,
   "metadata": {},
   "outputs": [
    {
     "name": "stdout",
     "output_type": "stream",
     "text": [
      "0     15900\n",
      "1     48000\n",
      "2     54500\n",
      "3      5578\n",
      "4    116000\n",
      "Name: mileage, dtype: int32\n"
     ]
    }
   ],
   "source": [
    "# Remove ' km' from the strings and any spaces, then convert to integer\n",
    "data['mileage'] = data['mileage'].str.replace(' km', '').str.replace(' ', '').astype(int)\n",
    "\n",
    "# Check the result\n",
    "print(data['mileage'].head())"
   ]
  },
  {
   "cell_type": "code",
   "execution_count": 1163,
   "metadata": {},
   "outputs": [
    {
     "data": {
      "text/plain": [
       "mileage\n",
       "1         5820\n",
       "5         4684\n",
       "10        2728\n",
       "220000    1069\n",
       "180000     994\n",
       "          ... \n",
       "42592        1\n",
       "360650       1\n",
       "247729       1\n",
       "139444       1\n",
       "207949       1\n",
       "Name: count, Length: 46830, dtype: int64"
      ]
     },
     "execution_count": 1163,
     "metadata": {},
     "output_type": "execute_result"
    }
   ],
   "source": [
    "# Display unique values and their counts\n",
    "unique_mileage = data['mileage'].value_counts()\n",
    "\n",
    "unique_mileage"
   ]
  },
  {
   "cell_type": "code",
   "execution_count": 1164,
   "metadata": {},
   "outputs": [],
   "source": [
    "# Remove extreme outliers for better visualization\n",
    "data = data[(data['mileage'] < 800000)]"
   ]
  },
  {
   "cell_type": "code",
   "execution_count": 1165,
   "metadata": {},
   "outputs": [
    {
     "name": "stdout",
     "output_type": "stream",
     "text": [
      "count    200583.000000\n",
      "mean     141372.894368\n",
      "std       95387.725053\n",
      "min           1.000000\n",
      "25%       64000.000000\n",
      "50%      141399.000000\n",
      "75%      207000.000000\n",
      "max      792761.000000\n",
      "Name: mileage, dtype: float64\n"
     ]
    }
   ],
   "source": [
    "# Summary statistics\n",
    "mileage_stats = data['mileage'].describe()\n",
    "print(mileage_stats)"
   ]
  },
  {
   "cell_type": "code",
   "execution_count": 1166,
   "metadata": {},
   "outputs": [
    {
     "data": {
      "image/png": "[encoded data removed]",
      "text/plain": [
       "<Figure size 1000x600 with 1 Axes>"
      ]
     },
     "metadata": {},
     "output_type": "display_data"
    }
   ],
   "source": [
    "# Plot the histogram\n",
    "plt.figure(figsize=(10, 6))\n",
    "plt.hist(data['mileage'], bins=30, edgecolor='black')\n",
    "plt.title('Distribution of Mileage')\n",
    "plt.xlabel('Mileage (in km)')\n",
    "plt.ylabel('Frequency')\n",
    "plt.grid(True)\n",
    "plt.show()"
   ]
  },
  {
   "cell_type": "code",
   "execution_count": 1167,
   "metadata": {},
   "outputs": [
    {
     "data": {
      "image/png": "[encoded data removed]",
      "text/plain": [
       "<Figure size 1000x600 with 1 Axes>"
      ]
     },
     "metadata": {},
     "output_type": "display_data"
    }
   ],
   "source": [
    "# Plot the scatter plot\n",
    "plt.figure(figsize=(10, 6))\n",
    "plt.scatter(data['mileage'], data['price'], alpha=0.5)\n",
    "plt.title('Relationship between Mileage and Price')\n",
    "plt.xlabel('Mileage (in km)')\n",
    "plt.ylabel('Price')\n",
    "plt.grid(True)\n",
    "plt.show()"
   ]
  },
  {
   "cell_type": "code",
   "execution_count": 1168,
   "metadata": {},
   "outputs": [
    {
     "data": {
      "text/html": [
       "<div>\n",
       "<style scoped>\n",
       "    .dataframe tbody tr th:only-of-type {\n",
       "        vertical-align: middle;\n",
       "    }\n",
       "\n",
       "    .dataframe tbody tr th {\n",
       "        vertical-align: top;\n",
       "    }\n",
       "\n",
       "    .dataframe thead th {\n",
       "        text-align: right;\n",
       "    }\n",
       "</style>\n",
       "<table border=\"1\" class=\"dataframe\">\n",
       "  <thead>\n",
       "    <tr style=\"text-align: right;\">\n",
       "      <th></th>\n",
       "      <th>year_production</th>\n",
       "      <th>mileage</th>\n",
       "      <th>engine_capacity</th>\n",
       "      <th>fuel_type</th>\n",
       "      <th>power</th>\n",
       "      <th>gearbox</th>\n",
       "      <th>drive_type</th>\n",
       "      <th>body_type</th>\n",
       "      <th>doors</th>\n",
       "      <th>color</th>\n",
       "      <th>...</th>\n",
       "      <th>Triumph</th>\n",
       "      <th>Uaz</th>\n",
       "      <th>VELEX</th>\n",
       "      <th>Volkswagen</th>\n",
       "      <th>Volvo</th>\n",
       "      <th>Warszawa</th>\n",
       "      <th>Wartburg</th>\n",
       "      <th>Wołga</th>\n",
       "      <th>e.GO</th>\n",
       "      <th>Żuk</th>\n",
       "    </tr>\n",
       "  </thead>\n",
       "  <tbody>\n",
       "    <tr>\n",
       "      <th>0</th>\n",
       "      <td>2021</td>\n",
       "      <td>15900</td>\n",
       "      <td>1 368 cm3</td>\n",
       "      <td>Benzyna</td>\n",
       "      <td>165 KM</td>\n",
       "      <td>Manualna</td>\n",
       "      <td>NaN</td>\n",
       "      <td>Auta małe</td>\n",
       "      <td>3.0</td>\n",
       "      <td>Niebieski</td>\n",
       "      <td>...</td>\n",
       "      <td>False</td>\n",
       "      <td>False</td>\n",
       "      <td>False</td>\n",
       "      <td>False</td>\n",
       "      <td>False</td>\n",
       "      <td>False</td>\n",
       "      <td>False</td>\n",
       "      <td>False</td>\n",
       "      <td>False</td>\n",
       "      <td>False</td>\n",
       "    </tr>\n",
       "    <tr>\n",
       "      <th>1</th>\n",
       "      <td>2018</td>\n",
       "      <td>48000</td>\n",
       "      <td>1 368 cm3</td>\n",
       "      <td>Benzyna</td>\n",
       "      <td>145 KM</td>\n",
       "      <td>Manualna</td>\n",
       "      <td>Na przednie koła</td>\n",
       "      <td>Auta małe</td>\n",
       "      <td>3.0</td>\n",
       "      <td>Biały</td>\n",
       "      <td>...</td>\n",
       "      <td>False</td>\n",
       "      <td>False</td>\n",
       "      <td>False</td>\n",
       "      <td>False</td>\n",
       "      <td>False</td>\n",
       "      <td>False</td>\n",
       "      <td>False</td>\n",
       "      <td>False</td>\n",
       "      <td>False</td>\n",
       "      <td>False</td>\n",
       "    </tr>\n",
       "    <tr>\n",
       "      <th>2</th>\n",
       "      <td>2016</td>\n",
       "      <td>54500</td>\n",
       "      <td>1 368 cm3</td>\n",
       "      <td>Benzyna</td>\n",
       "      <td>145 KM</td>\n",
       "      <td>Manualna</td>\n",
       "      <td>Na przednie koła</td>\n",
       "      <td>Auta małe</td>\n",
       "      <td>3.0</td>\n",
       "      <td>Czerwony</td>\n",
       "      <td>...</td>\n",
       "      <td>False</td>\n",
       "      <td>False</td>\n",
       "      <td>False</td>\n",
       "      <td>False</td>\n",
       "      <td>False</td>\n",
       "      <td>False</td>\n",
       "      <td>False</td>\n",
       "      <td>False</td>\n",
       "      <td>False</td>\n",
       "      <td>False</td>\n",
       "    </tr>\n",
       "    <tr>\n",
       "      <th>3</th>\n",
       "      <td>2023</td>\n",
       "      <td>5578</td>\n",
       "      <td>1 368 cm3</td>\n",
       "      <td>Benzyna</td>\n",
       "      <td>165 KM</td>\n",
       "      <td>Automatyczna</td>\n",
       "      <td>Na przednie koła</td>\n",
       "      <td>Auta małe</td>\n",
       "      <td>3.0</td>\n",
       "      <td>Szary</td>\n",
       "      <td>...</td>\n",
       "      <td>False</td>\n",
       "      <td>False</td>\n",
       "      <td>False</td>\n",
       "      <td>False</td>\n",
       "      <td>False</td>\n",
       "      <td>False</td>\n",
       "      <td>False</td>\n",
       "      <td>False</td>\n",
       "      <td>False</td>\n",
       "      <td>False</td>\n",
       "    </tr>\n",
       "    <tr>\n",
       "      <th>4</th>\n",
       "      <td>2019</td>\n",
       "      <td>116000</td>\n",
       "      <td>1 368 cm3</td>\n",
       "      <td>Benzyna</td>\n",
       "      <td>165 KM</td>\n",
       "      <td>Manualna</td>\n",
       "      <td>Na przednie koła</td>\n",
       "      <td>Kompakt</td>\n",
       "      <td>3.0</td>\n",
       "      <td>Niebieski</td>\n",
       "      <td>...</td>\n",
       "      <td>False</td>\n",
       "      <td>False</td>\n",
       "      <td>False</td>\n",
       "      <td>False</td>\n",
       "      <td>False</td>\n",
       "      <td>False</td>\n",
       "      <td>False</td>\n",
       "      <td>False</td>\n",
       "      <td>False</td>\n",
       "      <td>False</td>\n",
       "    </tr>\n",
       "  </tbody>\n",
       "</table>\n",
       "<p>5 rows × 120 columns</p>\n",
       "</div>"
      ],
      "text/plain": [
       "   year_production  mileage engine_capacity fuel_type   power       gearbox  \\\n",
       "0             2021    15900       1 368 cm3   Benzyna  165 KM      Manualna   \n",
       "1             2018    48000       1 368 cm3   Benzyna  145 KM      Manualna   \n",
       "2             2016    54500       1 368 cm3   Benzyna  145 KM      Manualna   \n",
       "3             2023     5578       1 368 cm3   Benzyna  165 KM  Automatyczna   \n",
       "4             2019   116000       1 368 cm3   Benzyna  165 KM      Manualna   \n",
       "\n",
       "         drive_type  body_type  doors      color  ...  Triumph    Uaz  VELEX  \\\n",
       "0               NaN  Auta małe    3.0  Niebieski  ...    False  False  False   \n",
       "1  Na przednie koła  Auta małe    3.0      Biały  ...    False  False  False   \n",
       "2  Na przednie koła  Auta małe    3.0   Czerwony  ...    False  False  False   \n",
       "3  Na przednie koła  Auta małe    3.0      Szary  ...    False  False  False   \n",
       "4  Na przednie koła    Kompakt    3.0  Niebieski  ...    False  False  False   \n",
       "\n",
       "  Volkswagen  Volvo  Warszawa Wartburg  Wołga   e.GO    Żuk  \n",
       "0      False  False     False    False  False  False  False  \n",
       "1      False  False     False    False  False  False  False  \n",
       "2      False  False     False    False  False  False  False  \n",
       "3      False  False     False    False  False  False  False  \n",
       "4      False  False     False    False  False  False  False  \n",
       "\n",
       "[5 rows x 120 columns]"
      ]
     },
     "execution_count": 1168,
     "metadata": {},
     "output_type": "execute_result"
    }
   ],
   "source": [
    "data.head()"
   ]
  },
  {
   "cell_type": "markdown",
   "metadata": {},
   "source": [
    "### engine_capacity\t- Engine capacity"
   ]
  },
  {
   "cell_type": "code",
   "execution_count": 1169,
   "metadata": {},
   "outputs": [
    {
     "data": {
      "text/plain": [
       "3881"
      ]
     },
     "execution_count": 1169,
     "metadata": {},
     "output_type": "execute_result"
    }
   ],
   "source": [
    "# Count the number of missing values\n",
    "data['engine_capacity'].isna().sum()"
   ]
  },
  {
   "cell_type": "code",
   "execution_count": 1170,
   "metadata": {},
   "outputs": [],
   "source": [
    "# Remove rows with missing values\n",
    "data = data.dropna(subset=['engine_capacity'])"
   ]
  },
  {
   "cell_type": "code",
   "execution_count": 1171,
   "metadata": {},
   "outputs": [
    {
     "name": "stdout",
     "output_type": "stream",
     "text": [
      "object\n"
     ]
    }
   ],
   "source": [
    "type_engine_capacity = data['engine_capacity'].dtype\n",
    "print(type_engine_capacity)"
   ]
  },
  {
   "cell_type": "code",
   "execution_count": 1172,
   "metadata": {},
   "outputs": [
    {
     "name": "stdout",
     "output_type": "stream",
     "text": [
      "0    1368\n",
      "1    1368\n",
      "2    1368\n",
      "3    1368\n",
      "4    1368\n",
      "Name: engine_capacity, dtype: int32\n"
     ]
    }
   ],
   "source": [
    "# Remove ' km' from the strings and any spaces, then convert to integer\n",
    "data['engine_capacity'] = data['engine_capacity'].str.replace(' cm3', '').str.replace(' ', '').astype(int)\n",
    "\n",
    "# Check the result\n",
    "print(data['engine_capacity'].head())"
   ]
  },
  {
   "cell_type": "code",
   "execution_count": 1173,
   "metadata": {},
   "outputs": [
    {
     "name": "stdout",
     "output_type": "stream",
     "text": [
      "count    196702.000000\n",
      "mean       1924.960677\n",
      "std         808.742967\n",
      "min         400.000000\n",
      "25%        1497.000000\n",
      "50%        1896.000000\n",
      "75%        1997.000000\n",
      "max        8400.000000\n",
      "Name: engine_capacity, dtype: float64\n"
     ]
    }
   ],
   "source": [
    "# Summary statistics\n",
    "engine_capacity_stats = data['engine_capacity'].describe()\n",
    "print(engine_capacity_stats)"
   ]
  },
  {
   "cell_type": "code",
   "execution_count": 1174,
   "metadata": {},
   "outputs": [
    {
     "data": {
      "image/png": "[encoded data removed]",
      "text/plain": [
       "<Figure size 1000x600 with 1 Axes>"
      ]
     },
     "metadata": {},
     "output_type": "display_data"
    }
   ],
   "source": [
    "# Plot the histogram\n",
    "plt.figure(figsize=(10, 6))\n",
    "plt.hist(data['engine_capacity'], bins=30, edgecolor='black')\n",
    "plt.title('Distribution of engine capacity')\n",
    "plt.xlabel('Engine capacity (in cm3)')\n",
    "plt.ylabel('Frequency')\n",
    "plt.grid(True)\n",
    "plt.show()"
   ]
  },
  {
   "cell_type": "code",
   "execution_count": 1175,
   "metadata": {},
   "outputs": [
    {
     "data": {
      "image/png": "[encoded data removed]",
      "text/plain": [
       "<Figure size 1000x600 with 1 Axes>"
      ]
     },
     "metadata": {},
     "output_type": "display_data"
    }
   ],
   "source": [
    "# Plot the scatter plot\n",
    "plt.figure(figsize=(10, 6))\n",
    "plt.scatter(data['engine_capacity'], data['price'], alpha=0.5)\n",
    "plt.title('Relationship between Engine capacity and Price')\n",
    "plt.xlabel('Engine capacity (in cm3)')\n",
    "plt.ylabel('Price')\n",
    "plt.grid(True)\n",
    "plt.show()"
   ]
  },
  {
   "cell_type": "code",
   "execution_count": 1176,
   "metadata": {},
   "outputs": [
    {
     "data": {
      "text/html": [
       "<div>\n",
       "<style scoped>\n",
       "    .dataframe tbody tr th:only-of-type {\n",
       "        vertical-align: middle;\n",
       "    }\n",
       "\n",
       "    .dataframe tbody tr th {\n",
       "        vertical-align: top;\n",
       "    }\n",
       "\n",
       "    .dataframe thead th {\n",
       "        text-align: right;\n",
       "    }\n",
       "</style>\n",
       "<table border=\"1\" class=\"dataframe\">\n",
       "  <thead>\n",
       "    <tr style=\"text-align: right;\">\n",
       "      <th></th>\n",
       "      <th>year_production</th>\n",
       "      <th>mileage</th>\n",
       "      <th>engine_capacity</th>\n",
       "      <th>fuel_type</th>\n",
       "      <th>power</th>\n",
       "      <th>gearbox</th>\n",
       "      <th>drive_type</th>\n",
       "      <th>body_type</th>\n",
       "      <th>doors</th>\n",
       "      <th>color</th>\n",
       "      <th>...</th>\n",
       "      <th>Triumph</th>\n",
       "      <th>Uaz</th>\n",
       "      <th>VELEX</th>\n",
       "      <th>Volkswagen</th>\n",
       "      <th>Volvo</th>\n",
       "      <th>Warszawa</th>\n",
       "      <th>Wartburg</th>\n",
       "      <th>Wołga</th>\n",
       "      <th>e.GO</th>\n",
       "      <th>Żuk</th>\n",
       "    </tr>\n",
       "  </thead>\n",
       "  <tbody>\n",
       "    <tr>\n",
       "      <th>0</th>\n",
       "      <td>2021</td>\n",
       "      <td>15900</td>\n",
       "      <td>1368</td>\n",
       "      <td>Benzyna</td>\n",
       "      <td>165 KM</td>\n",
       "      <td>Manualna</td>\n",
       "      <td>NaN</td>\n",
       "      <td>Auta małe</td>\n",
       "      <td>3.0</td>\n",
       "      <td>Niebieski</td>\n",
       "      <td>...</td>\n",
       "      <td>False</td>\n",
       "      <td>False</td>\n",
       "      <td>False</td>\n",
       "      <td>False</td>\n",
       "      <td>False</td>\n",
       "      <td>False</td>\n",
       "      <td>False</td>\n",
       "      <td>False</td>\n",
       "      <td>False</td>\n",
       "      <td>False</td>\n",
       "    </tr>\n",
       "    <tr>\n",
       "      <th>1</th>\n",
       "      <td>2018</td>\n",
       "      <td>48000</td>\n",
       "      <td>1368</td>\n",
       "      <td>Benzyna</td>\n",
       "      <td>145 KM</td>\n",
       "      <td>Manualna</td>\n",
       "      <td>Na przednie koła</td>\n",
       "      <td>Auta małe</td>\n",
       "      <td>3.0</td>\n",
       "      <td>Biały</td>\n",
       "      <td>...</td>\n",
       "      <td>False</td>\n",
       "      <td>False</td>\n",
       "      <td>False</td>\n",
       "      <td>False</td>\n",
       "      <td>False</td>\n",
       "      <td>False</td>\n",
       "      <td>False</td>\n",
       "      <td>False</td>\n",
       "      <td>False</td>\n",
       "      <td>False</td>\n",
       "    </tr>\n",
       "    <tr>\n",
       "      <th>2</th>\n",
       "      <td>2016</td>\n",
       "      <td>54500</td>\n",
       "      <td>1368</td>\n",
       "      <td>Benzyna</td>\n",
       "      <td>145 KM</td>\n",
       "      <td>Manualna</td>\n",
       "      <td>Na przednie koła</td>\n",
       "      <td>Auta małe</td>\n",
       "      <td>3.0</td>\n",
       "      <td>Czerwony</td>\n",
       "      <td>...</td>\n",
       "      <td>False</td>\n",
       "      <td>False</td>\n",
       "      <td>False</td>\n",
       "      <td>False</td>\n",
       "      <td>False</td>\n",
       "      <td>False</td>\n",
       "      <td>False</td>\n",
       "      <td>False</td>\n",
       "      <td>False</td>\n",
       "      <td>False</td>\n",
       "    </tr>\n",
       "    <tr>\n",
       "      <th>3</th>\n",
       "      <td>2023</td>\n",
       "      <td>5578</td>\n",
       "      <td>1368</td>\n",
       "      <td>Benzyna</td>\n",
       "      <td>165 KM</td>\n",
       "      <td>Automatyczna</td>\n",
       "      <td>Na przednie koła</td>\n",
       "      <td>Auta małe</td>\n",
       "      <td>3.0</td>\n",
       "      <td>Szary</td>\n",
       "      <td>...</td>\n",
       "      <td>False</td>\n",
       "      <td>False</td>\n",
       "      <td>False</td>\n",
       "      <td>False</td>\n",
       "      <td>False</td>\n",
       "      <td>False</td>\n",
       "      <td>False</td>\n",
       "      <td>False</td>\n",
       "      <td>False</td>\n",
       "      <td>False</td>\n",
       "    </tr>\n",
       "    <tr>\n",
       "      <th>4</th>\n",
       "      <td>2019</td>\n",
       "      <td>116000</td>\n",
       "      <td>1368</td>\n",
       "      <td>Benzyna</td>\n",
       "      <td>165 KM</td>\n",
       "      <td>Manualna</td>\n",
       "      <td>Na przednie koła</td>\n",
       "      <td>Kompakt</td>\n",
       "      <td>3.0</td>\n",
       "      <td>Niebieski</td>\n",
       "      <td>...</td>\n",
       "      <td>False</td>\n",
       "      <td>False</td>\n",
       "      <td>False</td>\n",
       "      <td>False</td>\n",
       "      <td>False</td>\n",
       "      <td>False</td>\n",
       "      <td>False</td>\n",
       "      <td>False</td>\n",
       "      <td>False</td>\n",
       "      <td>False</td>\n",
       "    </tr>\n",
       "  </tbody>\n",
       "</table>\n",
       "<p>5 rows × 120 columns</p>\n",
       "</div>"
      ],
      "text/plain": [
       "   year_production  mileage  engine_capacity fuel_type   power       gearbox  \\\n",
       "0             2021    15900             1368   Benzyna  165 KM      Manualna   \n",
       "1             2018    48000             1368   Benzyna  145 KM      Manualna   \n",
       "2             2016    54500             1368   Benzyna  145 KM      Manualna   \n",
       "3             2023     5578             1368   Benzyna  165 KM  Automatyczna   \n",
       "4             2019   116000             1368   Benzyna  165 KM      Manualna   \n",
       "\n",
       "         drive_type  body_type  doors      color  ...  Triumph    Uaz  VELEX  \\\n",
       "0               NaN  Auta małe    3.0  Niebieski  ...    False  False  False   \n",
       "1  Na przednie koła  Auta małe    3.0      Biały  ...    False  False  False   \n",
       "2  Na przednie koła  Auta małe    3.0   Czerwony  ...    False  False  False   \n",
       "3  Na przednie koła  Auta małe    3.0      Szary  ...    False  False  False   \n",
       "4  Na przednie koła    Kompakt    3.0  Niebieski  ...    False  False  False   \n",
       "\n",
       "  Volkswagen  Volvo  Warszawa Wartburg  Wołga   e.GO    Żuk  \n",
       "0      False  False     False    False  False  False  False  \n",
       "1      False  False     False    False  False  False  False  \n",
       "2      False  False     False    False  False  False  False  \n",
       "3      False  False     False    False  False  False  False  \n",
       "4      False  False     False    False  False  False  False  \n",
       "\n",
       "[5 rows x 120 columns]"
      ]
     },
     "execution_count": 1176,
     "metadata": {},
     "output_type": "execute_result"
    }
   ],
   "source": [
    "data.head()"
   ]
  },
  {
   "cell_type": "markdown",
   "metadata": {},
   "source": [
    "### fuel_type - Fuel type"
   ]
  },
  {
   "cell_type": "code",
   "execution_count": 1177,
   "metadata": {},
   "outputs": [
    {
     "data": {
      "text/plain": [
       "0"
      ]
     },
     "execution_count": 1177,
     "metadata": {},
     "output_type": "execute_result"
    }
   ],
   "source": [
    "# Count the number of missing values\n",
    "data['fuel_type'].isna().sum()"
   ]
  },
  {
   "cell_type": "code",
   "execution_count": 1178,
   "metadata": {},
   "outputs": [
    {
     "name": "stdout",
     "output_type": "stream",
     "text": [
      "object\n"
     ]
    }
   ],
   "source": [
    "type_fuel_type = data['fuel_type'].dtype\n",
    "print(type_fuel_type)"
   ]
  },
  {
   "cell_type": "code",
   "execution_count": 1179,
   "metadata": {},
   "outputs": [
    {
     "data": {
      "text/plain": [
       "fuel_type\n",
       "Benzyna            99105\n",
       "Diesel             82904\n",
       "Benzyna+LPG         8169\n",
       "Hybryda             4777\n",
       "Hybryda Plug-in     1700\n",
       "Benzyna+CNG           46\n",
       "Wodór                  1\n",
       "Name: count, dtype: int64"
      ]
     },
     "execution_count": 1179,
     "metadata": {},
     "output_type": "execute_result"
    }
   ],
   "source": [
    "# Display unique values and their counts\n",
    "unique_fuel_type = data['fuel_type'].value_counts()\n",
    "\n",
    "unique_fuel_type"
   ]
  },
  {
   "cell_type": "code",
   "execution_count": 1180,
   "metadata": {},
   "outputs": [],
   "source": [
    "data = data[~data['fuel_type'].isin(['Benzyna+CNG', 'Wodór'])]"
   ]
  },
  {
   "cell_type": "markdown",
   "metadata": {},
   "source": [
    "perform one-hot encoding"
   ]
  },
  {
   "cell_type": "code",
   "execution_count": 1181,
   "metadata": {},
   "outputs": [],
   "source": [
    "# Perform one-hot encoding for the 'brand' column\n",
    "data = pd.get_dummies(data, columns=['fuel_type'])\n",
    "\n",
    "# Remove the 'fuel_type_' prefix from the column names\n",
    "data.columns = data.columns.str.replace('fuel_type_', '')"
   ]
  },
  {
   "cell_type": "code",
   "execution_count": 1182,
   "metadata": {},
   "outputs": [
    {
     "data": {
      "text/html": [
       "<div>\n",
       "<style scoped>\n",
       "    .dataframe tbody tr th:only-of-type {\n",
       "        vertical-align: middle;\n",
       "    }\n",
       "\n",
       "    .dataframe tbody tr th {\n",
       "        vertical-align: top;\n",
       "    }\n",
       "\n",
       "    .dataframe thead th {\n",
       "        text-align: right;\n",
       "    }\n",
       "</style>\n",
       "<table border=\"1\" class=\"dataframe\">\n",
       "  <thead>\n",
       "    <tr style=\"text-align: right;\">\n",
       "      <th></th>\n",
       "      <th>year_production</th>\n",
       "      <th>mileage</th>\n",
       "      <th>engine_capacity</th>\n",
       "      <th>power</th>\n",
       "      <th>gearbox</th>\n",
       "      <th>drive_type</th>\n",
       "      <th>body_type</th>\n",
       "      <th>doors</th>\n",
       "      <th>color</th>\n",
       "      <th>metallic</th>\n",
       "      <th>...</th>\n",
       "      <th>Warszawa</th>\n",
       "      <th>Wartburg</th>\n",
       "      <th>Wołga</th>\n",
       "      <th>e.GO</th>\n",
       "      <th>Żuk</th>\n",
       "      <th>Benzyna</th>\n",
       "      <th>Benzyna+LPG</th>\n",
       "      <th>Diesel</th>\n",
       "      <th>Hybryda</th>\n",
       "      <th>Hybryda Plug-in</th>\n",
       "    </tr>\n",
       "  </thead>\n",
       "  <tbody>\n",
       "    <tr>\n",
       "      <th>0</th>\n",
       "      <td>2021</td>\n",
       "      <td>15900</td>\n",
       "      <td>1368</td>\n",
       "      <td>165 KM</td>\n",
       "      <td>Manualna</td>\n",
       "      <td>NaN</td>\n",
       "      <td>Auta małe</td>\n",
       "      <td>3.0</td>\n",
       "      <td>Niebieski</td>\n",
       "      <td>NaN</td>\n",
       "      <td>...</td>\n",
       "      <td>False</td>\n",
       "      <td>False</td>\n",
       "      <td>False</td>\n",
       "      <td>False</td>\n",
       "      <td>False</td>\n",
       "      <td>True</td>\n",
       "      <td>False</td>\n",
       "      <td>False</td>\n",
       "      <td>False</td>\n",
       "      <td>False</td>\n",
       "    </tr>\n",
       "    <tr>\n",
       "      <th>1</th>\n",
       "      <td>2018</td>\n",
       "      <td>48000</td>\n",
       "      <td>1368</td>\n",
       "      <td>145 KM</td>\n",
       "      <td>Manualna</td>\n",
       "      <td>Na przednie koła</td>\n",
       "      <td>Auta małe</td>\n",
       "      <td>3.0</td>\n",
       "      <td>Biały</td>\n",
       "      <td>NaN</td>\n",
       "      <td>...</td>\n",
       "      <td>False</td>\n",
       "      <td>False</td>\n",
       "      <td>False</td>\n",
       "      <td>False</td>\n",
       "      <td>False</td>\n",
       "      <td>True</td>\n",
       "      <td>False</td>\n",
       "      <td>False</td>\n",
       "      <td>False</td>\n",
       "      <td>False</td>\n",
       "    </tr>\n",
       "    <tr>\n",
       "      <th>2</th>\n",
       "      <td>2016</td>\n",
       "      <td>54500</td>\n",
       "      <td>1368</td>\n",
       "      <td>145 KM</td>\n",
       "      <td>Manualna</td>\n",
       "      <td>Na przednie koła</td>\n",
       "      <td>Auta małe</td>\n",
       "      <td>3.0</td>\n",
       "      <td>Czerwony</td>\n",
       "      <td>NaN</td>\n",
       "      <td>...</td>\n",
       "      <td>False</td>\n",
       "      <td>False</td>\n",
       "      <td>False</td>\n",
       "      <td>False</td>\n",
       "      <td>False</td>\n",
       "      <td>True</td>\n",
       "      <td>False</td>\n",
       "      <td>False</td>\n",
       "      <td>False</td>\n",
       "      <td>False</td>\n",
       "    </tr>\n",
       "    <tr>\n",
       "      <th>3</th>\n",
       "      <td>2023</td>\n",
       "      <td>5578</td>\n",
       "      <td>1368</td>\n",
       "      <td>165 KM</td>\n",
       "      <td>Automatyczna</td>\n",
       "      <td>Na przednie koła</td>\n",
       "      <td>Auta małe</td>\n",
       "      <td>3.0</td>\n",
       "      <td>Szary</td>\n",
       "      <td>NaN</td>\n",
       "      <td>...</td>\n",
       "      <td>False</td>\n",
       "      <td>False</td>\n",
       "      <td>False</td>\n",
       "      <td>False</td>\n",
       "      <td>False</td>\n",
       "      <td>True</td>\n",
       "      <td>False</td>\n",
       "      <td>False</td>\n",
       "      <td>False</td>\n",
       "      <td>False</td>\n",
       "    </tr>\n",
       "    <tr>\n",
       "      <th>4</th>\n",
       "      <td>2019</td>\n",
       "      <td>116000</td>\n",
       "      <td>1368</td>\n",
       "      <td>165 KM</td>\n",
       "      <td>Manualna</td>\n",
       "      <td>Na przednie koła</td>\n",
       "      <td>Kompakt</td>\n",
       "      <td>3.0</td>\n",
       "      <td>Niebieski</td>\n",
       "      <td>NaN</td>\n",
       "      <td>...</td>\n",
       "      <td>False</td>\n",
       "      <td>False</td>\n",
       "      <td>False</td>\n",
       "      <td>False</td>\n",
       "      <td>False</td>\n",
       "      <td>True</td>\n",
       "      <td>False</td>\n",
       "      <td>False</td>\n",
       "      <td>False</td>\n",
       "      <td>False</td>\n",
       "    </tr>\n",
       "  </tbody>\n",
       "</table>\n",
       "<p>5 rows × 124 columns</p>\n",
       "</div>"
      ],
      "text/plain": [
       "   year_production  mileage  engine_capacity   power       gearbox  \\\n",
       "0             2021    15900             1368  165 KM      Manualna   \n",
       "1             2018    48000             1368  145 KM      Manualna   \n",
       "2             2016    54500             1368  145 KM      Manualna   \n",
       "3             2023     5578             1368  165 KM  Automatyczna   \n",
       "4             2019   116000             1368  165 KM      Manualna   \n",
       "\n",
       "         drive_type  body_type  doors      color  metallic  ... Warszawa  \\\n",
       "0               NaN  Auta małe    3.0  Niebieski       NaN  ...    False   \n",
       "1  Na przednie koła  Auta małe    3.0      Biały       NaN  ...    False   \n",
       "2  Na przednie koła  Auta małe    3.0   Czerwony       NaN  ...    False   \n",
       "3  Na przednie koła  Auta małe    3.0      Szary       NaN  ...    False   \n",
       "4  Na przednie koła    Kompakt    3.0  Niebieski       NaN  ...    False   \n",
       "\n",
       "   Wartburg  Wołga   e.GO    Żuk Benzyna  Benzyna+LPG  Diesel  Hybryda  \\\n",
       "0     False  False  False  False    True        False   False    False   \n",
       "1     False  False  False  False    True        False   False    False   \n",
       "2     False  False  False  False    True        False   False    False   \n",
       "3     False  False  False  False    True        False   False    False   \n",
       "4     False  False  False  False    True        False   False    False   \n",
       "\n",
       "   Hybryda Plug-in  \n",
       "0            False  \n",
       "1            False  \n",
       "2            False  \n",
       "3            False  \n",
       "4            False  \n",
       "\n",
       "[5 rows x 124 columns]"
      ]
     },
     "execution_count": 1182,
     "metadata": {},
     "output_type": "execute_result"
    }
   ],
   "source": [
    "data.head()"
   ]
  },
  {
   "cell_type": "markdown",
   "metadata": {},
   "source": [
    "### power"
   ]
  },
  {
   "cell_type": "code",
   "execution_count": 1183,
   "metadata": {},
   "outputs": [
    {
     "data": {
      "text/plain": [
       "67"
      ]
     },
     "execution_count": 1183,
     "metadata": {},
     "output_type": "execute_result"
    }
   ],
   "source": [
    "# Count the number of missing values\n",
    "data['power'].isna().sum()"
   ]
  },
  {
   "cell_type": "code",
   "execution_count": 1184,
   "metadata": {},
   "outputs": [],
   "source": [
    "# Remove rows with missing values\n",
    "data = data.dropna(subset=['power'])"
   ]
  },
  {
   "cell_type": "code",
   "execution_count": 1185,
   "metadata": {},
   "outputs": [
    {
     "name": "stdout",
     "output_type": "stream",
     "text": [
      "object\n"
     ]
    }
   ],
   "source": [
    "type_power = data['power'].dtype\n",
    "print(type_power)"
   ]
  },
  {
   "cell_type": "code",
   "execution_count": 1186,
   "metadata": {},
   "outputs": [
    {
     "name": "stdout",
     "output_type": "stream",
     "text": [
      "0    165\n",
      "1    145\n",
      "2    145\n",
      "3    165\n",
      "4    165\n",
      "Name: power, dtype: int32\n"
     ]
    }
   ],
   "source": [
    "# Remove ' km' from the strings and any spaces, then convert to integer\n",
    "data['power'] = data['power'].str.replace(' KM', '').str.replace(' ', '').astype(int)\n",
    "\n",
    "# Check the result\n",
    "print(data['power'].head())"
   ]
  },
  {
   "cell_type": "code",
   "execution_count": 1187,
   "metadata": {},
   "outputs": [
    {
     "data": {
      "text/plain": [
       "power\n",
       "150     17594\n",
       "140      8169\n",
       "190      8101\n",
       "130      7061\n",
       "110      6744\n",
       "        ...  \n",
       "2498        1\n",
       "617         1\n",
       "523         1\n",
       "3           1\n",
       "567         1\n",
       "Name: count, Length: 568, dtype: int64"
      ]
     },
     "execution_count": 1187,
     "metadata": {},
     "output_type": "execute_result"
    }
   ],
   "source": [
    "# Display unique values and their counts\n",
    "unique_power = data['power'].value_counts()\n",
    "\n",
    "unique_power"
   ]
  },
  {
   "cell_type": "code",
   "execution_count": 1188,
   "metadata": {},
   "outputs": [
    {
     "name": "stdout",
     "output_type": "stream",
     "text": [
      "count    196588.000000\n",
      "mean        166.439142\n",
      "std          89.354123\n",
      "min           1.000000\n",
      "25%         113.000000\n",
      "50%         149.000000\n",
      "75%         190.000000\n",
      "max        9999.000000\n",
      "Name: power, dtype: float64\n"
     ]
    }
   ],
   "source": [
    "# Summary statistics \n",
    "power_stats = data['power'].describe()\n",
    "print(power_stats)"
   ]
  },
  {
   "cell_type": "code",
   "execution_count": 1189,
   "metadata": {},
   "outputs": [],
   "source": [
    "# Remove extreme outliers for better visualization\n",
    "data = data[(data['power'] < 1501) & (data['power'] > 4)]"
   ]
  },
  {
   "cell_type": "code",
   "execution_count": 1190,
   "metadata": {},
   "outputs": [
    {
     "data": {
      "image/png": "[encoded data removed]",
      "text/plain": [
       "<Figure size 1000x600 with 1 Axes>"
      ]
     },
     "metadata": {},
     "output_type": "display_data"
    }
   ],
   "source": [
    "# Plot the histogram\n",
    "plt.figure(figsize=(10, 6))\n",
    "plt.hist(data['power'], bins=30, edgecolor='black')\n",
    "plt.title('Distribution of power')\n",
    "plt.xlabel('Power')\n",
    "plt.ylabel('Frequency')\n",
    "plt.grid(True)\n",
    "plt.show()"
   ]
  },
  {
   "cell_type": "code",
   "execution_count": 1191,
   "metadata": {},
   "outputs": [
    {
     "data": {
      "image/png": "[encoded data removed]",
      "text/plain": [
       "<Figure size 1000x600 with 1 Axes>"
      ]
     },
     "metadata": {},
     "output_type": "display_data"
    }
   ],
   "source": [
    "# Plot the scatter plot\n",
    "plt.figure(figsize=(10, 6))\n",
    "plt.scatter(data['power'], data['price'], alpha=0.5)\n",
    "plt.title('Relationship between power and Price')\n",
    "plt.xlabel('Power')\n",
    "plt.ylabel('Price')\n",
    "plt.grid(True)\n",
    "plt.show()"
   ]
  },
  {
   "cell_type": "code",
   "execution_count": 1192,
   "metadata": {},
   "outputs": [
    {
     "data": {
      "text/html": [
       "<div>\n",
       "<style scoped>\n",
       "    .dataframe tbody tr th:only-of-type {\n",
       "        vertical-align: middle;\n",
       "    }\n",
       "\n",
       "    .dataframe tbody tr th {\n",
       "        vertical-align: top;\n",
       "    }\n",
       "\n",
       "    .dataframe thead th {\n",
       "        text-align: right;\n",
       "    }\n",
       "</style>\n",
       "<table border=\"1\" class=\"dataframe\">\n",
       "  <thead>\n",
       "    <tr style=\"text-align: right;\">\n",
       "      <th></th>\n",
       "      <th>year_production</th>\n",
       "      <th>mileage</th>\n",
       "      <th>engine_capacity</th>\n",
       "      <th>power</th>\n",
       "      <th>gearbox</th>\n",
       "      <th>drive_type</th>\n",
       "      <th>body_type</th>\n",
       "      <th>doors</th>\n",
       "      <th>color</th>\n",
       "      <th>metallic</th>\n",
       "      <th>...</th>\n",
       "      <th>Warszawa</th>\n",
       "      <th>Wartburg</th>\n",
       "      <th>Wołga</th>\n",
       "      <th>e.GO</th>\n",
       "      <th>Żuk</th>\n",
       "      <th>Benzyna</th>\n",
       "      <th>Benzyna+LPG</th>\n",
       "      <th>Diesel</th>\n",
       "      <th>Hybryda</th>\n",
       "      <th>Hybryda Plug-in</th>\n",
       "    </tr>\n",
       "  </thead>\n",
       "  <tbody>\n",
       "    <tr>\n",
       "      <th>0</th>\n",
       "      <td>2021</td>\n",
       "      <td>15900</td>\n",
       "      <td>1368</td>\n",
       "      <td>165</td>\n",
       "      <td>Manualna</td>\n",
       "      <td>NaN</td>\n",
       "      <td>Auta małe</td>\n",
       "      <td>3.0</td>\n",
       "      <td>Niebieski</td>\n",
       "      <td>NaN</td>\n",
       "      <td>...</td>\n",
       "      <td>False</td>\n",
       "      <td>False</td>\n",
       "      <td>False</td>\n",
       "      <td>False</td>\n",
       "      <td>False</td>\n",
       "      <td>True</td>\n",
       "      <td>False</td>\n",
       "      <td>False</td>\n",
       "      <td>False</td>\n",
       "      <td>False</td>\n",
       "    </tr>\n",
       "    <tr>\n",
       "      <th>1</th>\n",
       "      <td>2018</td>\n",
       "      <td>48000</td>\n",
       "      <td>1368</td>\n",
       "      <td>145</td>\n",
       "      <td>Manualna</td>\n",
       "      <td>Na przednie koła</td>\n",
       "      <td>Auta małe</td>\n",
       "      <td>3.0</td>\n",
       "      <td>Biały</td>\n",
       "      <td>NaN</td>\n",
       "      <td>...</td>\n",
       "      <td>False</td>\n",
       "      <td>False</td>\n",
       "      <td>False</td>\n",
       "      <td>False</td>\n",
       "      <td>False</td>\n",
       "      <td>True</td>\n",
       "      <td>False</td>\n",
       "      <td>False</td>\n",
       "      <td>False</td>\n",
       "      <td>False</td>\n",
       "    </tr>\n",
       "    <tr>\n",
       "      <th>2</th>\n",
       "      <td>2016</td>\n",
       "      <td>54500</td>\n",
       "      <td>1368</td>\n",
       "      <td>145</td>\n",
       "      <td>Manualna</td>\n",
       "      <td>Na przednie koła</td>\n",
       "      <td>Auta małe</td>\n",
       "      <td>3.0</td>\n",
       "      <td>Czerwony</td>\n",
       "      <td>NaN</td>\n",
       "      <td>...</td>\n",
       "      <td>False</td>\n",
       "      <td>False</td>\n",
       "      <td>False</td>\n",
       "      <td>False</td>\n",
       "      <td>False</td>\n",
       "      <td>True</td>\n",
       "      <td>False</td>\n",
       "      <td>False</td>\n",
       "      <td>False</td>\n",
       "      <td>False</td>\n",
       "    </tr>\n",
       "    <tr>\n",
       "      <th>3</th>\n",
       "      <td>2023</td>\n",
       "      <td>5578</td>\n",
       "      <td>1368</td>\n",
       "      <td>165</td>\n",
       "      <td>Automatyczna</td>\n",
       "      <td>Na przednie koła</td>\n",
       "      <td>Auta małe</td>\n",
       "      <td>3.0</td>\n",
       "      <td>Szary</td>\n",
       "      <td>NaN</td>\n",
       "      <td>...</td>\n",
       "      <td>False</td>\n",
       "      <td>False</td>\n",
       "      <td>False</td>\n",
       "      <td>False</td>\n",
       "      <td>False</td>\n",
       "      <td>True</td>\n",
       "      <td>False</td>\n",
       "      <td>False</td>\n",
       "      <td>False</td>\n",
       "      <td>False</td>\n",
       "    </tr>\n",
       "    <tr>\n",
       "      <th>4</th>\n",
       "      <td>2019</td>\n",
       "      <td>116000</td>\n",
       "      <td>1368</td>\n",
       "      <td>165</td>\n",
       "      <td>Manualna</td>\n",
       "      <td>Na przednie koła</td>\n",
       "      <td>Kompakt</td>\n",
       "      <td>3.0</td>\n",
       "      <td>Niebieski</td>\n",
       "      <td>NaN</td>\n",
       "      <td>...</td>\n",
       "      <td>False</td>\n",
       "      <td>False</td>\n",
       "      <td>False</td>\n",
       "      <td>False</td>\n",
       "      <td>False</td>\n",
       "      <td>True</td>\n",
       "      <td>False</td>\n",
       "      <td>False</td>\n",
       "      <td>False</td>\n",
       "      <td>False</td>\n",
       "    </tr>\n",
       "  </tbody>\n",
       "</table>\n",
       "<p>5 rows × 124 columns</p>\n",
       "</div>"
      ],
      "text/plain": [
       "   year_production  mileage  engine_capacity  power       gearbox  \\\n",
       "0             2021    15900             1368    165      Manualna   \n",
       "1             2018    48000             1368    145      Manualna   \n",
       "2             2016    54500             1368    145      Manualna   \n",
       "3             2023     5578             1368    165  Automatyczna   \n",
       "4             2019   116000             1368    165      Manualna   \n",
       "\n",
       "         drive_type  body_type  doors      color  metallic  ... Warszawa  \\\n",
       "0               NaN  Auta małe    3.0  Niebieski       NaN  ...    False   \n",
       "1  Na przednie koła  Auta małe    3.0      Biały       NaN  ...    False   \n",
       "2  Na przednie koła  Auta małe    3.0   Czerwony       NaN  ...    False   \n",
       "3  Na przednie koła  Auta małe    3.0      Szary       NaN  ...    False   \n",
       "4  Na przednie koła    Kompakt    3.0  Niebieski       NaN  ...    False   \n",
       "\n",
       "   Wartburg  Wołga   e.GO    Żuk Benzyna  Benzyna+LPG  Diesel  Hybryda  \\\n",
       "0     False  False  False  False    True        False   False    False   \n",
       "1     False  False  False  False    True        False   False    False   \n",
       "2     False  False  False  False    True        False   False    False   \n",
       "3     False  False  False  False    True        False   False    False   \n",
       "4     False  False  False  False    True        False   False    False   \n",
       "\n",
       "   Hybryda Plug-in  \n",
       "0            False  \n",
       "1            False  \n",
       "2            False  \n",
       "3            False  \n",
       "4            False  \n",
       "\n",
       "[5 rows x 124 columns]"
      ]
     },
     "execution_count": 1192,
     "metadata": {},
     "output_type": "execute_result"
    }
   ],
   "source": [
    "data.head()"
   ]
  },
  {
   "cell_type": "markdown",
   "metadata": {},
   "source": [
    "### gearbox"
   ]
  },
  {
   "cell_type": "markdown",
   "metadata": {},
   "source": [
    "### drive_type - Drive type"
   ]
  },
  {
   "cell_type": "markdown",
   "metadata": {},
   "source": [
    "### body_type - Body type"
   ]
  },
  {
   "cell_type": "markdown",
   "metadata": {},
   "source": [
    "### doors - Number of doors"
   ]
  },
  {
   "cell_type": "markdown",
   "metadata": {},
   "source": [
    "### color\t"
   ]
  },
  {
   "cell_type": "markdown",
   "metadata": {},
   "source": [
    "### metallic - Metallic paint"
   ]
  },
  {
   "cell_type": "markdown",
   "metadata": {},
   "source": [
    "### country_origin - Country of origin"
   ]
  },
  {
   "cell_type": "markdown",
   "metadata": {},
   "source": [
    "### first_owner\t- First owner"
   ]
  },
  {
   "cell_type": "markdown",
   "metadata": {},
   "source": [
    "### accident_free - Accident-free vehicle"
   ]
  },
  {
   "cell_type": "markdown",
   "metadata": {},
   "source": [
    "### condition\t"
   ]
  },
  {
   "cell_type": "markdown",
   "metadata": {},
   "source": [
    "### price\t"
   ]
  },
  {
   "cell_type": "markdown",
   "metadata": {},
   "source": [
    "### currency"
   ]
  },
  {
   "cell_type": "code",
   "execution_count": 10,
   "metadata": {},
   "outputs": [
    {
     "name": "stdout",
     "output_type": "stream",
     "text": [
      "Kierownica po prawej (Anglik)\n",
      "Tak    340\n",
      "Name: count, dtype: int64\n"
     ]
    }
   ],
   "source": [
    "# Display unique values and their counts\n",
    "unique_values_counts = data['brand'].value_counts()\n",
    "\n",
    "print(unique_values_counts)"
   ]
  },
  {
   "cell_type": "code",
   "execution_count": null,
   "metadata": {},
   "outputs": [],
   "source": [
    "# Count the number of missing values\n",
    "missing_brand_count = data['Brand of the vehicle'].isna().sum()"
   ]
  },
  {
   "cell_type": "markdown",
   "metadata": {},
   "source": []
  },
  {
   "cell_type": "markdown",
   "metadata": {},
   "source": []
  },
  {
   "cell_type": "markdown",
   "metadata": {},
   "source": []
  },
  {
   "cell_type": "markdown",
   "metadata": {},
   "source": []
  },
  {
   "cell_type": "markdown",
   "metadata": {},
   "source": []
  },
  {
   "cell_type": "markdown",
   "metadata": {},
   "source": [
    "Remove all rows where 'Kierownica po prawej (Anglik)' is 'tak', because the price of cars with the steering wheel on the right is significantly different from their equivalent with the steering wheel on the left"
   ]
  },
  {
   "cell_type": "code",
   "execution_count": 11,
   "metadata": {},
   "outputs": [],
   "source": [
    "# Remove all rows where 'Kierownica po prawej (Anglik)' is 'tak'\n",
    "data = data[data['Kierownica po prawej (Anglik)'] != 'Tak']"
   ]
  },
  {
   "cell_type": "code",
   "execution_count": 12,
   "metadata": {},
   "outputs": [
    {
     "data": {
      "text/html": [
       "<div>\n",
       "<style scoped>\n",
       "    .dataframe tbody tr th:only-of-type {\n",
       "        vertical-align: middle;\n",
       "    }\n",
       "\n",
       "    .dataframe tbody tr th {\n",
       "        vertical-align: top;\n",
       "    }\n",
       "\n",
       "    .dataframe thead th {\n",
       "        text-align: right;\n",
       "    }\n",
       "</style>\n",
       "<table border=\"1\" class=\"dataframe\">\n",
       "  <thead>\n",
       "    <tr style=\"text-align: right;\">\n",
       "      <th></th>\n",
       "      <th>Marka pojazdu</th>\n",
       "      <th>Model pojazdu</th>\n",
       "      <th>Rok produkcji</th>\n",
       "      <th>Przebieg</th>\n",
       "      <th>Pojemność skokowa</th>\n",
       "      <th>Rodzaj paliwa</th>\n",
       "      <th>Moc</th>\n",
       "      <th>Skrzynia biegów</th>\n",
       "      <th>Napęd</th>\n",
       "      <th>Typ nadwozia</th>\n",
       "      <th>Liczba drzwi</th>\n",
       "      <th>Kolor</th>\n",
       "      <th>Metalik</th>\n",
       "      <th>Kraj pochodzenia</th>\n",
       "      <th>Pierwszy właściciel</th>\n",
       "      <th>Bezwypadkowy</th>\n",
       "      <th>Stan</th>\n",
       "      <th>Cena</th>\n",
       "      <th>Waluta</th>\n",
       "    </tr>\n",
       "  </thead>\n",
       "  <tbody>\n",
       "    <tr>\n",
       "      <th>0</th>\n",
       "      <td>Abarth</td>\n",
       "      <td>595</td>\n",
       "      <td>2021.0</td>\n",
       "      <td>15 900 km</td>\n",
       "      <td>1 368 cm3</td>\n",
       "      <td>Benzyna</td>\n",
       "      <td>165 KM</td>\n",
       "      <td>Manualna</td>\n",
       "      <td>NaN</td>\n",
       "      <td>Auta małe</td>\n",
       "      <td>3.0</td>\n",
       "      <td>Niebieski</td>\n",
       "      <td>NaN</td>\n",
       "      <td>NaN</td>\n",
       "      <td>NaN</td>\n",
       "      <td>NaN</td>\n",
       "      <td>Używane</td>\n",
       "      <td>65000</td>\n",
       "      <td>PLN</td>\n",
       "    </tr>\n",
       "    <tr>\n",
       "      <th>1</th>\n",
       "      <td>Abarth</td>\n",
       "      <td>595</td>\n",
       "      <td>2018.0</td>\n",
       "      <td>48 000 km</td>\n",
       "      <td>1 368 cm3</td>\n",
       "      <td>Benzyna</td>\n",
       "      <td>145 KM</td>\n",
       "      <td>Manualna</td>\n",
       "      <td>Na przednie koła</td>\n",
       "      <td>Auta małe</td>\n",
       "      <td>3.0</td>\n",
       "      <td>Biały</td>\n",
       "      <td>NaN</td>\n",
       "      <td>Polska</td>\n",
       "      <td>NaN</td>\n",
       "      <td>Tak</td>\n",
       "      <td>Używane</td>\n",
       "      <td>82999</td>\n",
       "      <td>PLN</td>\n",
       "    </tr>\n",
       "    <tr>\n",
       "      <th>2</th>\n",
       "      <td>Abarth</td>\n",
       "      <td>595</td>\n",
       "      <td>2016.0</td>\n",
       "      <td>54 500 km</td>\n",
       "      <td>1 368 cm3</td>\n",
       "      <td>Benzyna</td>\n",
       "      <td>145 KM</td>\n",
       "      <td>Manualna</td>\n",
       "      <td>Na przednie koła</td>\n",
       "      <td>Auta małe</td>\n",
       "      <td>3.0</td>\n",
       "      <td>Czerwony</td>\n",
       "      <td>NaN</td>\n",
       "      <td>NaN</td>\n",
       "      <td>NaN</td>\n",
       "      <td>NaN</td>\n",
       "      <td>Używane</td>\n",
       "      <td>59900</td>\n",
       "      <td>PLN</td>\n",
       "    </tr>\n",
       "    <tr>\n",
       "      <th>3</th>\n",
       "      <td>Abarth</td>\n",
       "      <td>500</td>\n",
       "      <td>2023.0</td>\n",
       "      <td>5 578 km</td>\n",
       "      <td>1 368 cm3</td>\n",
       "      <td>Benzyna</td>\n",
       "      <td>165 KM</td>\n",
       "      <td>Automatyczna</td>\n",
       "      <td>Na przednie koła</td>\n",
       "      <td>Auta małe</td>\n",
       "      <td>3.0</td>\n",
       "      <td>Szary</td>\n",
       "      <td>NaN</td>\n",
       "      <td>Polska</td>\n",
       "      <td>NaN</td>\n",
       "      <td>Tak</td>\n",
       "      <td>Używane</td>\n",
       "      <td>135000</td>\n",
       "      <td>PLN</td>\n",
       "    </tr>\n",
       "    <tr>\n",
       "      <th>4</th>\n",
       "      <td>Abarth</td>\n",
       "      <td>595</td>\n",
       "      <td>2019.0</td>\n",
       "      <td>116 000 km</td>\n",
       "      <td>1 368 cm3</td>\n",
       "      <td>Benzyna</td>\n",
       "      <td>165 KM</td>\n",
       "      <td>Manualna</td>\n",
       "      <td>Na przednie koła</td>\n",
       "      <td>Kompakt</td>\n",
       "      <td>3.0</td>\n",
       "      <td>Niebieski</td>\n",
       "      <td>NaN</td>\n",
       "      <td>Włochy</td>\n",
       "      <td>NaN</td>\n",
       "      <td>Tak</td>\n",
       "      <td>Używane</td>\n",
       "      <td>79900</td>\n",
       "      <td>PLN</td>\n",
       "    </tr>\n",
       "  </tbody>\n",
       "</table>\n",
       "</div>"
      ],
      "text/plain": [
       "  Marka pojazdu Model pojazdu  Rok produkcji    Przebieg Pojemność skokowa  \\\n",
       "0        Abarth           595         2021.0   15 900 km         1 368 cm3   \n",
       "1        Abarth           595         2018.0   48 000 km         1 368 cm3   \n",
       "2        Abarth           595         2016.0   54 500 km         1 368 cm3   \n",
       "3        Abarth           500         2023.0    5 578 km         1 368 cm3   \n",
       "4        Abarth           595         2019.0  116 000 km         1 368 cm3   \n",
       "\n",
       "  Rodzaj paliwa     Moc Skrzynia biegów             Napęd Typ nadwozia  \\\n",
       "0       Benzyna  165 KM        Manualna               NaN    Auta małe   \n",
       "1       Benzyna  145 KM        Manualna  Na przednie koła    Auta małe   \n",
       "2       Benzyna  145 KM        Manualna  Na przednie koła    Auta małe   \n",
       "3       Benzyna  165 KM    Automatyczna  Na przednie koła    Auta małe   \n",
       "4       Benzyna  165 KM        Manualna  Na przednie koła      Kompakt   \n",
       "\n",
       "   Liczba drzwi      Kolor  Metalik Kraj pochodzenia  Pierwszy właściciel  \\\n",
       "0           3.0  Niebieski      NaN              NaN                  NaN   \n",
       "1           3.0      Biały      NaN           Polska                  NaN   \n",
       "2           3.0   Czerwony      NaN              NaN                  NaN   \n",
       "3           3.0      Szary      NaN           Polska                  NaN   \n",
       "4           3.0  Niebieski      NaN           Włochy                  NaN   \n",
       "\n",
       "  Bezwypadkowy     Stan    Cena Waluta  \n",
       "0          NaN  Używane   65000    PLN  \n",
       "1          Tak  Używane   82999    PLN  \n",
       "2          NaN  Używane   59900    PLN  \n",
       "3          Tak  Używane  135000    PLN  \n",
       "4          Tak  Używane   79900    PLN  "
      ]
     },
     "execution_count": 12,
     "metadata": {},
     "output_type": "execute_result"
    }
   ],
   "source": [
    "# Retain only specific columns which are relevant for this project\n",
    "columns_to_keep = [\n",
    "    'Marka pojazdu', 'Model pojazdu', 'Rok produkcji', 'Przebieg', 'Pojemność skokowa', 'Rodzaj paliwa', \n",
    "    'Moc', 'Skrzynia biegów', 'Napęd', 'Typ nadwozia', 'Liczba drzwi', 'Kolor', 'Metalik', \n",
    "    'Kraj pochodzenia', 'Pierwszy właściciel', 'Bezwypadkowy', 'Stan', 'Cena', 'Waluta'\n",
    "]\n",
    "\n",
    "# Select only the specified columns\n",
    "data = data[columns_to_keep]\n",
    "data.head()"
   ]
  },
  {
   "cell_type": "markdown",
   "metadata": {},
   "source": [
    "Write the cleaned data frame to a new CSV file"
   ]
  },
  {
   "cell_type": "code",
   "execution_count": 13,
   "metadata": {},
   "outputs": [],
   "source": [
    "data.to_csv('data\\\\data_overview.csv', index=False) "
   ]
  }
 ],
 "metadata": {
  "kernelspec": {
   "display_name": "base",
   "language": "python",
   "name": "python3"
  },
  "language_info": {
   "codemirror_mode": {
    "name": "ipython",
    "version": 3
   },
   "file_extension": ".py",
   "mimetype": "text/x-python",
   "name": "python",
   "nbconvert_exporter": "python",
   "pygments_lexer": "ipython3",
   "version": "3.11.5"
  }
 },
 "nbformat": 4,
 "nbformat_minor": 2
}
